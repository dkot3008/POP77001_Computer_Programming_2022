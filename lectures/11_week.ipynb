{
 "cells": [
  {
   "cell_type": "code",
   "execution_count": 1,
   "id": "d346352a",
   "metadata": {
    "slideshow": {
     "slide_type": "skip"
    }
   },
   "outputs": [],
   "source": [
    "import pandas as pd"
   ]
  },
  {
   "cell_type": "markdown",
   "id": "899f0355",
   "metadata": {
    "slideshow": {
     "slide_type": "slide"
    }
   },
   "source": [
    "## Week 11: Classes and Object-oriented Programming \n",
    "\n",
    "### POP77001 Computer Programming for Social Scientists\n",
    "\n",
    "### Tom Paskhalis\n",
    "\n",
    "##### 21 November 2022\n",
    "\n",
    "##### Module website: [tinyurl.com/POP77001](https://tinyurl.com/POP77001)"
   ]
  },
  {
   "cell_type": "markdown",
   "id": "29695381",
   "metadata": {
    "slideshow": {
     "slide_type": "slide"
    }
   },
   "source": [
    "## Overview\n",
    "\n",
    "- Abstraction and decomposition\n",
    "- Object attributes\n",
    "- Object-oriented programming (OOP)\n",
    "- Classes\n",
    "- Methods\n",
    "- Class inheritance"
   ]
  },
  {
   "cell_type": "markdown",
   "id": "bb0286d7",
   "metadata": {
    "slideshow": {
     "slide_type": "slide"
    }
   },
   "source": [
    "## Recap: Python conceptual hierarchy\n",
    "\n",
    "Python programs can be decomposed into modules, statements, expressions, and objects, as follows:\n",
    "\n",
    "1. **Programs** are composed of **modules**.\n",
    "2. **Modules** contain **statements**.\n",
    "3. **Statements** contain **expressions**\n",
    "4. **Expressions** create and process **objects**."
   ]
  },
  {
   "cell_type": "markdown",
   "id": "5146bce3",
   "metadata": {
    "slideshow": {
     "slide_type": "slide"
    }
   },
   "source": [
    "## Recap: Python objects\n",
    "\n",
    "- Everything that Python operates on is an **object**.\n",
    "- This includes numbers, strings, data structures, functions, etc.\n",
    "- Eact object has a **type** (e.g. string or function) and internal **data**.\n",
    "- Objects can be **mutable** (e.g. list) and **immutable** (e.g. string)."
   ]
  },
  {
   "cell_type": "markdown",
   "id": "085684f3",
   "metadata": {
    "slideshow": {
     "slide_type": "slide"
    }
   },
   "source": [
    "## Recap: Decomposition and Abstraction\n",
    "\n",
    "<table>\n",
    "    <tr>\n",
    "<!--         <td><div><img width=\"500\" src='../imgs/kallax_white_square.jpg'></div></td> -->\n",
    "        <td><div><img width=\"500\" src='https://www.ikea.com/us/en/images/products/kallax-shelf-unit-high-gloss-white__0644755_pe702941_s5.jpg'></div></td>\n",
    "<!--         <td><div><img width=\"500\" src='../imgs/kallax_black_vertical.jpg'></div></td> -->\n",
    "        <td><div><img width=\"500\" src='https://www.ikea.com/us/en/images/products/kallax-shelf-unit-black-brown__0625059_pe692080_s5.jpg'></div></td>\n",
    "<!--         <td><div><img width=\"500\" src='../imgs/kallax_brown_big_square.jpg'></div></td> -->\n",
    "        <td><div><img width=\"500\" src='https://www.ikea.com/us/en/images/products/kallax-shelf-unit-walnut-effect-light-gray__0541543_pe653650_s5.jpg'></div></td>\n",
    "    </tr>\n",
    "</table>\n",
    "\n",
    "Source: [IKEA](https://www.ikea.com/us/en/cat/kallax-series-27534/)"
   ]
  },
  {
   "cell_type": "markdown",
   "id": "cc0ba13e",
   "metadata": {
    "slideshow": {
     "slide_type": "slide"
    }
   },
   "source": [
    "## Achieving Decomposition and Abstraction\n",
    "\n",
    "- So far: modules, functions.\n",
    "- But modules and functions only abstract **code**.\n",
    "- Not **data**.\n",
    "- Hence, we need something else.\n",
    "- **Classes**!"
   ]
  },
  {
   "cell_type": "markdown",
   "id": "56815545",
   "metadata": {
    "slideshow": {
     "slide_type": "slide"
    }
   },
   "source": [
    "## Abstraction\n",
    "\n",
    "<table>\n",
    "    <tr>\n",
    "<!--         <td><div><img width=\"300\" src='../imgs/vitruvian_man.jpg'></div></td> -->\n",
    "        <td><div><img width=\"300\" src=\"https://gallerieaccademia.it/sites/default/files/repository/media/images/2022-08/INTERO%20-%20Leonardo-228_40692.jpg\"></div></td>\n",
    "        <td><div><img width=\"500\" src=\"../imgs/neumann_architecture.png\"></div></td>\n",
    "<!--         <td><div><img width=\"300\" src=\"\"></div></td> -->\n",
    "    </tr>\n",
    "</table>\n",
    "\n",
    "Source: [Gallerie dell'Accademia](https://gallerieaccademia.it/en/study-proportions-human-body-known-vitruvian-man), [Wikipedia](https://en.wikipedia.org/wiki/Von_Neumann_architecture)"
   ]
  },
  {
   "cell_type": "markdown",
   "id": "c5ce7d6c",
   "metadata": {
    "slideshow": {
     "slide_type": "slide"
    }
   },
   "source": [
    "## Python objects we have seen so far\n",
    "\n",
    "- Built-in types (integers, strings, lists, etc.)\n",
    "- Imported from external packages (arrays, data frames, etc.)"
   ]
  },
  {
   "cell_type": "code",
   "execution_count": 2,
   "id": "27245348",
   "metadata": {
    "slideshow": {
     "slide_type": "fragment"
    }
   },
   "outputs": [],
   "source": [
    "s = 'watermelon'\n",
    "sr = pd.Series([7, 1, 19])"
   ]
  },
  {
   "cell_type": "markdown",
   "id": "00683ec8",
   "metadata": {
    "slideshow": {
     "slide_type": "fragment"
    }
   },
   "source": [
    "Note the syntactic similarity between the two lines below:"
   ]
  },
  {
   "cell_type": "code",
   "execution_count": 3,
   "id": "deedc9d8",
   "metadata": {
    "slideshow": {
     "slide_type": "fragment"
    }
   },
   "outputs": [
    {
     "data": {
      "text/plain": [
       "<function str.upper()>"
      ]
     },
     "execution_count": 3,
     "metadata": {},
     "output_type": "execute_result"
    }
   ],
   "source": [
    "s.upper"
   ]
  },
  {
   "cell_type": "code",
   "execution_count": 4,
   "id": "d928099d",
   "metadata": {
    "slideshow": {
     "slide_type": "fragment"
    }
   },
   "outputs": [
    {
     "data": {
      "text/plain": [
       "(3,)"
      ]
     },
     "execution_count": 4,
     "metadata": {},
     "output_type": "execute_result"
    }
   ],
   "source": [
    "sr.shape"
   ]
  },
  {
   "cell_type": "markdown",
   "id": "e65696ff",
   "metadata": {
    "slideshow": {
     "slide_type": "slide"
    }
   },
   "source": [
    "## Python object attributes\n",
    "\n",
    "- Attributes are objects that are associated with a specific type.\n",
    "- The constitute the essence of object-oriented programming in Python.\n",
    "\n",
    "```\n",
    "object.attribute\n",
    "```\n",
    "\n",
    "- This expression effectively means:\n",
    "\n",
    "> Find the first occurrence of attribute by looking in `object`, then in all classes above it."
   ]
  },
  {
   "cell_type": "markdown",
   "id": "92214c15",
   "metadata": {
    "slideshow": {
     "slide_type": "slide"
    }
   },
   "source": [
    "## Object-based vs Object-oriented programming\n",
    "\n",
    "- Until now our code was **object-based**.\n",
    "- We created and passed objects around our programs.\n",
    "- For our code to be truly **object-oriented**,\n",
    "- Our objects need to be part of **inheritance hierarchy**."
   ]
  },
  {
   "cell_type": "markdown",
   "id": "c245fc0b",
   "metadata": {
    "slideshow": {
     "slide_type": "slide"
    }
   },
   "source": [
    "## Procedural vs Object-oriented programming\n",
    "\n",
    "<div style=\"text-align: center;\">\n",
    "    <img width=\"700\" height=\"500\" src=\"../imgs/oop.png\">\n",
    "</div>"
   ]
  },
  {
   "cell_type": "markdown",
   "id": "d8e9467d",
   "metadata": {
    "slideshow": {
     "slide_type": "slide"
    }
   },
   "source": [
    "<div style=\"text-align: center;\">\n",
    "    <img width=\"400\" height=\"400\" src=\"https://images.prismic.io/wellcomecollection/19542ecfb530b8ccfa234bd2f10f2a314621f8ae_tamagotchi-abuse.jpg\">\n",
    "<!--     <img width=\"700\" height=\"500\" src=\"../imgs/tamagotchi.jpg\"> -->\n",
    "</div>\n",
    "\n",
    "Source: [Wellcome Collection](https://wellcomecollection.org/articles/WsT4Ex8AAHruGfWb)  \n",
    "Extra: [The Rise of Virtual Pets](https://www.youtube.com/watch?v=g30wI8Jc4Y0)"
   ]
  },
  {
   "cell_type": "markdown",
   "id": "fd33a072",
   "metadata": {
    "slideshow": {
     "slide_type": "slide"
    }
   },
   "source": [
    "## Class definition"
   ]
  },
  {
   "cell_type": "code",
   "execution_count": 5,
   "id": "37cf3690",
   "metadata": {
    "slideshow": {
     "slide_type": "fragment"
    }
   },
   "outputs": [],
   "source": [
    "from datetime import date\n",
    "\n",
    "class Tamagotchi(object):\n",
    "    \"\"\"Creates a new Tamagotchi and gives it a name\"\"\"\n",
    "    def __init__(self, name, birthdate = date.today()):\n",
    "        self.name = name\n",
    "        self.birthdate = birthdate\n",
    "        self.food = 0\n",
    "    def get_age(self):\n",
    "        \"\"\"Get Tamagotchi's name in days\"\"\"\n",
    "        return date.today() - self.birthdate\n",
    "    def feed(self):\n",
    "        \"\"\"Give Tamagotchi some food\"\"\"\n",
    "        self.food += 1\n",
    "    def play(self):\n",
    "        \"\"\"Play with Tamagotchi\"\"\"\n",
    "        self.food -= 1\n",
    "    def __str__(self):\n",
    "        return (self.name + ' - ' +\n",
    "                'Age: ' + str(self.get_age().days) + ' days ' +\n",
    "                'Food: ' + str(self.food))"
   ]
  },
  {
   "cell_type": "markdown",
   "id": "4c674989",
   "metadata": {
    "slideshow": {
     "slide_type": "slide"
    }
   },
   "source": [
    "## Class definition explained\n",
    "\n",
    "- Class: `Tamagotchi`\n",
    "- Data attributes:\n",
    "    - `name` - name given as string\n",
    "    - `birthdate` - birth date expressed as `datetime.date`\n",
    "    - `food` - food level expressed as integer\n",
    "- Methods (functions attached to this class):\n",
    "    - `__init__()` - constructor, called when an object of this class is created.\n",
    "    - `__str__()` - called when an object of this class is printed (with `print()` or `str()`)\n",
    "    - `get_age()` - retrieve age expressed as `datetime.timedelta`\n",
    "    - `feed()` - increment food level by 1\n",
    "    - `play()` - decrement food level by 1"
   ]
  },
  {
   "cell_type": "markdown",
   "id": "c0edc83a",
   "metadata": {
    "slideshow": {
     "slide_type": "slide"
    }
   },
   "source": [
    "## Class instantiation"
   ]
  },
  {
   "cell_type": "code",
   "execution_count": 6,
   "id": "7ff92165",
   "metadata": {
    "slideshow": {
     "slide_type": "fragment"
    }
   },
   "outputs": [],
   "source": [
    "kuchipatchi = Tamagotchi(\"Kuchipatchi\", date(2022, 5, 18))"
   ]
  },
  {
   "cell_type": "code",
   "execution_count": 7,
   "id": "aac8b77e",
   "metadata": {
    "slideshow": {
     "slide_type": "fragment"
    }
   },
   "outputs": [
    {
     "data": {
      "text/plain": [
       "__main__.Tamagotchi"
      ]
     },
     "execution_count": 7,
     "metadata": {},
     "output_type": "execute_result"
    }
   ],
   "source": [
    "type(kuchipatchi) # Check object type"
   ]
  },
  {
   "cell_type": "code",
   "execution_count": 8,
   "id": "7fd050b2",
   "metadata": {
    "slideshow": {
     "slide_type": "fragment"
    }
   },
   "outputs": [
    {
     "data": {
      "text/plain": [
       "'Kuchipatchi'"
      ]
     },
     "execution_count": 8,
     "metadata": {},
     "output_type": "execute_result"
    }
   ],
   "source": [
    "kuchipatchi.name # Access object's data attribute"
   ]
  },
  {
   "cell_type": "code",
   "execution_count": 9,
   "id": "13a20b65",
   "metadata": {
    "slideshow": {
     "slide_type": "fragment"
    }
   },
   "outputs": [],
   "source": [
    "kuchipatchi.feed() # Invoke object method"
   ]
  },
  {
   "cell_type": "code",
   "execution_count": 10,
   "id": "f36cc850",
   "metadata": {
    "slideshow": {
     "slide_type": "fragment"
    }
   },
   "outputs": [
    {
     "name": "stdout",
     "output_type": "stream",
     "text": [
      "Kuchipatchi - Age: 187 days Food: 1\n"
     ]
    }
   ],
   "source": [
    "print(kuchipatchi)"
   ]
  },
  {
   "cell_type": "markdown",
   "id": "2f749f96",
   "metadata": {
    "slideshow": {
     "slide_type": "slide"
    }
   },
   "source": [
    "## What is class?\n",
    "\n",
    "- Classes are factories for generating one or more objects of the same type.\n",
    "- Every time we call (instantiate) a class we create a new object (instance) with distinct namespace."
   ]
  },
  {
   "cell_type": "code",
   "execution_count": 11,
   "id": "44396dce",
   "metadata": {
    "slideshow": {
     "slide_type": "fragment"
    }
   },
   "outputs": [
    {
     "name": "stdout",
     "output_type": "stream",
     "text": [
      "<class '__main__.Tamagotchi'>\n",
      "Mimitchi - Age: 105 days Food: 0\n"
     ]
    }
   ],
   "source": [
    "mimitchi = Tamagotchi(\"Mimitchi\", date(2022, 8, 8))\n",
    "print(type(mimitchi))\n",
    "print(mimitchi)"
   ]
  },
  {
   "cell_type": "code",
   "execution_count": 12,
   "id": "d460629d",
   "metadata": {
    "slideshow": {
     "slide_type": "fragment"
    }
   },
   "outputs": [
    {
     "name": "stdout",
     "output_type": "stream",
     "text": [
      "<class '__main__.Tamagotchi'>\n",
      "Sebiretchi - Age: 20 days Food: 0\n"
     ]
    }
   ],
   "source": [
    "sebiretchi = Tamagotchi(\"Sebiretchi\", date(2022, 11, 1))\n",
    "print(type(sebiretchi))\n",
    "print(sebiretchi)"
   ]
  },
  {
   "cell_type": "markdown",
   "id": "20ec7d5c",
   "metadata": {
    "slideshow": {
     "slide_type": "slide"
    }
   },
   "source": [
    "## Classes vs Objects\n",
    "\n",
    "- In our example above `Tamagotchi` is a class.\n",
    "- `Kuchipatchi`, `Mimitchi`, `Sebiretchi` are instances of the class `Tamagotchi`.\n",
    "- In other words, they are objects of type `Tamagotchi`.\n",
    "- The same way as `str` is a class and `'watermelon'` is an object of type `str`."
   ]
  },
  {
   "cell_type": "markdown",
   "id": "15e0d097",
   "metadata": {
    "slideshow": {
     "slide_type": "slide"
    }
   },
   "source": [
    "## Class methods\n",
    "\n",
    "- Functions associated with a specific class are called **methods**.\n",
    "- These functions are simultaneously class attributes.\n",
    "- Hence, their syntax is `object.method()` as opposed to `function(object)`."
   ]
  },
  {
   "cell_type": "code",
   "execution_count": 13,
   "id": "a2d5caf0",
   "metadata": {
    "slideshow": {
     "slide_type": "fragment"
    }
   },
   "outputs": [
    {
     "name": "stdout",
     "output_type": "stream",
     "text": [
      "Kuchipatchi - Age: 187 days Food: 1\n",
      "Mimitchi - Age: 105 days Food: 0\n"
     ]
    }
   ],
   "source": [
    "print(kuchipatchi)\n",
    "print(mimitchi)"
   ]
  },
  {
   "cell_type": "code",
   "execution_count": 14,
   "id": "2dc38543",
   "metadata": {
    "slideshow": {
     "slide_type": "fragment"
    }
   },
   "outputs": [],
   "source": [
    "kuchipatchi.feed() # Invoke object method"
   ]
  },
  {
   "cell_type": "code",
   "execution_count": 15,
   "id": "cce63199",
   "metadata": {
    "slideshow": {
     "slide_type": "fragment"
    }
   },
   "outputs": [
    {
     "name": "stdout",
     "output_type": "stream",
     "text": [
      "Kuchipatchi - Age: 187 days Food: 2\n",
      "Mimitchi - Age: 105 days Food: 0\n"
     ]
    }
   ],
   "source": [
    "# Methods modify only the data attritubes \n",
    "# of the associated object \n",
    "print(kuchipatchi)\n",
    "print(mimitchi)"
   ]
  },
  {
   "cell_type": "markdown",
   "id": "71de096b",
   "metadata": {
    "slideshow": {
     "slide_type": "slide"
    }
   },
   "source": [
    "## Special methods\n",
    "\n",
    "- Some methods start and end with double underscore (`__`).\n",
    "- These methods serve special purposes.\n",
    "- Usually, they are not expected to be invoked directly.\n",
    "- Examples of special methods:\n",
    "    - `__init__()` - defines object instantiation;\n",
    "    - `__str__()` - defines how an object is printed out;\n",
    "    - `__add__()` - overloads the `+` operator\n",
    "        - also `__sub__()` for `-`, `__mul__()` for `*`, etc.\n",
    "    - `__eq__()` - overloads the `==` operator\n",
    "        - also `__lt__()` for `<`, `__ge__()` for `>=`, etc.\n",
    "    - `__len__()` - returns the length of the object (is called by `len()` function)\n",
    "    - `__iter__()` - returns an iterator (used in loops)\n",
    "\n",
    "Extra: [Special method names](https://docs.python.org/3/reference/datamodel.html#special-method-names)"
   ]
  },
  {
   "cell_type": "markdown",
   "id": "399385a0",
   "metadata": {
    "slideshow": {
     "slide_type": "slide"
    }
   },
   "source": [
    "## `self`\n",
    "\n",
    "- Variable that references the current instance of the class.\n",
    "- The name is a convention, but a strong one.\n",
    "\n",
    "```\n",
    "def __init__(self, name):\n",
    "    self.name = name\n",
    "```"
   ]
  },
  {
   "cell_type": "markdown",
   "id": "d4a21a98",
   "metadata": {
    "slideshow": {
     "slide_type": "slide"
    }
   },
   "source": [
    "## Overloading\n",
    "\n",
    "- Classes may override most built-in operators\n",
    "- E.g. function `sorted()` requires `__lt__()` (less than) method to be implemented."
   ]
  },
  {
   "cell_type": "code",
   "execution_count": 16,
   "id": "f97fe6cb",
   "metadata": {
    "slideshow": {
     "slide_type": "fragment"
    }
   },
   "outputs": [],
   "source": [
    "class Tamagotchi(object):\n",
    "    \"\"\"Creates a new Tamagotchi and gives it a name\"\"\"\n",
    "    def __init__(self, name, birthdate = date.today()):\n",
    "        self.name = name\n",
    "        self.birthdate = birthdate\n",
    "        self.food = 0\n",
    "    def get_age(self):\n",
    "        \"\"\"Get Tamagotchi's name in days\"\"\"\n",
    "        return date.today() - self.birthdate\n",
    "    def feed(self):\n",
    "        \"\"\"Give Tamagotchi some food\"\"\"\n",
    "        self.food += 1\n",
    "    def play(self):\n",
    "        \"\"\"Play with Tamagotchi\"\"\"\n",
    "        self.food -= 1\n",
    "    def __lt__(self, other):\n",
    "        \"\"\"Returns True if self's name precedes other's name alphabetically\"\"\"\n",
    "        return self.name < other.name\n",
    "    def __str__(self):\n",
    "        return (self.name + ' - ' +\n",
    "                'Age: ' + str(self.get_age().days) + ' days ' +\n",
    "                'Food: ' + str(self.food))"
   ]
  },
  {
   "cell_type": "markdown",
   "id": "19d1281b",
   "metadata": {
    "slideshow": {
     "slide_type": "slide"
    }
   },
   "source": [
    "## Overloading example\n",
    "\n",
    "- Since we changes class definition above we need to recreate objects to change their behaviour. "
   ]
  },
  {
   "cell_type": "code",
   "execution_count": 17,
   "id": "3668926e",
   "metadata": {
    "slideshow": {
     "slide_type": "fragment"
    }
   },
   "outputs": [],
   "source": [
    "mimitchi = Tamagotchi(\"Mimitchi\", date(2022, 8, 8))"
   ]
  },
  {
   "cell_type": "code",
   "execution_count": 18,
   "id": "98f33a9a",
   "metadata": {
    "slideshow": {
     "slide_type": "fragment"
    }
   },
   "outputs": [],
   "source": [
    "sebiretchi = Tamagotchi(\"Sebiretchi\", date(2022, 11, 1))"
   ]
  },
  {
   "cell_type": "code",
   "execution_count": 19,
   "id": "750f4556",
   "metadata": {
    "slideshow": {
     "slide_type": "fragment"
    }
   },
   "outputs": [
    {
     "data": {
      "text/plain": [
       "True"
      ]
     },
     "execution_count": 19,
     "metadata": {},
     "output_type": "execute_result"
    }
   ],
   "source": [
    "mimitchi < sebiretchi"
   ]
  },
  {
   "cell_type": "markdown",
   "id": "23456cf3",
   "metadata": {
    "slideshow": {
     "slide_type": "slide"
    }
   },
   "source": [
    "## Overloading example continued"
   ]
  },
  {
   "cell_type": "code",
   "execution_count": 20,
   "id": "5339bdaf",
   "metadata": {
    "slideshow": {
     "slide_type": "fragment"
    }
   },
   "outputs": [
    {
     "data": {
      "text/plain": [
       "[<__main__.Tamagotchi at 0x7f8eaa6c8730>,\n",
       " <__main__.Tamagotchi at 0x7f8e566633a0>]"
      ]
     },
     "execution_count": 20,
     "metadata": {},
     "output_type": "execute_result"
    }
   ],
   "source": [
    "sorted([mimitchi, sebiretchi])"
   ]
  },
  {
   "cell_type": "code",
   "execution_count": 21,
   "id": "829bf362",
   "metadata": {
    "slideshow": {
     "slide_type": "fragment"
    }
   },
   "outputs": [
    {
     "name": "stdout",
     "output_type": "stream",
     "text": [
      "['Mimitchi - Age: 105 days Food: 0', 'Sebiretchi - Age: 20 days Food: 0']\n"
     ]
    }
   ],
   "source": [
    "print([str(x) for x in sorted([mimitchi, sebiretchi])])"
   ]
  },
  {
   "cell_type": "markdown",
   "id": "a8a9d5a5",
   "metadata": {
    "slideshow": {
     "slide_type": "slide"
    }
   },
   "source": [
    "## Inheritance\n",
    "\n",
    "- Classes allows customization by **inheritance**.\n",
    "- New components can be introduced in **subclasses**.\n",
    "- Without having to re-implement functionality from scratch,\n",
    "- Classes can inherit attributes from **superclasses**.\n",
    "- This can create a hierarchy of classes,\n",
    "- At the top of which is class `object`."
   ]
  },
  {
   "cell_type": "markdown",
   "id": "ec33de8b",
   "metadata": {
    "slideshow": {
     "slide_type": "slide"
    }
   },
   "source": [
    "## Superclass"
   ]
  },
  {
   "cell_type": "code",
   "execution_count": 22,
   "id": "61354a83",
   "metadata": {
    "slideshow": {
     "slide_type": "fragment"
    }
   },
   "outputs": [],
   "source": [
    "class Survey(object):\n",
    "    \"\"\"Creates a new Survey\"\"\"\n",
    "    def __init__(self):\n",
    "        \"\"\"Initialize a new Survey with an empty questionnaire\"\"\"\n",
    "        self.questionnaire = []\n",
    "    def add_question(self, question):\n",
    "        \"\"\"Add question to the questionnaire\"\"\"\n",
    "        self.questionnaire.append(question)\n",
    "    def __add__(self, other):\n",
    "        \"\"\"Combine Surveys together\"\"\"\n",
    "        return self.questionnaire + other.questionnaire\n",
    "    def __len__(self):\n",
    "        \"\"\"Returns the length of Survey questionnaire\"\"\"\n",
    "        return len(self.questionnaire)"
   ]
  },
  {
   "cell_type": "code",
   "execution_count": 23,
   "id": "8ad61cd1",
   "metadata": {
    "slideshow": {
     "slide_type": "fragment"
    }
   },
   "outputs": [],
   "source": [
    "survey1 = Survey()"
   ]
  },
  {
   "cell_type": "code",
   "execution_count": 24,
   "id": "6af84f1f",
   "metadata": {
    "slideshow": {
     "slide_type": "fragment"
    }
   },
   "outputs": [],
   "source": [
    "survey1.add_question(\"What is your age?\")"
   ]
  },
  {
   "cell_type": "code",
   "execution_count": 25,
   "id": "ba8b00ca",
   "metadata": {
    "slideshow": {
     "slide_type": "fragment"
    }
   },
   "outputs": [
    {
     "data": {
      "text/plain": [
       "1"
      ]
     },
     "execution_count": 25,
     "metadata": {},
     "output_type": "execute_result"
    }
   ],
   "source": [
    "len(survey1)"
   ]
  },
  {
   "cell_type": "markdown",
   "id": "7d1581a5",
   "metadata": {
    "slideshow": {
     "slide_type": "slide"
    }
   },
   "source": [
    "## Subclass"
   ]
  },
  {
   "cell_type": "code",
   "execution_count": 26,
   "id": "8c69d6cd",
   "metadata": {
    "slideshow": {
     "slide_type": "fragment"
    }
   },
   "outputs": [],
   "source": [
    "class TelephoneSurvey(Survey):\n",
    "    \n",
    "    # This is a class variable\n",
    "    # When a new instance of class is created\n",
    "    # a new instance of next_survey_id is not\n",
    "    next_survey_id = 1\n",
    "    \n",
    "    def __init__(self):\n",
    "        super().__init__()\n",
    "        self.survey_id = TelephoneSurvey.next_survey_id\n",
    "        TelephoneSurvey.next_survey_id += 1\n",
    "        self.mode = 'Telephone'"
   ]
  },
  {
   "cell_type": "code",
   "execution_count": 27,
   "id": "9140273a",
   "metadata": {
    "slideshow": {
     "slide_type": "fragment"
    }
   },
   "outputs": [],
   "source": [
    "survey2 = TelephoneSurvey()"
   ]
  },
  {
   "cell_type": "code",
   "execution_count": 28,
   "id": "85feaf54",
   "metadata": {
    "slideshow": {
     "slide_type": "fragment"
    }
   },
   "outputs": [],
   "source": [
    "survey2.add_question(\"What is your age?\")"
   ]
  },
  {
   "cell_type": "code",
   "execution_count": 29,
   "id": "34047ce3",
   "metadata": {
    "slideshow": {
     "slide_type": "fragment"
    }
   },
   "outputs": [
    {
     "data": {
      "text/plain": [
       "1"
      ]
     },
     "execution_count": 29,
     "metadata": {},
     "output_type": "execute_result"
    }
   ],
   "source": [
    "len(survey2)"
   ]
  },
  {
   "cell_type": "markdown",
   "id": "dee3c3a9",
   "metadata": {
    "slideshow": {
     "slide_type": "slide"
    }
   },
   "source": [
    "## Inheritance Hierarchy"
   ]
  },
  {
   "cell_type": "code",
   "execution_count": 30,
   "id": "70139885",
   "metadata": {
    "slideshow": {
     "slide_type": "fragment"
    }
   },
   "outputs": [],
   "source": [
    "class Person(object):\n",
    "    pass"
   ]
  },
  {
   "cell_type": "code",
   "execution_count": 31,
   "id": "436ae9f1",
   "metadata": {
    "slideshow": {
     "slide_type": "fragment"
    }
   },
   "outputs": [],
   "source": [
    "class Employee(Person):\n",
    "    pass"
   ]
  },
  {
   "cell_type": "code",
   "execution_count": 32,
   "id": "744da43c",
   "metadata": {
    "slideshow": {
     "slide_type": "fragment"
    }
   },
   "outputs": [],
   "source": [
    "class Admin(Employee):\n",
    "    pass"
   ]
  },
  {
   "cell_type": "code",
   "execution_count": 33,
   "id": "9ffefd1b",
   "metadata": {
    "slideshow": {
     "slide_type": "fragment"
    }
   },
   "outputs": [],
   "source": [
    "class Academic(Employee):\n",
    "    pass"
   ]
  },
  {
   "cell_type": "markdown",
   "id": "001c117d",
   "metadata": {
    "slideshow": {
     "slide_type": "slide"
    }
   },
   "source": [
    "## Inheritance Hierarchy continued"
   ]
  },
  {
   "cell_type": "code",
   "execution_count": 34,
   "id": "e5b7914e",
   "metadata": {
    "slideshow": {
     "slide_type": "fragment"
    }
   },
   "outputs": [],
   "source": [
    "prof = Academic()"
   ]
  },
  {
   "cell_type": "code",
   "execution_count": 35,
   "id": "3b5e71e9",
   "metadata": {
    "slideshow": {
     "slide_type": "fragment"
    }
   },
   "outputs": [
    {
     "data": {
      "text/plain": [
       "True"
      ]
     },
     "execution_count": 35,
     "metadata": {},
     "output_type": "execute_result"
    }
   ],
   "source": [
    "isinstance(prof, Person)"
   ]
  },
  {
   "cell_type": "code",
   "execution_count": 36,
   "id": "b34a03e9",
   "metadata": {
    "slideshow": {
     "slide_type": "fragment"
    }
   },
   "outputs": [
    {
     "data": {
      "text/plain": [
       "True"
      ]
     },
     "execution_count": 36,
     "metadata": {},
     "output_type": "execute_result"
    }
   ],
   "source": [
    "isinstance(prof, Employee)"
   ]
  },
  {
   "cell_type": "code",
   "execution_count": 37,
   "id": "ad570dad",
   "metadata": {
    "slideshow": {
     "slide_type": "fragment"
    }
   },
   "outputs": [
    {
     "data": {
      "text/plain": [
       "False"
      ]
     },
     "execution_count": 37,
     "metadata": {},
     "output_type": "execute_result"
    }
   ],
   "source": [
    "isinstance(prof, Admin)"
   ]
  },
  {
   "cell_type": "markdown",
   "id": "8bfed5da",
   "metadata": {
    "slideshow": {
     "slide_type": "slide"
    }
   },
   "source": [
    "## Classes and OOP in Python\n",
    "\n",
    "- Classes are the core of OOP.\n",
    "- Classes bundle data with functions.\n",
    "- They allow for objects to be part of inheritance hierarchy.\n",
    "- In general, OOP in Python is entirely optional.\n",
    "- For some tasks the level of abstraction provided by functions and modules is sufficient.\n",
    "- But for some applications (user-facing, large projects, high-reliability) OOP is essential."
   ]
  },
  {
   "cell_type": "markdown",
   "id": "0648381b",
   "metadata": {
    "slideshow": {
     "slide_type": "slide"
    }
   },
   "source": [
    "## Next\n",
    "\n",
    "- Tutorial: Python objects, classes and methods\n",
    "- Assignment 4: Due at 12:00 on Monday, 28th November (submission on Blackboard)\n",
    "- Next week: Complexity and performance"
   ]
  }
 ],
 "metadata": {
  "celltoolbar": "Slideshow",
  "kernelspec": {
   "display_name": "Python 3 (ipykernel)",
   "language": "python",
   "name": "python3"
  },
  "language_info": {
   "codemirror_mode": {
    "name": "ipython",
    "version": 3
   },
   "file_extension": ".py",
   "mimetype": "text/x-python",
   "name": "python",
   "nbconvert_exporter": "python",
   "pygments_lexer": "ipython3",
   "version": "3.10.6"
  }
 },
 "nbformat": 4,
 "nbformat_minor": 5
}
