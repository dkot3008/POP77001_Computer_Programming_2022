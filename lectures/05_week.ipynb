{
 "cells": [
  {
   "cell_type": "code",
   "execution_count": 1,
   "id": "3d50d97c",
   "metadata": {
    "slideshow": {
     "slide_type": "skip"
    }
   },
   "outputs": [],
   "source": [
    "options(jupyter.rich_display = FALSE)"
   ]
  },
  {
   "cell_type": "markdown",
   "id": "26ca70bf",
   "metadata": {
    "slideshow": {
     "slide_type": "slide"
    }
   },
   "source": [
    "## Week 5: Debugging and Testing in R\n",
    "\n",
    "### POP77001 Computer Programming for Social Scientists\n",
    "\n",
    "### Tom Paskhalis\n",
    "\n",
    "##### 10 October 2022\n",
    "\n",
    "##### Module website: [tinyurl.com/POP77001](https://tinyurl.com/POP77001)"
   ]
  },
  {
   "cell_type": "markdown",
   "id": "200e487f",
   "metadata": {
    "slideshow": {
     "slide_type": "slide"
    }
   },
   "source": [
    "## Overview\n",
    "\n",
    "- Software bugs\n",
    "- Debugging\n",
    "- Handling conditions\n",
    "- Testing\n",
    "- Defensive programming"
   ]
  },
  {
   "cell_type": "markdown",
   "id": "abdf5fb0",
   "metadata": {
    "slideshow": {
     "slide_type": "slide"
    }
   },
   "source": [
    "## Bugs\n",
    "\n",
    "<div style=\"text-align: center;\">\n",
    "    <img width=\"700\" height=\"700\" src=\"../imgs/computer_says_no.gif\">\n",
    "</div>\n",
    "\n",
    "Source: [Giphy](https://giphy.com/gifs/utmZFnsMhUHqU) "
   ]
  },
  {
   "cell_type": "markdown",
   "id": "6c5a23ca",
   "metadata": {
    "slideshow": {
     "slide_type": "slide"
    }
   },
   "source": [
    "## Computer bugs before\n",
    "\n",
    "<table>\n",
    "    <tr>\n",
    "        <td><div><img width=\"700\" src='../imgs/computer_bug.jpeg'></div></td>\n",
    "        <td><div><img width=\"300\" src='../imgs/grace_hopper.jpg'></div></td>\n",
    "    </tr>\n",
    "</table>\n",
    "\n",
    "Grace Murray Hopper popularised the term *bug* after in 1947 her team traced an error in the Mark II to a moth trapped in a relay.\n",
    "\n",
    "Source: [US Naval History and Heritage Command](https://www.history.navy.mil/content/history/nhhc/our-collections/photography/numerical-list-of-images/nhhc-series/nh-series/NH-96000/NH-96566-KN.html)"
   ]
  },
  {
   "cell_type": "markdown",
   "id": "0b2b6d66",
   "metadata": {
    "slideshow": {
     "slide_type": "slide"
    }
   },
   "source": [
    "## Computer bugs today"
   ]
  },
  {
   "cell_type": "code",
   "execution_count": 2,
   "id": "cc64fb9f",
   "metadata": {
    "slideshow": {
     "slide_type": "fragment"
    }
   },
   "outputs": [],
   "source": [
    "even_or_odd <- function(num) {\n",
    "  if (num %% 2 == 0) {\n",
    "    return(\"even\")\n",
    "  } else {\n",
    "    return(\"odd\")\n",
    "  }\n",
    "}"
   ]
  },
  {
   "cell_type": "code",
   "execution_count": 3,
   "id": "f6f3d650",
   "metadata": {
    "slideshow": {
     "slide_type": "fragment"
    }
   },
   "outputs": [
    {
     "data": {
      "text/plain": [
       "[1] \"odd\""
      ]
     },
     "metadata": {},
     "output_type": "display_data"
    }
   ],
   "source": [
    "even_or_odd(42.7)"
   ]
  },
  {
   "cell_type": "code",
   "execution_count": 4,
   "id": "2a831f6b",
   "metadata": {
    "slideshow": {
     "slide_type": "fragment"
    }
   },
   "outputs": [
    {
     "ename": "ERROR",
     "evalue": "Error in num%%2: non-numeric argument to binary operator\n",
     "output_type": "error",
     "traceback": [
      "Error in num%%2: non-numeric argument to binary operator\nTraceback:\n",
      "1. even_or_odd(\"42\")"
     ]
    }
   ],
   "source": [
    "even_or_odd('42')"
   ]
  },
  {
   "cell_type": "markdown",
   "id": "e56c2d88",
   "metadata": {
    "slideshow": {
     "slide_type": "slide"
    }
   },
   "source": [
    "## Explicit expectations\n",
    "\n",
    "- Make explicit what kind of input your function expects.\n",
    "- Conditional statements (or type conversion) at the beginning help check that.  "
   ]
  },
  {
   "cell_type": "code",
   "execution_count": 5,
   "id": "4d6cece4",
   "metadata": {
    "slideshow": {
     "slide_type": "fragment"
    }
   },
   "outputs": [],
   "source": [
    "even_or_odd <- function(num) {\n",
    "  num <- as.integer(num) # We expect input to be integer or convertible into one\n",
    "  if (num %% 2 == 0) {\n",
    "    return(\"even\")\n",
    "  } else {\n",
    "    return(\"odd\")\n",
    "  }\n",
    "}"
   ]
  },
  {
   "cell_type": "code",
   "execution_count": 6,
   "id": "0639839f",
   "metadata": {
    "slideshow": {
     "slide_type": "fragment"
    }
   },
   "outputs": [
    {
     "data": {
      "text/plain": [
       "[1] \"even\""
      ]
     },
     "metadata": {},
     "output_type": "display_data"
    }
   ],
   "source": [
    "even_or_odd(42.7)"
   ]
  },
  {
   "cell_type": "code",
   "execution_count": 7,
   "id": "4e119640",
   "metadata": {
    "slideshow": {
     "slide_type": "fragment"
    }
   },
   "outputs": [
    {
     "data": {
      "text/plain": [
       "[1] \"even\""
      ]
     },
     "metadata": {},
     "output_type": "display_data"
    }
   ],
   "source": [
    "even_or_odd('42')"
   ]
  },
  {
   "cell_type": "markdown",
   "id": "36c43ff7",
   "metadata": {
    "slideshow": {
     "slide_type": "slide"
    }
   },
   "source": [
    "## Types of bugs\n",
    "\n",
    "- *Overt* vs *covert*\n",
    "    - Overt bugs have obvious manifestation (e.g. premature program termination, crash)\n",
    "    - Covert bugs manifest themselves in wrong (unexpected) results\n",
    "- *Persistent* vs *intermittent*\n",
    "    - Persistent bugs occur for every run of the program with the same input\n",
    "    - Intermittent bugs occur occasionally even given the same input and other conditions"
   ]
  },
  {
   "cell_type": "markdown",
   "id": "843beeac",
   "metadata": {
    "slideshow": {
     "slide_type": "slide"
    }
   },
   "source": [
    "## Debugging\n",
    "\n",
    "<div style=\"text-align: center;\">\n",
    "    <img width=\"300\" height=\"300\" src=\"../imgs/jurassic_park.png\">\n",
    "</div>\n"
   ]
  },
  {
   "cell_type": "markdown",
   "id": "7aa9bf65",
   "metadata": {
    "slideshow": {
     "slide_type": "slide"
    }
   },
   "source": [
    "## Debugging\n",
    "\n",
    "> Fixing a buggy program is a process of confirming, one by one, that the\n",
    "many things you believe to be true about the code actually are true. When\n",
    "you find that one of your assumptions is not true, you have found a clue\n",
    "to the location (if not the exact nature) of a bug.\n",
    ">\n",
    "> Norman Matloff\n",
    "\n",
    "\n",
    "> When you have eliminated all which is impossible, then whatever remains,\n",
    "however improbable, must be the truth.\n",
    ">\n",
    "> Arthur Conan Doyle\n",
    "\n",
    "- Process of finding, isolating and fixing an existing problem in computer program\n"
   ]
  },
  {
   "cell_type": "markdown",
   "id": "4ed91eec",
   "metadata": {
    "slideshow": {
     "slide_type": "slide"
    }
   },
   "source": [
    "## Debugging process\n",
    "\n",
    "1. Realise that you have a bug\n",
    "    - Could be non-trivial for covert and intermittent bugs\n",
    "2. Make it reproducible\n",
    "    - Extremely important step that makes debugging easier\n",
    "    - Isolate the smallest snippet of code that repeats the bug\n",
    "    - Test with different inputs/objects\n",
    "    - Will also be helpful if you are seeking outside help\n",
    "    - Provides a case that can be used in automated testing\n",
    "3. Figure out where it is\n",
    "    - Formulate hypotheses, design experiments\n",
    "    - Test hypotheses on a reproducible example\n",
    "    - Keep track of the solutions that you have attempted\n",
    "4. If it worked:\n",
    "    - Fix the bug and test the use-case \n",
    "5. Otherwise:\n",
    "    - Sleep on it"
   ]
  },
  {
   "cell_type": "markdown",
   "id": "d186573a",
   "metadata": {
    "slideshow": {
     "slide_type": "slide"
    }
   },
   "source": [
    "## Track your progress\n",
    "\n",
    "<div style=\"text-align: center;\">\n",
    "    <img width=\"300\" height=\"300\" src=\"../imgs/debugging.jpeg\">\n",
    "</div>\n",
    "\n",
    "Source: [Julia Evans](https://wizardzines.com/)"
   ]
  },
  {
   "cell_type": "markdown",
   "id": "ddc11664",
   "metadata": {
    "slideshow": {
     "slide_type": "slide"
    }
   },
   "source": [
    "## Debugging with `print()`\n",
    "\n",
    "- `print()` statement can be used to check the internal state of a program during evaluation\n",
    "- Can be placed in critical parts of code (before or after loops/function calls/objects loading)\n",
    "- Can be combined with function `ls()` (and `get()`/`mget()`) to reveal all local objects\n",
    "- For harder cases switch to R debugging functions(`debug()`/`debugonce()`)\n"
   ]
  },
  {
   "cell_type": "markdown",
   "id": "4f8b7b57",
   "metadata": {
    "slideshow": {
     "slide_type": "slide"
    }
   },
   "source": [
    "## Bug example"
   ]
  },
  {
   "cell_type": "code",
   "execution_count": 8,
   "id": "e9213e4d",
   "metadata": {
    "slideshow": {
     "slide_type": "fragment"
    }
   },
   "outputs": [],
   "source": [
    "calculate_median <- function(a) {\n",
    "  a <- sort(a)\n",
    "  n <- length(a)\n",
    "  m <- (n + 1) %/% 2\n",
    "  if (n %% 2 == 1) {\n",
    "    med <- a[m]\n",
    "  } else {\n",
    "    med <- mean(a[m:m+1])\n",
    "  }\n",
    "  return(med)\n",
    "}"
   ]
  },
  {
   "cell_type": "code",
   "execution_count": 9,
   "id": "fb01cd0e",
   "metadata": {
    "slideshow": {
     "slide_type": "fragment"
    }
   },
   "outputs": [],
   "source": [
    "v1 <- c(1, 2, 3)\n",
    "v2 <- c(0, 1, 2, 2)"
   ]
  },
  {
   "cell_type": "code",
   "execution_count": 10,
   "id": "f30d06ed",
   "metadata": {
    "slideshow": {
     "slide_type": "fragment"
    }
   },
   "outputs": [
    {
     "data": {
      "text/plain": [
       "[1] 2"
      ]
     },
     "metadata": {},
     "output_type": "display_data"
    }
   ],
   "source": [
    "calculate_median(v1)"
   ]
  },
  {
   "cell_type": "code",
   "execution_count": 11,
   "id": "a819177e",
   "metadata": {
    "slideshow": {
     "slide_type": "fragment"
    }
   },
   "outputs": [
    {
     "data": {
      "text/plain": [
       "[1] 2"
      ]
     },
     "metadata": {},
     "output_type": "display_data"
    }
   ],
   "source": [
    "calculate_median(v2)"
   ]
  },
  {
   "cell_type": "markdown",
   "id": "9d20451b",
   "metadata": {
    "slideshow": {
     "slide_type": "slide"
    }
   },
   "source": [
    "## Debugging with `print()` example"
   ]
  },
  {
   "cell_type": "code",
   "execution_count": 12,
   "id": "1f517589",
   "metadata": {
    "slideshow": {
     "slide_type": "fragment"
    }
   },
   "outputs": [],
   "source": [
    "calculate_median <- function(a) {\n",
    "  a <- sort(a)\n",
    "  n <- length(a)\n",
    "  m <- (n + 1) %/% 2\n",
    "  print(m)\n",
    "  if (n %% 2 == 1) {\n",
    "    med <- a[m]\n",
    "  } else {\n",
    "    med <- mean(a[m:m+1])\n",
    "  }\n",
    "  return(med)\n",
    "}"
   ]
  },
  {
   "cell_type": "code",
   "execution_count": 14,
   "id": "b74a3fd6",
   "metadata": {
    "slideshow": {
     "slide_type": "fragment"
    }
   },
   "outputs": [
    {
     "name": "stdout",
     "output_type": "stream",
     "text": [
      "[1] 2\n"
     ]
    },
    {
     "data": {
      "text/plain": [
       "[1] 2"
      ]
     },
     "metadata": {},
     "output_type": "display_data"
    }
   ],
   "source": [
    "# v1 <- c(1, 2, 3)\n",
    "calculate_median(v1)"
   ]
  },
  {
   "cell_type": "code",
   "execution_count": 15,
   "id": "0fdc2f15",
   "metadata": {
    "slideshow": {
     "slide_type": "fragment"
    }
   },
   "outputs": [
    {
     "name": "stdout",
     "output_type": "stream",
     "text": [
      "[1] 2\n"
     ]
    },
    {
     "data": {
      "text/plain": [
       "[1] 2"
      ]
     },
     "metadata": {},
     "output_type": "display_data"
    }
   ],
   "source": [
    "# v2 <- c(0, 1, 2, 2)\n",
    "calculate_median(v2)"
   ]
  },
  {
   "cell_type": "markdown",
   "id": "c1938a38",
   "metadata": {
    "slideshow": {
     "slide_type": "slide"
    }
   },
   "source": [
    "## Debugging with `print()` and `ls()` example"
   ]
  },
  {
   "cell_type": "code",
   "execution_count": 16,
   "id": "3d8e7c80",
   "metadata": {
    "slideshow": {
     "slide_type": "fragment"
    }
   },
   "outputs": [],
   "source": [
    "calculate_median <- function(a) {\n",
    "  a <- sort(a)\n",
    "  n <- length(a)\n",
    "  m <- (n + 1) %/% 2\n",
    "  # Analogous to Python's print(vars())\n",
    "  # Print all objects in function environment\n",
    "  print(mget(ls()))\n",
    "  if (n %% 2 == 1) {\n",
    "    med <- a[m]\n",
    "  } else {\n",
    "    med <- mean(a[m:m+1])\n",
    "  }\n",
    "  return(med)\n",
    "}"
   ]
  },
  {
   "cell_type": "code",
   "execution_count": 17,
   "id": "f8d4f562",
   "metadata": {
    "slideshow": {
     "slide_type": "fragment"
    }
   },
   "outputs": [
    {
     "name": "stdout",
     "output_type": "stream",
     "text": [
      "$a\n",
      "[1] 1 2 3\n",
      "\n",
      "$m\n",
      "[1] 2\n",
      "\n",
      "$n\n",
      "[1] 3\n",
      "\n"
     ]
    },
    {
     "data": {
      "text/plain": [
       "[1] 2"
      ]
     },
     "metadata": {},
     "output_type": "display_data"
    }
   ],
   "source": [
    "calculate_median(v1)"
   ]
  },
  {
   "cell_type": "markdown",
   "id": "d3bc72d4",
   "metadata": {
    "slideshow": {
     "slide_type": "slide"
    }
   },
   "source": [
    "## Debugging with `print()` and `ls()` example continued"
   ]
  },
  {
   "cell_type": "code",
   "execution_count": 18,
   "id": "31145a5f",
   "metadata": {
    "slideshow": {
     "slide_type": "fragment"
    }
   },
   "outputs": [
    {
     "name": "stdout",
     "output_type": "stream",
     "text": [
      "$a\n",
      "[1] 0 1 2 2\n",
      "\n",
      "$m\n",
      "[1] 2\n",
      "\n",
      "$n\n",
      "[1] 4\n",
      "\n"
     ]
    },
    {
     "data": {
      "text/plain": [
       "[1] 2"
      ]
     },
     "metadata": {},
     "output_type": "display_data"
    }
   ],
   "source": [
    "calculate_median(v2)"
   ]
  },
  {
   "cell_type": "markdown",
   "id": "0e8cc2bb",
   "metadata": {
    "slideshow": {
     "slide_type": "slide"
    }
   },
   "source": [
    "## Debugging with `print()` example continued"
   ]
  },
  {
   "cell_type": "code",
   "execution_count": 19,
   "id": "0ad9b469",
   "metadata": {
    "slideshow": {
     "slide_type": "fragment"
    }
   },
   "outputs": [],
   "source": [
    "calculate_median <- function(a) {\n",
    "  a <- sort(a)\n",
    "  n <- length(a)\n",
    "  m <- (n + 1) %/% 2\n",
    "  if (n %% 2 == 1) {\n",
    "    med <- a[m]\n",
    "  } else {\n",
    "    print(m-1:m)\n",
    "    med <- mean(a[m:m+1])\n",
    "  }\n",
    "  return(med)\n",
    "}"
   ]
  },
  {
   "cell_type": "code",
   "execution_count": 20,
   "id": "3a128aee",
   "metadata": {
    "slideshow": {
     "slide_type": "fragment"
    }
   },
   "outputs": [
    {
     "data": {
      "text/plain": [
       "[1] 2"
      ]
     },
     "metadata": {},
     "output_type": "display_data"
    }
   ],
   "source": [
    "calculate_median(v1)"
   ]
  },
  {
   "cell_type": "code",
   "execution_count": 21,
   "id": "f7a642eb",
   "metadata": {
    "slideshow": {
     "slide_type": "fragment"
    }
   },
   "outputs": [
    {
     "name": "stdout",
     "output_type": "stream",
     "text": [
      "[1] 1 0\n"
     ]
    },
    {
     "data": {
      "text/plain": [
       "[1] 2"
      ]
     },
     "metadata": {},
     "output_type": "display_data"
    }
   ],
   "source": [
    "calculate_median(v2)"
   ]
  },
  {
   "cell_type": "markdown",
   "id": "6e00e99f",
   "metadata": {
    "slideshow": {
     "slide_type": "slide"
    }
   },
   "source": [
    "## Fixing a bug and confirming"
   ]
  },
  {
   "cell_type": "code",
   "execution_count": 22,
   "id": "34c13a72",
   "metadata": {
    "slideshow": {
     "slide_type": "fragment"
    }
   },
   "outputs": [],
   "source": [
    "calculate_median <- function(a) {\n",
    "  a <- sort(a)\n",
    "  n <- length(a)\n",
    "  m <- (n + 1) %/% 2\n",
    "  if (n %% 2 == 1) {\n",
    "    med <- a[m]\n",
    "  } else {\n",
    "    med <- mean(a[m:(m+1)])\n",
    "  }\n",
    "  return(med)\n",
    "}"
   ]
  },
  {
   "cell_type": "code",
   "execution_count": 23,
   "id": "b788aed8",
   "metadata": {
    "slideshow": {
     "slide_type": "fragment"
    }
   },
   "outputs": [
    {
     "data": {
      "text/plain": [
       "[1] 2"
      ]
     },
     "metadata": {},
     "output_type": "display_data"
    }
   ],
   "source": [
    "calculate_median(v1)"
   ]
  },
  {
   "cell_type": "code",
   "execution_count": 24,
   "id": "254ff456",
   "metadata": {
    "slideshow": {
     "slide_type": "fragment"
    }
   },
   "outputs": [
    {
     "data": {
      "text/plain": [
       "[1] 1.5"
      ]
     },
     "metadata": {},
     "output_type": "display_data"
    }
   ],
   "source": [
    "calculate_median(v2)"
   ]
  },
  {
   "cell_type": "markdown",
   "id": "c7726002",
   "metadata": {
    "slideshow": {
     "slide_type": "slide"
    }
   },
   "source": [
    "## R Debugging Facilities\n",
    "\n",
    "- The core of R debugging process is stepping through the code as it gets executed\n",
    "- This permits the inspection of the environment where a problem occurs\n",
    "- Three functions provide the the main entries into the debugging mode:\n",
    "    - `browser()` - pauses the execution at a dedicated line in code (breakpoint)\n",
    "    - `debug()`/`undebug()` - (un)sets a flag to run function in a debug mode (setting through)\n",
    "    - `debugonce()` - triggers single stepping through a function"
   ]
  },
  {
   "cell_type": "markdown",
   "id": "276a0d90",
   "metadata": {
    "slideshow": {
     "slide_type": "slide"
    }
   },
   "source": [
    "## Breakpoints"
   ]
  },
  {
   "cell_type": "code",
   "execution_count": 25,
   "id": "75c08679",
   "metadata": {
    "slideshow": {
     "slide_type": "fragment"
    }
   },
   "outputs": [],
   "source": [
    "calculate_median <- function(a) {\n",
    "  a <- sort(a)\n",
    "  n <- length(a)\n",
    "  m <- (n + 1) %/% 2\n",
    "  if (n %% 2 == 1) {\n",
    "    med <- a[m]\n",
    "  } else {\n",
    "    browser()\n",
    "    med <- mean(a[m:m+1])\n",
    "  }\n",
    "  return(med)\n",
    "}"
   ]
  },
  {
   "cell_type": "code",
   "execution_count": 26,
   "id": "581fc5d8",
   "metadata": {
    "slideshow": {
     "slide_type": "fragment"
    }
   },
   "outputs": [
    {
     "name": "stdout",
     "output_type": "stream",
     "text": [
      "Called from: calculate_median(v2)\n",
      "debug at <text>#9: med <- mean(a[m:m + 1])\n",
      "debug at <text>#11: return(med)\n"
     ]
    },
    {
     "data": {
      "text/plain": [
       "[1] 2"
      ]
     },
     "metadata": {},
     "output_type": "display_data"
    }
   ],
   "source": [
    "## Example for running in RStudio\n",
    "calculate_median(v2)"
   ]
  },
  {
   "cell_type": "markdown",
   "id": "5c664b02",
   "metadata": {
    "slideshow": {
     "slide_type": "slide"
    }
   },
   "source": [
    "## Debugger commands\n",
    "\n",
    "| Command      | Description                                                  |\n",
    "|:-------------|:-------------------------------------------------------------|\n",
    "| `n(ext)`     | Execute next line of the current function                    |\n",
    "| `s(tep)`     | Execute next line, stepping inside the function (if present) |\n",
    "| `c(ontinue)` | Continue execution, only stop when breakpoint in encountered |\n",
    "| `f(inish)`   | Finish execution of the current loop or function             |\n",
    "| `Q(uit)`     | Quit from the debugger, executed program is aborted          |\n"
   ]
  },
  {
   "cell_type": "markdown",
   "id": "5922d272",
   "metadata": {
    "slideshow": {
     "slide_type": "slide"
    }
   },
   "source": [
    "## Conditions\n",
    "\n",
    "- Conditions are **events** that signal special situations during execution\n",
    "- Some conditions can modify the control flow of a program (e.g. error)\n",
    "- They can be *caught* and *handled* by your code\n",
    "- You can also incorporate condition triggers into your code\n",
    "\n",
    "Extra: [Hadley Wickham - Conditions](https://adv-r.hadley.nz/conditions.html)"
   ]
  },
  {
   "cell_type": "markdown",
   "id": "007919bc",
   "metadata": {
    "slideshow": {
     "slide_type": "slide"
    }
   },
   "source": [
    "## Conditions examples"
   ]
  },
  {
   "cell_type": "code",
   "execution_count": 27,
   "id": "20fdfb26",
   "metadata": {
    "slideshow": {
     "slide_type": "fragment"
    }
   },
   "outputs": [
    {
     "ename": "ERROR",
     "evalue": "Error in 42 + \"ab\": non-numeric argument to binary operator\n",
     "output_type": "error",
     "traceback": [
      "Error in 42 + \"ab\": non-numeric argument to binary operator\nTraceback:\n"
     ]
    }
   ],
   "source": [
    "42 + \"ab\" # Throws an error"
   ]
  },
  {
   "cell_type": "code",
   "execution_count": 28,
   "id": "e343d439",
   "metadata": {
    "slideshow": {
     "slide_type": "fragment"
    }
   },
   "outputs": [
    {
     "name": "stderr",
     "output_type": "stream",
     "text": [
      "Warning message in eval(expr, envir, enclos):\n",
      "“NAs introduced by coercion”\n"
     ]
    },
    {
     "data": {
      "text/plain": [
       "[1] 42.0 55.3   NA  7.0"
      ]
     },
     "metadata": {},
     "output_type": "display_data"
    }
   ],
   "source": [
    "as.numeric(c(\"42\", \"55.3\", \"ab\", \"7\")) # Triggers a warning"
   ]
  },
  {
   "cell_type": "code",
   "execution_count": 29,
   "id": "484588af",
   "metadata": {
    "scrolled": true,
    "slideshow": {
     "slide_type": "fragment"
    }
   },
   "outputs": [
    {
     "name": "stderr",
     "output_type": "stream",
     "text": [
      "\n",
      "Attaching package: ‘dplyr’\n",
      "\n",
      "\n",
      "The following objects are masked from ‘package:stats’:\n",
      "\n",
      "    filter, lag\n",
      "\n",
      "\n",
      "The following objects are masked from ‘package:base’:\n",
      "\n",
      "    intersect, setdiff, setequal, union\n",
      "\n",
      "\n"
     ]
    }
   ],
   "source": [
    "library(\"dplyr\") # Shows a message"
   ]
  },
  {
   "cell_type": "markdown",
   "id": "b0b0d04c",
   "metadata": {
    "slideshow": {
     "slide_type": "slide"
    }
   },
   "source": [
    "## Conditions examples continued"
   ]
  },
  {
   "cell_type": "code",
   "execution_count": 30,
   "id": "3aaa5fe5",
   "metadata": {
    "slideshow": {
     "slide_type": "fragment"
    }
   },
   "outputs": [
    {
     "ename": "ERROR",
     "evalue": "Error in eval(expr, envir, enclos): Error message\n",
     "output_type": "error",
     "traceback": [
      "Error in eval(expr, envir, enclos): Error message\nTraceback:\n",
      "1. stop(\"Error message\")"
     ]
    }
   ],
   "source": [
    "stop(\"Error message\")"
   ]
  },
  {
   "cell_type": "code",
   "execution_count": 31,
   "id": "9d93cf88",
   "metadata": {
    "slideshow": {
     "slide_type": "fragment"
    }
   },
   "outputs": [
    {
     "name": "stderr",
     "output_type": "stream",
     "text": [
      "Warning message in eval(expr, envir, enclos):\n",
      "“Warning message”\n"
     ]
    }
   ],
   "source": [
    "warning(\"Warning message\")"
   ]
  },
  {
   "cell_type": "code",
   "execution_count": 32,
   "id": "3c746e4a",
   "metadata": {
    "slideshow": {
     "slide_type": "fragment"
    }
   },
   "outputs": [
    {
     "name": "stderr",
     "output_type": "stream",
     "text": [
      "Message\n",
      "\n"
     ]
    }
   ],
   "source": [
    "message(\"Message\")"
   ]
  },
  {
   "cell_type": "markdown",
   "id": "db6e4787",
   "metadata": {
    "slideshow": {
     "slide_type": "slide"
    }
   },
   "source": [
    "## Errors\n",
    "\n",
    "- In R errors are signalled (or thrown) with `stop()`\n",
    "- By default, the error message includes the call.\n",
    "- Program execution stops once an error is raised"
   ]
  },
  {
   "cell_type": "code",
   "execution_count": 33,
   "id": "127d61e3",
   "metadata": {
    "slideshow": {
     "slide_type": "fragment"
    }
   },
   "outputs": [
    {
     "ename": "ERROR",
     "evalue": "Error in if (c(TRUE, TRUE, FALSE)) {: the condition has length > 1\n",
     "output_type": "error",
     "traceback": [
      "Error in if (c(TRUE, TRUE, FALSE)) {: the condition has length > 1\nTraceback:\n"
     ]
    }
   ],
   "source": [
    "if (c(TRUE, TRUE, FALSE)) {\n",
    "  print(\"This used to work pre R-4.2.0\")\n",
    "}"
   ]
  },
  {
   "cell_type": "markdown",
   "id": "a5b6fe34",
   "metadata": {
    "slideshow": {
     "slide_type": "slide"
    }
   },
   "source": [
    "## Warnings\n",
    "\n",
    "- Weaker versions of errors:\n",
    "    - Something went wrong, but the program has been ableto recover and continue.\n",
    "- Single call in result in multiple warnings (as opposed to a single error).\n",
    "- Take note of the warnings resulting from base R operations.\n",
    "- Some of them might eventually become errors."
   ]
  },
  {
   "cell_type": "code",
   "execution_count": 34,
   "id": "aba3c0de",
   "metadata": {
    "slideshow": {
     "slide_type": "fragment"
    }
   },
   "outputs": [
    {
     "name": "stderr",
     "output_type": "stream",
     "text": [
      "Warning message in c(TRUE, FALSE) && c(TRUE, TRUE):\n",
      "“'length(x) = 2 > 1' in coercion to 'logical(1)'”\n",
      "Warning message in c(TRUE, FALSE) && c(TRUE, TRUE):\n",
      "“'length(x) = 2 > 1' in coercion to 'logical(1)'”\n"
     ]
    },
    {
     "data": {
      "text/plain": [
       "[1] TRUE"
      ]
     },
     "metadata": {},
     "output_type": "display_data"
    }
   ],
   "source": [
    "# Will become an error in future versions of R\n",
    "c(TRUE, FALSE) && c(TRUE, TRUE)"
   ]
  },
  {
   "cell_type": "markdown",
   "id": "ed54b34c",
   "metadata": {
    "slideshow": {
     "slide_type": "slide"
    }
   },
   "source": [
    "## Messages\n",
    "\n",
    "- Messages serve mostly informational purposes.\n",
    "- They tell the user:\n",
    "    - that something was done\n",
    "    - the details of how something was done.\n",
    "- Sometimes these actions are not anticipated.\n",
    "- Useful for functions with side-effects (accessing server, writing to disk, etc.)"
   ]
  },
  {
   "cell_type": "code",
   "execution_count": 35,
   "id": "a813b002",
   "metadata": {
    "slideshow": {
     "slide_type": "fragment"
    }
   },
   "outputs": [
    {
     "name": "stderr",
     "output_type": "stream",
     "text": [
      "\u001b[1mRows: \u001b[22m\u001b[34m44\u001b[39m \u001b[1mColumns: \u001b[22m\u001b[34m3\u001b[39m\n",
      "\u001b[36m──\u001b[39m \u001b[1mColumn specification\u001b[22m \u001b[36m───────────────────────────────────────────────────────────────────────────────────────────────────────────────────────────────────────────────────────────────────────────────────────────\u001b[39m\n",
      "\u001b[1mDelimiter:\u001b[22m \",\"\n",
      "\u001b[31mchr\u001b[39m (1): dataset\n",
      "\u001b[32mdbl\u001b[39m (2): x, y\n",
      "\n",
      "\u001b[36mℹ\u001b[39m Use `spec()` to retrieve the full column specification for this data.\n",
      "\u001b[36mℹ\u001b[39m Specify the column types or set `show_col_types = FALSE` to quiet this message.\n"
     ]
    }
   ],
   "source": [
    "anscombes_quartet <- readr::read_csv(\"../data/anscombes_quartet.csv\")"
   ]
  },
  {
   "cell_type": "markdown",
   "id": "0ed0fee0",
   "metadata": {
    "slideshow": {
     "slide_type": "slide"
    }
   },
   "source": [
    "## Handling conditions\n",
    "\n",
    "- Every condition has default behaviour:\n",
    "    - Errors terminate program execution\n",
    "    - Warnings are captured and displayed in aggregate\n",
    "    - Message are shown immediately\n",
    "- But with condition **handlers** we can override the default behaviour.\n"
   ]
  },
  {
   "cell_type": "markdown",
   "id": "fb497239",
   "metadata": {
    "slideshow": {
     "slide_type": "slide"
    }
   },
   "source": [
    "## Ignoring conditions\n",
    "\n",
    "- The simplest way of handling conditions is **ignoring** them.\n",
    "- Heavy-handed approach, given the type of condition does not make further distinctions.\n",
    "- Bear in mind the risks of ignoring the information (especially, errors!)\n",
    "- Functions for handling conditions depend on the type of condition:\n",
    "    - `try()` for errors\n",
    "    - `suppressWarnings()` for warnings\n",
    "    - `suppressMessages()` for messages"
   ]
  },
  {
   "cell_type": "code",
   "execution_count": 36,
   "id": "bd04b287",
   "metadata": {
    "slideshow": {
     "slide_type": "fragment"
    }
   },
   "outputs": [],
   "source": [
    "suppressMessages(anscombes_quartet <- readr::read_csv(\"../data/anscombes_quartet.csv\"))"
   ]
  },
  {
   "cell_type": "code",
   "execution_count": 37,
   "id": "d4d347e6",
   "metadata": {
    "slideshow": {
     "slide_type": "fragment"
    }
   },
   "outputs": [],
   "source": [
    "# But some functions would provide arguments to silence messages\n",
    "# This should be preferred to heavy-handed suppressMessages()\n",
    "anscombes_quartet <- readr::read_csv(\n",
    "  \"../data/anscombes_quartet.csv\",\n",
    "  show_col_types = FALSE\n",
    ")"
   ]
  },
  {
   "cell_type": "code",
   "execution_count": 38,
   "id": "3c235b92",
   "metadata": {
    "slideshow": {
     "slide_type": "fragment"
    }
   },
   "outputs": [],
   "source": [
    "# suppressPackageStartupMessages() - a variant for package startup messages\n",
    "# But suppressMessages() would also work.\n",
    "suppressPackageStartupMessages(library(\"dplyr\"))"
   ]
  },
  {
   "cell_type": "markdown",
   "id": "be9fdb9d",
   "metadata": {
    "slideshow": {
     "slide_type": "slide"
    }
   },
   "source": [
    "## Ignoring errors"
   ]
  },
  {
   "cell_type": "code",
   "execution_count": 39,
   "id": "f0e927d0",
   "metadata": {
    "slideshow": {
     "slide_type": "fragment"
    }
   },
   "outputs": [],
   "source": [
    "f1 <- function(x) {\n",
    "  log(x)\n",
    "  10\n",
    "}"
   ]
  },
  {
   "cell_type": "code",
   "execution_count": 40,
   "id": "357f29f2",
   "metadata": {
    "slideshow": {
     "slide_type": "fragment"
    }
   },
   "outputs": [
    {
     "ename": "ERROR",
     "evalue": "Error in log(x): non-numeric argument to mathematical function\n",
     "output_type": "error",
     "traceback": [
      "Error in log(x): non-numeric argument to mathematical function\nTraceback:\n",
      "1. f1(\"x\")"
     ]
    }
   ],
   "source": [
    "f1(\"x\")"
   ]
  },
  {
   "cell_type": "code",
   "execution_count": 41,
   "id": "c95482b0",
   "metadata": {
    "slideshow": {
     "slide_type": "fragment"
    }
   },
   "outputs": [],
   "source": [
    "f2 <- function(x) {\n",
    "  try(log(x))\n",
    "  10\n",
    "}"
   ]
  },
  {
   "cell_type": "code",
   "execution_count": 42,
   "id": "f2db1527",
   "metadata": {
    "slideshow": {
     "slide_type": "fragment"
    }
   },
   "outputs": [
    {
     "name": "stdout",
     "output_type": "stream",
     "text": [
      "Error in log(x) : non-numeric argument to mathematical function\n"
     ]
    },
    {
     "data": {
      "text/plain": [
       "[1] 10"
      ]
     },
     "metadata": {},
     "output_type": "display_data"
    }
   ],
   "source": [
    "f2(\"y\")"
   ]
  },
  {
   "cell_type": "markdown",
   "id": "0220767b",
   "metadata": {
    "slideshow": {
     "slide_type": "slide"
    }
   },
   "source": [
    "## Condition handlers\n",
    "\n",
    "- More advanced approach to dealing with conditions is providing handlers.\n",
    "- They allow to override or supplement the default behaviour.\n",
    "- In particular, two function can:\n",
    "    - `tryCatch()` define **exiting** handlers\n",
    "    - `withCallingHandlers()` define **calling** handlers\n",
    "    \n",
    "```\n",
    "tryCatch(\n",
    "  error = function(cnd) {\n",
    "    # code to run when error is thrown\n",
    "  },\n",
    "  code_to_run_while_handlers_are_active\n",
    ")\n",
    "```\n",
    "\n",
    "```\n",
    "withCallingHandlers(\n",
    "  warning = function(cnd) {\n",
    "    # code to run when warning is signalled\n",
    "  },\n",
    "  message = function(cnd) {\n",
    "    # code to run when message is signalled\n",
    "  },\n",
    "  code_to_run_while_handlers_are_active\n",
    ")\n",
    "```"
   ]
  },
  {
   "cell_type": "markdown",
   "id": "0706a56c",
   "metadata": {
    "slideshow": {
     "slide_type": "slide"
    }
   },
   "source": [
    "## Exiting handlers\n",
    "\n",
    "- The handlers set up by `tryCatch()` are called exiting handlers.\n",
    "- After the condition is signalled, control flow passes to the handler.\n",
    "- It never returns to the original code, effectively meaning that the code exits."
   ]
  },
  {
   "cell_type": "code",
   "execution_count": 43,
   "id": "5cb61156",
   "metadata": {
    "slideshow": {
     "slide_type": "fragment"
    }
   },
   "outputs": [],
   "source": [
    "f3 <- function(x) {\n",
    "  tryCatch(\n",
    "    error = function(e) NA,\n",
    "    log(x)\n",
    "  )\n",
    "}"
   ]
  },
  {
   "cell_type": "code",
   "execution_count": 44,
   "id": "1cdb6289",
   "metadata": {
    "slideshow": {
     "slide_type": "fragment"
    }
   },
   "outputs": [
    {
     "data": {
      "text/plain": [
       "[1] NA"
      ]
     },
     "metadata": {},
     "output_type": "display_data"
    }
   ],
   "source": [
    "f3(\"x\")"
   ]
  },
  {
   "cell_type": "markdown",
   "id": "3d11104b",
   "metadata": {
    "slideshow": {
     "slide_type": "slide"
    }
   },
   "source": [
    "## Calling handlers\n",
    "\n",
    "- With calling handlers code execution continues normally once the handler returns.\n",
    "- A more natural pairing with the non-error conditions."
   ]
  },
  {
   "cell_type": "code",
   "execution_count": 45,
   "id": "56907153",
   "metadata": {
    "slideshow": {
     "slide_type": "fragment"
    }
   },
   "outputs": [
    {
     "name": "stdout",
     "output_type": "stream",
     "text": [
      "Please, enter a number:f\n",
      "[1] \"This is not a number. Please, try again.\"\n"
     ]
    },
    {
     "name": "stderr",
     "output_type": "stream",
     "text": [
      "Warning message in withCallingHandlers(warning = function(cnd) {:\n",
      "“NAs introduced by coercion”\n"
     ]
    },
    {
     "name": "stdout",
     "output_type": "stream",
     "text": [
      "Please, enter a number:43\n",
      "[1] \"Your input '43' is recorded\"\n"
     ]
    }
   ],
   "source": [
    "# Infinite loop, analogous to while (TRUE)\n",
    "repeat {\n",
    "  num <- readline(\"Please, enter a number:\")\n",
    "  if (num != \"\") {\n",
    "    withCallingHandlers(\n",
    "      warning = function(cnd) {\n",
    "        print(\"This is not a number. Please, try again.\")\n",
    "      },\n",
    "      num <- as.numeric(num)\n",
    "    )\n",
    "  } else {\n",
    "    print(\"No input provided. Please, try again.\")\n",
    "  }\n",
    "  if (!is.na(num)) {\n",
    "    print(paste0(\"Your input '\", as.character(num), \"' is recorded\"))\n",
    "    break\n",
    "  }\n",
    "}"
   ]
  },
  {
   "cell_type": "markdown",
   "id": "45d1a42b",
   "metadata": {
    "slideshow": {
     "slide_type": "slide"
    }
   },
   "source": [
    "## Discretion in condition handling\n",
    "\n",
    "<div style=\"text-align: center;\">\n",
    "    <img width=\"700\" height=\"700\" src=\"../imgs/try_catch.jpg\">\n",
    "</div> \n",
    "\n",
    "Source: [Reddit](https://www.reddit.com/r/ProgrammerHumor/comments/6ayz26/defensive_programming_done_right/)"
   ]
  },
  {
   "cell_type": "markdown",
   "id": "665e9ee2",
   "metadata": {
    "slideshow": {
     "slide_type": "slide"
    }
   },
   "source": [
    "## Expectations\n",
    "\n",
    "- When designing a function you built in certain expectations about:\n",
    "    - Acceptable inputs;\n",
    "    - Conditions triggered;\n",
    "    - Returned object.\n",
    "    - Etc.\n",
    "- Checking inputs at the beginning helps fail fast."
   ]
  },
  {
   "cell_type": "code",
   "execution_count": 46,
   "id": "c4d2aa3f",
   "metadata": {
    "slideshow": {
     "slide_type": "fragment"
    }
   },
   "outputs": [],
   "source": [
    "calculate_median <- function(a) {\n",
    "  if (!is.numeric(a)) {\n",
    "    stop(\"Vector must be numeric\")\n",
    "  }\n",
    "  a <- sort(a)\n",
    "  n <- length(a)\n",
    "  m <- (n + 1) %/% 2\n",
    "  if (n %% 2 == 1) {\n",
    "    med <- a[m]\n",
    "  } else {\n",
    "    med <- mean(a[m:(m+1)])\n",
    "  }\n",
    "  return(med)\n",
    "}"
   ]
  },
  {
   "cell_type": "markdown",
   "id": "65c1c2e8",
   "metadata": {
    "slideshow": {
     "slide_type": "slide"
    }
   },
   "source": [
    "## Checking expectations\n",
    "\n",
    "- What if we want to check whether our function's behaviour matches our expectations?\n",
    "- One option would be to use `==` (or `!=`).\n",
    "- However, for numerical values it can be problematic:"
   ]
  },
  {
   "cell_type": "code",
   "execution_count": 47,
   "id": "d7f94656",
   "metadata": {
    "slideshow": {
     "slide_type": "fragment"
    }
   },
   "outputs": [],
   "source": [
    "v3 <- c(7.22, 1.54, 3.47, 2.75)"
   ]
  },
  {
   "cell_type": "code",
   "execution_count": 48,
   "id": "f1706add",
   "metadata": {
    "slideshow": {
     "slide_type": "fragment"
    }
   },
   "outputs": [
    {
     "data": {
      "text/plain": [
       "[1] 3.11"
      ]
     },
     "metadata": {},
     "output_type": "display_data"
    }
   ],
   "source": [
    "calculate_median(v3)"
   ]
  },
  {
   "cell_type": "code",
   "execution_count": 49,
   "id": "208e6d2b",
   "metadata": {
    "slideshow": {
     "slide_type": "fragment"
    }
   },
   "outputs": [
    {
     "data": {
      "text/plain": [
       "[1] FALSE"
      ]
     },
     "metadata": {},
     "output_type": "display_data"
    }
   ],
   "source": [
    "calculate_median(v3) == 3.11"
   ]
  },
  {
   "cell_type": "code",
   "execution_count": 50,
   "id": "df8823ec",
   "metadata": {
    "slideshow": {
     "slide_type": "fragment"
    }
   },
   "outputs": [
    {
     "data": {
      "text/plain": [
       "[1] TRUE"
      ]
     },
     "metadata": {},
     "output_type": "display_data"
    }
   ],
   "source": [
    "all.equal(calculate_median(v3), 3.11)"
   ]
  },
  {
   "cell_type": "markdown",
   "id": "a3135a93",
   "metadata": {
    "slideshow": {
     "slide_type": "slide"
    }
   },
   "source": [
    "## Checking expectations continued\n",
    "\n",
    "- A better way to compare values where a single `TRUE` or `FALSE` is expected is to use special functions:\n",
    "    - `all.equal()` - approximately equal\n",
    "    - `identical()` - exactly identical (incl. type)\n",
    "    - `isTRUE()` - whether value is `TRUE`\n",
    "    - `isFALSE()` - whether value is `FALSE`"
   ]
  },
  {
   "cell_type": "code",
   "execution_count": 51,
   "id": "a24a9c61",
   "metadata": {
    "slideshow": {
     "slide_type": "fragment"
    }
   },
   "outputs": [
    {
     "data": {
      "text/plain": [
       "[1] TRUE"
      ]
     },
     "metadata": {},
     "output_type": "display_data"
    }
   ],
   "source": [
    "all.equal(length(calculate_median(v3)), 1)"
   ]
  },
  {
   "cell_type": "code",
   "execution_count": 52,
   "id": "c4799e3a",
   "metadata": {
    "slideshow": {
     "slide_type": "fragment"
    }
   },
   "outputs": [
    {
     "data": {
      "text/plain": [
       "[1] FALSE"
      ]
     },
     "metadata": {},
     "output_type": "display_data"
    }
   ],
   "source": [
    "# Note that the output of length is of type integer\n",
    "identical(length(calculate_median(v3)), 1)"
   ]
  },
  {
   "cell_type": "code",
   "execution_count": 53,
   "id": "2b551e80",
   "metadata": {
    "slideshow": {
     "slide_type": "fragment"
    }
   },
   "outputs": [
    {
     "data": {
      "text/plain": [
       "[1] TRUE"
      ]
     },
     "metadata": {},
     "output_type": "display_data"
    }
   ],
   "source": [
    "identical(length(calculate_median(v3)), 1L)"
   ]
  },
  {
   "cell_type": "markdown",
   "id": "aef3653e",
   "metadata": {
    "slideshow": {
     "slide_type": "slide"
    }
   },
   "source": [
    "## Formalising expectations checks: Testing\n",
    "\n",
    "- Process of running a program on pre-determined cases to ascertain that its functionality is consistent with expectations\n",
    "- Test cases consist of different assertions (of equality, boolean values, etc.)\n",
    "- Fully-featured unit testing framework in R is provided in `testthat` library \n",
    "\n",
    "Extra: [Hadley Wickham - Testing](https://r-pkgs.org/tests.html)"
   ]
  },
  {
   "cell_type": "markdown",
   "id": "c89d8815",
   "metadata": {
    "slideshow": {
     "slide_type": "slide"
    }
   },
   "source": [
    "## Testing examples"
   ]
  },
  {
   "cell_type": "code",
   "execution_count": 54,
   "id": "4b311490",
   "metadata": {
    "slideshow": {
     "slide_type": "fragment"
    }
   },
   "outputs": [
    {
     "name": "stderr",
     "output_type": "stream",
     "text": [
      "\n",
      "Attaching package: ‘testthat’\n",
      "\n",
      "\n",
      "The following object is masked from ‘package:dplyr’:\n",
      "\n",
      "    matches\n",
      "\n",
      "\n"
     ]
    }
   ],
   "source": [
    "library(\"testthat\")"
   ]
  },
  {
   "cell_type": "code",
   "execution_count": 55,
   "id": "00fd2b32",
   "metadata": {
    "slideshow": {
     "slide_type": "fragment"
    }
   },
   "outputs": [],
   "source": [
    "calculate_median <- function(a) {\n",
    "  if (!is.numeric(a)) {\n",
    "    stop(\"Vector must be numeric\")\n",
    "  }\n",
    "  a <- sort(a)\n",
    "  n <- length(a)\n",
    "  m <- (n + 1) %/% 2\n",
    "  if (n %% 2 == 1) {\n",
    "    med <- a[m]\n",
    "  } else {\n",
    "    med <- mean(a[m:(m+1)])\n",
    "  }\n",
    "  return(med)\n",
    "}"
   ]
  },
  {
   "cell_type": "markdown",
   "id": "7e126eb7",
   "metadata": {
    "slideshow": {
     "slide_type": "slide"
    }
   },
   "source": [
    "## Testing examples continued"
   ]
  },
  {
   "cell_type": "code",
   "execution_count": 56,
   "id": "93d4364a",
   "metadata": {
    "slideshow": {
     "slide_type": "fragment"
    }
   },
   "outputs": [
    {
     "name": "stdout",
     "output_type": "stream",
     "text": [
      "\u001b[32mTest passed\u001b[39m 😀\n"
     ]
    }
   ],
   "source": [
    "testthat::test_that(\"The length of result is 1\", {\n",
    "  testthat::expect_equal(\n",
    "    length(calculate_median(c(0, 1, 2, 2))), \n",
    "    1L\n",
    "  )\n",
    "  testthat::expect_equal(\n",
    "    length(calculate_median(c(1, 2, 3))),\n",
    "    1L\n",
    "  )\n",
    "  testthat::expect_equal(\n",
    "    length(calculate_median(c(7.22, 1.54, 3.47, 2.75))),\n",
    "    1L\n",
    "  )\n",
    "})"
   ]
  },
  {
   "cell_type": "markdown",
   "id": "cedd2d4c",
   "metadata": {
    "slideshow": {
     "slide_type": "slide"
    }
   },
   "source": [
    "## Testing examples continued"
   ]
  },
  {
   "cell_type": "code",
   "execution_count": 57,
   "id": "0489dbf3",
   "metadata": {
    "slideshow": {
     "slide_type": "fragment"
    }
   },
   "outputs": [
    {
     "name": "stdout",
     "output_type": "stream",
     "text": [
      "\u001b[32mTest passed\u001b[39m 🥇\n"
     ]
    }
   ],
   "source": [
    "testthat::test_that(\"Error on non-numeric input\", {\n",
    "  testthat::expect_error(\n",
    "    calculate_median(c(\"a\", \"bc\", \"xyz\"))\n",
    "  )\n",
    "  testthat::expect_error(\n",
    "    calculate_median(c(TRUE, FALSE, FALSE))\n",
    "  )\n",
    "  testthat::expect_error(\n",
    "    calculate_median(c(\"0\", \"1\", \"2\", \"2\"))\n",
    "  )\n",
    "})"
   ]
  },
  {
   "cell_type": "markdown",
   "id": "734b99f1",
   "metadata": {
    "slideshow": {
     "slide_type": "slide"
    }
   },
   "source": [
    "## Testing examples continued"
   ]
  },
  {
   "cell_type": "code",
   "execution_count": 58,
   "id": "78df7879",
   "metadata": {
    "slideshow": {
     "slide_type": "fragment"
    }
   },
   "outputs": [
    {
     "name": "stdout",
     "output_type": "stream",
     "text": [
      "── \u001b[1m\u001b[33mError\u001b[39m (<text>:4:3): The result is numeric\u001b[22m ───────────────────────────────────\n",
      "Error in `calculate_median(c(\"a\", \"bc\", \"xyz\"))`: Vector must be numeric\n",
      "\u001b[1mBacktrace:\u001b[22m\n",
      "\u001b[90m 1. \u001b[39m\u001b[1mtestthat\u001b[22m::expect_true(...)\n",
      "\u001b[90m 4. \u001b[39m\u001b[1mglobal\u001b[22m calculate_median(c(\"a\", \"bc\", \"xyz\"))\n",
      "\n"
     ]
    },
    {
     "ename": "ERROR",
     "evalue": "\u001b[1m\u001b[33mError\u001b[39m:\u001b[22m\n\u001b[33m!\u001b[39m Test failed\n",
     "output_type": "error",
     "traceback": [
      "\u001b[1m\u001b[33mError\u001b[39m:\u001b[22m\n\u001b[33m!\u001b[39m Test failed\nTraceback:\n",
      "1. testthat::test_that(\"The result is numeric\", {\n .     testthat::expect_true(is.numeric(calculate_median(c(0, 1, \n .         1, 2))))\n .     testthat::expect_true(is.numeric(calculate_median(c(1, 2, \n .         3))))\n .     testthat::expect_true(is.numeric(calculate_median(c(\"a\", \n .         \"bc\", \"xyz\"))))\n . })",
      "2. (function (envir) \n . {\n .     handlers <- get_handlers(envir)\n .     errors <- list()\n .     for (handler in handlers) {\n .         tryCatch(eval(handler$expr, handler$envir), error = function(e) {\n .             errors[[length(errors) + 1]] <<- e\n .         })\n .     }\n .     attr(envir, \"withr_handlers\") <- NULL\n .     for (error in errors) {\n .         stop(error)\n .     }\n . })(<environment>)"
     ]
    }
   ],
   "source": [
    "testthat::test_that(\"The result is numeric\", {\n",
    "  testthat::expect_true(\n",
    "    is.numeric(calculate_median(c(0, 1, 1, 2)))\n",
    "  )\n",
    "  testthat::expect_true(\n",
    "    is.numeric(calculate_median(c(1, 2, 3)))\n",
    "  )\n",
    "  testthat::expect_true(\n",
    "    is.numeric(calculate_median(c(\"a\", \"bc\", \"xyz\")))\n",
    "  )\n",
    "})"
   ]
  },
  {
   "cell_type": "markdown",
   "id": "4c05e6bd",
   "metadata": {
    "slideshow": {
     "slide_type": "slide"
    }
   },
   "source": [
    "## Defensive programming\n",
    "\n",
    "- Design your program to facilitate earlier failures, testing and debugging.\n",
    "- Make code fail fast and in well-defined manner.\n",
    "- Split up different componenets into functions or modules.\n",
    "- Be strict about accepted inputs, use assertions or conditional statements to check them.\n",
    "- Document assumptions and acceptable inputs using docstrings.\n",
    "- Document non-trivial, potentially problematic and complex parts of code."
   ]
  },
  {
   "cell_type": "markdown",
   "id": "c91e503e",
   "metadata": {
    "slideshow": {
     "slide_type": "slide"
    }
   },
   "source": [
    "## Next\n",
    "\n",
    "- Tutorial: Using Debugger and Testing \n",
    "- Next week: Data Wrangling in R"
   ]
  }
 ],
 "metadata": {
  "celltoolbar": "Slideshow",
  "kernelspec": {
   "display_name": "R",
   "language": "R",
   "name": "ir"
  },
  "language_info": {
   "codemirror_mode": "r",
   "file_extension": ".r",
   "mimetype": "text/x-r-source",
   "name": "R",
   "pygments_lexer": "r",
   "version": "4.1.2"
  }
 },
 "nbformat": 4,
 "nbformat_minor": 5
}
