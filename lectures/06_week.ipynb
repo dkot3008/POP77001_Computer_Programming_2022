{
 "cells": [
  {
   "cell_type": "code",
   "execution_count": 1,
   "id": "418a33f8",
   "metadata": {
    "slideshow": {
     "slide_type": "skip"
    }
   },
   "outputs": [],
   "source": [
    "options(jupyter.rich_display = FALSE)"
   ]
  },
  {
   "cell_type": "markdown",
   "id": "87620c09",
   "metadata": {
    "slideshow": {
     "slide_type": "slide"
    }
   },
   "source": [
    "## Week 6: Data Wrangling in R\n",
    "\n",
    "### POP77001 Computer Programming for Social Scientists\n",
    "\n",
    "### Tom Paskhalis\n",
    "\n",
    "##### 17 October 2022\n",
    "\n",
    "##### Module website: [tinyurl.com/POP77001](https://tinyurl.com/POP77001)"
   ]
  },
  {
   "cell_type": "markdown",
   "id": "9c087c21",
   "metadata": {
    "slideshow": {
     "slide_type": "slide"
    }
   },
   "source": [
    "## Overview\n",
    "\n",
    "- Data frames in base R\n",
    "- Alternatives to data frames\n",
    "- `tidyverse` packages\n",
    "- Working with tabular data\n",
    "- Data input and output\n",
    "- Summary statistics\n"
   ]
  },
  {
   "cell_type": "markdown",
   "id": "6c4ecf83",
   "metadata": {
    "slideshow": {
     "slide_type": "slide"
    }
   },
   "source": [
    "## Tidy data\n",
    "\n",
    "- Tidy data is a specific subset of rectangular data, where:\n",
    "    - Each variable is in a column\n",
    "    - Each observation is in a row\n",
    "    - Each value is in a cell\n",
    "\n",
    "<div style=\"text-align: center;\">\n",
    "    <img width=\"700\" height=\"700\" src=\"../imgs/tidy_data.png\">\n",
    "</div>\n",
    "\n",
    "Source: [R for Data Science](https://r4ds.had.co.nz/tidy-data.html) "
   ]
  },
  {
   "cell_type": "markdown",
   "id": "4c03efab",
   "metadata": {
    "slideshow": {
     "slide_type": "slide"
    }
   },
   "source": [
    "## Data frames\n",
    "\n",
    "- Data frame is one of the object types available in base R.\n",
    "- Despite their matrix-like appearance, data frames are lists of equal-sized vectors.\n",
    "- Data frames can be created with `data.frame()` function with named vectors as input.\n"
   ]
  },
  {
   "cell_type": "code",
   "execution_count": 2,
   "id": "b0059dab",
   "metadata": {
    "slideshow": {
     "slide_type": "fragment"
    }
   },
   "outputs": [
    {
     "data": {
      "text/plain": [
       "  x y z    \n",
       "1 1 a  TRUE\n",
       "2 2 b FALSE\n",
       "3 3 c FALSE\n",
       "4 4 d  TRUE"
      ]
     },
     "metadata": {},
     "output_type": "display_data"
    }
   ],
   "source": [
    "df <- data.frame(\n",
    "    x = 1:4,\n",
    "    y = c(\"a\", \"b\", \"c\", \"d\"),\n",
    "    z = c(TRUE, FALSE, FALSE, TRUE)\n",
    ")\n",
    "df"
   ]
  },
  {
   "cell_type": "markdown",
   "id": "5be01f40",
   "metadata": {
    "slideshow": {
     "slide_type": "slide"
    }
   },
   "source": [
    "## Data frame example"
   ]
  },
  {
   "cell_type": "code",
   "execution_count": 3,
   "id": "721afdb9",
   "metadata": {
    "scrolled": true,
    "slideshow": {
     "slide_type": "fragment"
    }
   },
   "outputs": [
    {
     "name": "stdout",
     "output_type": "stream",
     "text": [
      "'data.frame':\t4 obs. of  3 variables:\n",
      " $ x: int  1 2 3 4\n",
      " $ y: chr  \"a\" \"b\" \"c\" \"d\"\n",
      " $ z: logi  TRUE FALSE FALSE TRUE\n"
     ]
    }
   ],
   "source": [
    "# str() function applied to data frame is useful in determining variable types\n",
    "str(df)"
   ]
  },
  {
   "cell_type": "code",
   "execution_count": 4,
   "id": "380292b6",
   "metadata": {
    "slideshow": {
     "slide_type": "fragment"
    }
   },
   "outputs": [
    {
     "data": {
      "text/plain": [
       "[1] 4 3"
      ]
     },
     "metadata": {},
     "output_type": "display_data"
    }
   ],
   "source": [
    "# dim() function behaves similar to matrix, showing N rows and N columns, respectively\n",
    "dim(df)"
   ]
  },
  {
   "cell_type": "code",
   "execution_count": 5,
   "id": "c60c1521",
   "metadata": {
    "slideshow": {
     "slide_type": "fragment"
    }
   },
   "outputs": [
    {
     "data": {
      "text/plain": [
       "[1] 3"
      ]
     },
     "metadata": {},
     "output_type": "display_data"
    }
   ],
   "source": [
    "# In contrast to matrix length() of data frame displays the length of underlying list\n",
    "length(df)"
   ]
  },
  {
   "cell_type": "markdown",
   "id": "3ebba9bf",
   "metadata": {
    "slideshow": {
     "slide_type": "slide"
    }
   },
   "source": [
    "## Creating data frame example"
   ]
  },
  {
   "cell_type": "code",
   "execution_count": 6,
   "id": "45f92fb5",
   "metadata": {
    "slideshow": {
     "slide_type": "fragment"
    }
   },
   "outputs": [
    {
     "data": {
      "text/plain": [
       "$x\n",
       "[1] 1 2 3 4 5\n",
       "\n",
       "$y\n",
       "[1] \"a\" \"b\" \"c\" \"d\" \"e\"\n",
       "\n",
       "$z\n",
       "[1]  TRUE FALSE  TRUE FALSE  TRUE\n"
      ]
     },
     "metadata": {},
     "output_type": "display_data"
    }
   ],
   "source": [
    "l <- list(x = 1:5, y = letters[1:5], z = rep(c(TRUE, FALSE), length.out = 5))\n",
    "l"
   ]
  },
  {
   "cell_type": "code",
   "execution_count": 7,
   "id": "d5307694",
   "metadata": {
    "slideshow": {
     "slide_type": "fragment"
    }
   },
   "outputs": [
    {
     "data": {
      "text/plain": [
       "  x y z    \n",
       "1 1 a  TRUE\n",
       "2 2 b FALSE\n",
       "3 3 c  TRUE\n",
       "4 4 d FALSE\n",
       "5 5 e  TRUE"
      ]
     },
     "metadata": {},
     "output_type": "display_data"
    }
   ],
   "source": [
    "df <- data.frame(l)\n",
    "df"
   ]
  },
  {
   "cell_type": "code",
   "execution_count": 8,
   "id": "80067d82",
   "metadata": {
    "slideshow": {
     "slide_type": "fragment"
    }
   },
   "outputs": [
    {
     "name": "stdout",
     "output_type": "stream",
     "text": [
      "'data.frame':\t5 obs. of  3 variables:\n",
      " $ x: int  1 2 3 4 5\n",
      " $ y: chr  \"a\" \"b\" \"c\" \"d\" ...\n",
      " $ z: logi  TRUE FALSE TRUE FALSE TRUE\n"
     ]
    }
   ],
   "source": [
    "str(df)"
   ]
  },
  {
   "cell_type": "markdown",
   "id": "99cb95d2",
   "metadata": {
    "slideshow": {
     "slide_type": "slide"
    }
   },
   "source": [
    "## Subsetting data frame\n",
    "\n",
    "- In subsetting data frames the techniques of subsetting matrices and lists are combined\n",
    "- If you subset with a single vector, it behaves as a list\n",
    "- If you subset with two vectors, it behaves as a matrix"
   ]
  },
  {
   "cell_type": "markdown",
   "id": "eb49a896",
   "metadata": {
    "slideshow": {
     "slide_type": "slide"
    }
   },
   "source": [
    "## Subsetting data frame example"
   ]
  },
  {
   "cell_type": "code",
   "execution_count": 9,
   "id": "792b94f3",
   "metadata": {
    "scrolled": true,
    "slideshow": {
     "slide_type": "fragment"
    }
   },
   "outputs": [
    {
     "data": {
      "text/plain": [
       "  x z    \n",
       "1 1  TRUE\n",
       "2 2 FALSE\n",
       "3 3  TRUE\n",
       "4 4 FALSE\n",
       "5 5  TRUE"
      ]
     },
     "metadata": {},
     "output_type": "display_data"
    }
   ],
   "source": [
    "# Like a list\n",
    "df[c(\"x\", \"z\")]"
   ]
  },
  {
   "cell_type": "code",
   "execution_count": 10,
   "id": "03b2086f",
   "metadata": {
    "slideshow": {
     "slide_type": "fragment"
    }
   },
   "outputs": [
    {
     "data": {
      "text/plain": [
       "  x z    \n",
       "1 1  TRUE\n",
       "2 2 FALSE\n",
       "3 3  TRUE\n",
       "4 4 FALSE\n",
       "5 5  TRUE"
      ]
     },
     "metadata": {},
     "output_type": "display_data"
    }
   ],
   "source": [
    "# Like a matrix\n",
    "df[,c(\"x\", \"z\")]"
   ]
  },
  {
   "cell_type": "code",
   "execution_count": 11,
   "id": "ed67ca5a",
   "metadata": {
    "slideshow": {
     "slide_type": "fragment"
    }
   },
   "outputs": [
    {
     "data": {
      "text/plain": [
       "  x y z    \n",
       "2 2 b FALSE"
      ]
     },
     "metadata": {},
     "output_type": "display_data"
    }
   ],
   "source": [
    "df[df$y == \"b\",]"
   ]
  },
  {
   "cell_type": "markdown",
   "id": "073affa2",
   "metadata": {
    "slideshow": {
     "slide_type": "slide"
    }
   },
   "source": [
    "## Building data frame\n",
    "\n",
    "- `rbind()` (row bind) - appends a row to data frame\n",
    "- `cbind()` (column bind) - appends a column to data frame\n",
    "- Both require compatible sizes (number of rows/columns)"
   ]
  },
  {
   "cell_type": "markdown",
   "id": "c1e83c9e",
   "metadata": {
    "slideshow": {
     "slide_type": "slide"
    }
   },
   "source": [
    "## Building data frame examples\n",
    "\n",
    "- Adding columns"
   ]
  },
  {
   "cell_type": "code",
   "execution_count": 12,
   "id": "9e9dae90",
   "metadata": {
    "slideshow": {
     "slide_type": "fragment"
    }
   },
   "outputs": [
    {
     "data": {
      "text/plain": [
       "[1] -1.6395385 -0.6401171  1.4880066 -0.4978420 -1.3442429"
      ]
     },
     "metadata": {},
     "output_type": "display_data"
    }
   ],
   "source": [
    "rand <- rnorm(5)\n",
    "rand"
   ]
  },
  {
   "cell_type": "code",
   "execution_count": 13,
   "id": "5a193568",
   "metadata": {
    "slideshow": {
     "slide_type": "fragment"
    }
   },
   "outputs": [
    {
     "data": {
      "text/plain": [
       "  x y z     rand      \n",
       "1 1 a  TRUE -1.6395385\n",
       "2 2 b FALSE -0.6401171\n",
       "3 3 c  TRUE  1.4880066\n",
       "4 4 d FALSE -0.4978420\n",
       "5 5 e  TRUE -1.3442429"
      ]
     },
     "metadata": {},
     "output_type": "display_data"
    }
   ],
   "source": [
    "df <- cbind(df, rand)\n",
    "df"
   ]
  },
  {
   "cell_type": "markdown",
   "id": "16c9baaa",
   "metadata": {
    "slideshow": {
     "slide_type": "slide"
    }
   },
   "source": [
    "## Building data frame examples continued\n",
    "\n",
    "- Adding rows"
   ]
  },
  {
   "cell_type": "code",
   "execution_count": 14,
   "id": "3aac3af6",
   "metadata": {
    "slideshow": {
     "slide_type": "fragment"
    }
   },
   "outputs": [
    {
     "data": {
      "text/plain": [
       "[[1]]\n",
       "[1] 6\n",
       "\n",
       "[[2]]\n",
       "[1] \"f\"\n",
       "\n",
       "[[3]]\n",
       "[1] FALSE\n",
       "\n",
       "[[4]]\n",
       "[1] -0.2291225\n"
      ]
     },
     "metadata": {},
     "output_type": "display_data"
    }
   ],
   "source": [
    "# Note that a row has to be a list as it contains different data types\n",
    "r <- list(6, letters[6], FALSE, rnorm(1))\n",
    "r"
   ]
  },
  {
   "cell_type": "code",
   "execution_count": 15,
   "id": "38b8ccad",
   "metadata": {
    "slideshow": {
     "slide_type": "fragment"
    }
   },
   "outputs": [
    {
     "data": {
      "text/plain": [
       "  x y z     rand      \n",
       "1 1 a  TRUE -1.6395385\n",
       "2 2 b FALSE -0.6401171\n",
       "3 3 c  TRUE  1.4880066\n",
       "4 4 d FALSE -0.4978420\n",
       "5 5 e  TRUE -1.3442429\n",
       "6 6 f FALSE -0.2291225"
      ]
     },
     "metadata": {},
     "output_type": "display_data"
    }
   ],
   "source": [
    "df <- rbind(df, r)\n",
    "df"
   ]
  },
  {
   "cell_type": "markdown",
   "id": "59923878",
   "metadata": {
    "slideshow": {
     "slide_type": "slide"
    }
   },
   "source": [
    "## Issues with data frame\n",
    "\n",
    "- While very versatile (and available out-of-the-box) data frames have their drawbacks:\n",
    "  - Individual cells (observations) cannot themselves be lists;\n",
    "  - Somewhat limited (and inconsistent) data manipulation functions; \n",
    "  - Memory inefficient (**copy-on-modify** semantics);\n",
    "  - No parallelisation."
   ]
  },
  {
   "cell_type": "markdown",
   "id": "c56296e3",
   "metadata": {
    "slideshow": {
     "slide_type": "slide"
    }
   },
   "source": [
    "## Alternatives to data frame\n",
    "\n",
    "- Two major alternatives to/enhanced versions of data frames are:\n",
    "  - `tibble` from `tibble` package (part of `tidyverse` package ecosystem)\n",
    "  - `data.table` from `data.table`\n",
    "- `tibble` provides features enhancing user experience (readability, ease of manipulation)\n",
    "- `data.table` provides speed"
   ]
  },
  {
   "cell_type": "markdown",
   "id": "73067340",
   "metadata": {
    "slideshow": {
     "slide_type": "slide"
    }
   },
   "source": [
    "## Data table - fast data frame\n",
    "\n",
    "- As opposed to data frames, data tables are updated by reference.\n",
    "- This frees up a lot of RAM for big data!\n",
    "- It provides low-level parallelism.\n",
    "- SQL-like operations for data manipulation.\n",
    "- Has no external dependencies (other than base R itself)"
   ]
  },
  {
   "cell_type": "code",
   "execution_count": 16,
   "id": "ba64a655",
   "metadata": {
    "slideshow": {
     "slide_type": "fragment"
    }
   },
   "outputs": [
    {
     "data": {
      "text/plain": [
       "  x y z    \n",
       "1 1 a  TRUE\n",
       "2 2 b FALSE\n",
       "3 3 c FALSE\n",
       "4 4 d  TRUE"
      ]
     },
     "metadata": {},
     "output_type": "display_data"
    }
   ],
   "source": [
    "dt <- data.table::data.table(\n",
    "    x = 1:4,\n",
    "    y = c(\"a\", \"b\", \"c\", \"d\"),\n",
    "    z = c(TRUE, FALSE, FALSE, TRUE)\n",
    ")\n",
    "dt"
   ]
  },
  {
   "cell_type": "markdown",
   "id": "08d64ca7",
   "metadata": {
    "slideshow": {
     "slide_type": "slide"
    }
   },
   "source": [
    "## `tidyverse` packages\n",
    "\n",
    "- `tidyverse` [package ecosystem](https://www.tidyverse.org/) - rich collection of data science packages\n",
    "- Designed with consistent interfaces and generally higher usability than base R function\n",
    "- Notable packages:\n",
    "    - `readr` - data input/output (also `readxl` for spreadsheets, `haven` for SPSS/Stata)\n",
    "    - `dplyr` - data manipulation (also `tidyr` for pivoting)\n",
    "    - `ggplot2` - data visualisation\n",
    "    - `lubridate` - working with dates and time\n",
    "    - `tibble` - enhanced data frame\n",
    "\n",
    "```\n",
    "install.packages(\"tidyverse\")\n",
    "```"
   ]
  },
  {
   "cell_type": "markdown",
   "id": "a3bd8281",
   "metadata": {
    "slideshow": {
     "slide_type": "slide"
    }
   },
   "source": [
    "## Tibble - user-friendly data frame\n",
    "\n",
    "- Tibbles are designed to be backward compatible with base R data frames\n",
    "- Console printing of tibbles is cleaner (prettified, only first 10 rows by default)\n",
    "- Tibbles can have columns that themselves contain lists as elements\n",
    "- Tibbles can be created with `tibble::tibble()` function\n",
    "- Or objects can be coerced into a tibble using `tibble::as_tibble()` function"
   ]
  },
  {
   "cell_type": "code",
   "execution_count": 17,
   "id": "cd8774f5",
   "metadata": {
    "slideshow": {
     "slide_type": "fragment"
    }
   },
   "outputs": [
    {
     "data": {
      "text/plain": [
       "  x y z    \n",
       "1 1 a  TRUE\n",
       "2 2 b FALSE\n",
       "3 3 c FALSE\n",
       "4 4 d  TRUE"
      ]
     },
     "metadata": {},
     "output_type": "display_data"
    }
   ],
   "source": [
    "tb <- tibble::tibble(\n",
    "    x = 1:4,\n",
    "    y = c(\"a\", \"b\", \"c\", \"d\"),\n",
    "    z = c(TRUE, FALSE, FALSE, TRUE)\n",
    ")\n",
    "tb"
   ]
  },
  {
   "cell_type": "markdown",
   "id": "77ca4fc4",
   "metadata": {
    "slideshow": {
     "slide_type": "slide"
    }
   },
   "source": [
    "## Tibbles work (mostly) like data frames"
   ]
  },
  {
   "cell_type": "code",
   "execution_count": 18,
   "id": "819210cb",
   "metadata": {
    "slideshow": {
     "slide_type": "fragment"
    }
   },
   "outputs": [
    {
     "name": "stdout",
     "output_type": "stream",
     "text": [
      "tibble [4 × 3] (S3: tbl_df/tbl/data.frame)\n",
      " $ x: int [1:4] 1 2 3 4\n",
      " $ y: chr [1:4] \"a\" \"b\" \"c\" \"d\"\n",
      " $ z: logi [1:4] TRUE FALSE FALSE TRUE\n"
     ]
    }
   ],
   "source": [
    "str(tb)"
   ]
  },
  {
   "cell_type": "code",
   "execution_count": 19,
   "id": "0ced2aae",
   "metadata": {
    "slideshow": {
     "slide_type": "fragment"
    }
   },
   "outputs": [
    {
     "data": {
      "text/plain": [
       "[1] 4 3"
      ]
     },
     "metadata": {},
     "output_type": "display_data"
    }
   ],
   "source": [
    "dim(tb)"
   ]
  },
  {
   "cell_type": "code",
   "execution_count": 20,
   "id": "4f7a0a5c",
   "metadata": {
    "slideshow": {
     "slide_type": "fragment"
    }
   },
   "outputs": [
    {
     "data": {
      "text/plain": [
       "  x z    \n",
       "1 1  TRUE\n",
       "2 2 FALSE\n",
       "3 3 FALSE\n",
       "4 4  TRUE"
      ]
     },
     "metadata": {},
     "output_type": "display_data"
    }
   ],
   "source": [
    "tb[c(\"x\", \"z\")]"
   ]
  },
  {
   "cell_type": "code",
   "execution_count": 21,
   "id": "2c06a52f",
   "metadata": {
    "slideshow": {
     "slide_type": "fragment"
    }
   },
   "outputs": [
    {
     "data": {
      "text/plain": [
       "  x y z    \n",
       "1 2 b FALSE"
      ]
     },
     "metadata": {},
     "output_type": "display_data"
    }
   ],
   "source": [
    "tb[tb$y == \"b\",]"
   ]
  },
  {
   "cell_type": "markdown",
   "id": "e053baea",
   "metadata": {
    "slideshow": {
     "slide_type": "slide"
    }
   },
   "source": [
    "## Manipulating columns in base R\n",
    "\n",
    "- Adding/modifying columns"
   ]
  },
  {
   "cell_type": "code",
   "execution_count": 22,
   "id": "26703258",
   "metadata": {
    "slideshow": {
     "slide_type": "fragment"
    }
   },
   "outputs": [
    {
     "data": {
      "text/plain": [
       "  x y z     r          \n",
       "1 1 a  TRUE -0.63905096\n",
       "2 2 b FALSE -0.40466580\n",
       "3 3 c FALSE  0.49230918\n",
       "4 4 d  TRUE  0.09646717"
      ]
     },
     "metadata": {},
     "output_type": "display_data"
    }
   ],
   "source": [
    "# New columns can also be created/modified by assignment (if the RHS object has correct length)\n",
    "tb[\"r\"] <- rnorm(4)\n",
    "tb"
   ]
  },
  {
   "cell_type": "code",
   "execution_count": 23,
   "id": "adaf5ed3",
   "metadata": {
    "slideshow": {
     "slide_type": "fragment"
    }
   },
   "outputs": [
    {
     "data": {
      "text/plain": [
       "  x y z     r       \n",
       "1 1 a  TRUE 4.360949\n",
       "2 2 b FALSE 4.595334\n",
       "3 3 c FALSE 5.492309\n",
       "4 4 d  TRUE 5.096467"
      ]
     },
     "metadata": {},
     "output_type": "display_data"
    }
   ],
   "source": [
    "# Individual columns can also be selected with $ operator\n",
    "tb$r <- tb$r + 5\n",
    "tb"
   ]
  },
  {
   "cell_type": "markdown",
   "id": "92abfcc2",
   "metadata": {
    "slideshow": {
     "slide_type": "slide"
    }
   },
   "source": [
    "## Manipulating columns in base R continued\n",
    "\n",
    "- Renaming columns"
   ]
  },
  {
   "cell_type": "code",
   "execution_count": 24,
   "id": "19f30c15",
   "metadata": {
    "slideshow": {
     "slide_type": "fragment"
    }
   },
   "outputs": [
    {
     "data": {
      "text/plain": [
       "[1] \"x\" \"y\" \"z\" \"r\""
      ]
     },
     "metadata": {},
     "output_type": "display_data"
    }
   ],
   "source": [
    "# names() attribute for data frames/tibbles contains column names\n",
    "names(tb)"
   ]
  },
  {
   "cell_type": "code",
   "execution_count": 25,
   "id": "b3c610bf",
   "metadata": {
    "slideshow": {
     "slide_type": "fragment"
    }
   },
   "outputs": [
    {
     "data": {
      "text/plain": [
       "  x y z     rand    \n",
       "1 1 a  TRUE 4.360949\n",
       "2 2 b FALSE 4.595334\n",
       "3 3 c FALSE 5.492309\n",
       "4 4 d  TRUE 5.096467"
      ]
     },
     "metadata": {},
     "output_type": "display_data"
    }
   ],
   "source": [
    "names(tb)[4] <- \"rand\"\n",
    "tb"
   ]
  },
  {
   "cell_type": "markdown",
   "id": "f386c0b8",
   "metadata": {
    "slideshow": {
     "slide_type": "slide"
    }
   },
   "source": [
    "## Data preparation\n",
    "\n",
    "<div style=\"text-align: center;\">\n",
    "    <img width=\"500\" height=\"500\" src=\"../imgs/cat_fixing.gif\">\n",
    "</div>\n",
    "\n",
    "Source: [Tenor](https://tenor.com/view/cat-kitty-animated-repairing-gone-wrong-plumber-cat-gif-17580336)"
   ]
  },
  {
   "cell_type": "markdown",
   "id": "fed026ad",
   "metadata": {
    "slideshow": {
     "slide_type": "slide"
    }
   },
   "source": [
    "## Data manipulation with `dplyr`\n",
    "\n",
    "- `dplyr` - is one of the core packages for data manipulation in `tidyverse`\n",
    "- Its principal functions are:\n",
    "    - `filter()` - subset rows from data\n",
    "    - `mutate()` - add new/modify existing variables\n",
    "    - `rename()` - rename existing variable\n",
    "    - `select()` - subset columns from data\n",
    "    - `arrange()` - order data by some variable\n",
    "    \n",
    "- For data summary:\n",
    "    - `group_by()` - aggregate data by some variable\n",
    "    - `summarise()` - create a summary of aggregated variables"
   ]
  },
  {
   "cell_type": "code",
   "execution_count": 26,
   "id": "045a21cb",
   "metadata": {
    "slideshow": {
     "slide_type": "fragment"
    }
   },
   "outputs": [
    {
     "name": "stderr",
     "output_type": "stream",
     "text": [
      "\n",
      "Attaching package: ‘dplyr’\n",
      "\n",
      "\n",
      "The following objects are masked from ‘package:stats’:\n",
      "\n",
      "    filter, lag\n",
      "\n",
      "\n",
      "The following objects are masked from ‘package:base’:\n",
      "\n",
      "    intersect, setdiff, setequal, union\n",
      "\n",
      "\n"
     ]
    }
   ],
   "source": [
    "library(\"dplyr\")"
   ]
  },
  {
   "cell_type": "markdown",
   "id": "44859adf",
   "metadata": {
    "slideshow": {
     "slide_type": "slide"
    }
   },
   "source": [
    "## Data manipulation with `dplyr` examples\n",
    "\n",
    "- Subsetting"
   ]
  },
  {
   "cell_type": "code",
   "execution_count": 27,
   "id": "ad4f11fc",
   "metadata": {
    "slideshow": {
     "slide_type": "fragment"
    }
   },
   "outputs": [
    {
     "data": {
      "text/plain": [
       "  x y z     rand    \n",
       "1 2 b FALSE 4.595334"
      ]
     },
     "metadata": {},
     "output_type": "display_data"
    }
   ],
   "source": [
    "dplyr::filter(tb, y == 'b', z == FALSE)"
   ]
  },
  {
   "cell_type": "code",
   "execution_count": 28,
   "id": "70adf7ad",
   "metadata": {
    "slideshow": {
     "slide_type": "fragment"
    }
   },
   "outputs": [
    {
     "data": {
      "text/plain": [
       "  x z    \n",
       "1 1  TRUE\n",
       "2 2 FALSE\n",
       "3 3 FALSE\n",
       "4 4  TRUE"
      ]
     },
     "metadata": {},
     "output_type": "display_data"
    }
   ],
   "source": [
    "# Note that dplyr functions do not require enquoted variable names\n",
    "dplyr::select(tb, x, z)"
   ]
  },
  {
   "cell_type": "code",
   "execution_count": 29,
   "id": "50e0b07e",
   "metadata": {
    "slideshow": {
     "slide_type": "fragment"
    }
   },
   "outputs": [
    {
     "data": {
      "text/plain": [
       "  rand    \n",
       "1 4.360949\n",
       "2 4.595334\n",
       "3 5.492309\n",
       "4 5.096467"
      ]
     },
     "metadata": {},
     "output_type": "display_data"
    }
   ],
   "source": [
    "# We can also use helpful tidyselect functions for more complex rules\n",
    "dplyr::select(tb, tidyselect::starts_with('r'))"
   ]
  },
  {
   "cell_type": "markdown",
   "id": "f75a463e",
   "metadata": {
    "slideshow": {
     "slide_type": "slide"
    }
   },
   "source": [
    "## Data manipulation with `dplyr` examples continued\n",
    "\n",
    "- Renaming/modifying columns"
   ]
  },
  {
   "cell_type": "code",
   "execution_count": 30,
   "id": "4e38f7b5",
   "metadata": {
    "slideshow": {
     "slide_type": "fragment"
    }
   },
   "outputs": [],
   "source": [
    "# Data is not modified in-place, you need to re-assign the results\n",
    "tb <- dplyr::rename(tb, random = rand)"
   ]
  },
  {
   "cell_type": "code",
   "execution_count": 31,
   "id": "e8296584",
   "metadata": {
    "slideshow": {
     "slide_type": "fragment"
    }
   },
   "outputs": [
    {
     "data": {
      "text/plain": [
       "  x y z     random   random_8plus\n",
       "1 1 a  TRUE 4.360949 FALSE       \n",
       "2 2 b FALSE 4.595334 FALSE       \n",
       "3 3 c FALSE 5.492309 FALSE       \n",
       "4 4 d  TRUE 5.096467 FALSE       "
      ]
     },
     "metadata": {},
     "output_type": "display_data"
    }
   ],
   "source": [
    "dplyr::mutate(tb, random_8plus = ifelse(random >= 8, TRUE, FALSE))"
   ]
  },
  {
   "cell_type": "markdown",
   "id": "4d6af852",
   "metadata": {
    "slideshow": {
     "slide_type": "slide"
    }
   },
   "source": [
    "## `%>%` operator\n",
    "\n",
    "- Users of `tidyverse` packages are encouraged to use pipe operator `%>%`\n",
    "- It allows to chain data transformations without creating intermidate variables\n",
    "- It passes the result of the previous operation as a first first argument to the next\n",
    "- Base R now also includes its own pipe operator `|>` but it is still relatively uncommon\n",
    "\n",
    "```\n",
    "<result> <- <input> %>%\n",
    "  <function_name>(., arg_1, arg_2, ..., arg_n)\n",
    "\n",
    "<result> <- <input> %>%\n",
    "  <function_name>(arg_1, arg_2, ..., arg_n)\n",
    "```"
   ]
  },
  {
   "cell_type": "markdown",
   "id": "4454366a",
   "metadata": {
    "slideshow": {
     "slide_type": "slide"
    }
   },
   "source": [
    "## `%>%` operator examples"
   ]
  },
  {
   "cell_type": "code",
   "execution_count": 32,
   "id": "aadeef00",
   "metadata": {
    "slideshow": {
     "slide_type": "fragment"
    }
   },
   "outputs": [
    {
     "data": {
      "text/plain": [
       "  x y z     random  \n",
       "1 1 a  TRUE 4.360949\n",
       "2 2 b FALSE 4.595334\n",
       "3 3 c FALSE 5.492309\n",
       "4 4 d  TRUE 5.096467"
      ]
     },
     "metadata": {},
     "output_type": "display_data"
    }
   ],
   "source": [
    "tb"
   ]
  },
  {
   "cell_type": "code",
   "execution_count": 33,
   "id": "ebc3332d",
   "metadata": {
    "slideshow": {
     "slide_type": "fragment"
    }
   },
   "outputs": [],
   "source": [
    "tb <- tb %>%\n",
    "  dplyr::mutate(random_2 = rnorm(4)) %>%\n",
    "  dplyr::filter(z == FALSE)"
   ]
  },
  {
   "cell_type": "code",
   "execution_count": 34,
   "id": "33ac1512",
   "metadata": {
    "slideshow": {
     "slide_type": "fragment"
    }
   },
   "outputs": [
    {
     "data": {
      "text/plain": [
       "  x y z     random   random_2  \n",
       "1 2 b FALSE 4.595334 -0.9099916\n",
       "2 3 c FALSE 5.492309 -0.1632015"
      ]
     },
     "metadata": {},
     "output_type": "display_data"
    }
   ],
   "source": [
    "tb"
   ]
  },
  {
   "cell_type": "markdown",
   "id": "348d029f",
   "metadata": {
    "slideshow": {
     "slide_type": "slide"
    }
   },
   "source": [
    "## `%>%` operator vs built-in `|>` operator\n",
    "\n",
    "- Since R version 4.1.0 (mid-2021), there is a built-in `|>` pipe operator "
   ]
  },
  {
   "cell_type": "code",
   "execution_count": 35,
   "id": "f3049726",
   "metadata": {
    "slideshow": {
     "slide_type": "fragment"
    }
   },
   "outputs": [
    {
     "data": {
      "text/plain": [
       "[1] 3"
      ]
     },
     "metadata": {},
     "output_type": "display_data"
    }
   ],
   "source": [
    "# Pipe %>% can also be used with non-dplyr functions\n",
    "tb$x %>% .[2]"
   ]
  },
  {
   "cell_type": "code",
   "execution_count": 36,
   "id": "b18d8af6",
   "metadata": {
    "slideshow": {
     "slide_type": "fragment"
    }
   },
   "outputs": [
    {
     "data": {
      "text/plain": [
       "[1] 2"
      ]
     },
     "metadata": {},
     "output_type": "display_data"
    }
   ],
   "source": [
    "# Base R pipe operator |> is more restrictive (e.g. tb$x |> `[`(2) doesn't work)\n",
    "tb |> nrow()"
   ]
  },
  {
   "cell_type": "markdown",
   "id": "8cfbb6bb",
   "metadata": {
    "slideshow": {
     "slide_type": "slide"
    }
   },
   "source": [
    "## Pivoting data\n",
    "\n",
    "- Sometimes you want to pivot you data by:\n",
    "    - Spreading some variable across columns (`tidyr::pivot_wider()`)\n",
    "    - Gathering some columns in a variable pair (`tidyr::pivot_longer()`)\n",
    "    \n",
    "<table>\n",
    "    <tr>\n",
    "        <td><div><img width=\"500\" src='../imgs/pivot_wider.png'></div></td>\n",
    "        <td><div><img width=\"500\" src='../imgs/pivot_longer.png'></div></td>\n",
    "    </tr>\n",
    "    <tr>\n",
    "        <td style=\"text-align:center\"><h5>pivot_wider()</h5></td>\n",
    "        <td style=\"text-align:center\"><h5>pivot_longer()</h5></td>\n",
    "    </tr>\n",
    "</table>\n",
    "\n",
    "Source: [R for Data Science](https://r4ds.had.co.nz/tidy-data.html?q=pivot#pivoting)"
   ]
  },
  {
   "cell_type": "markdown",
   "id": "7642dd63",
   "metadata": {
    "slideshow": {
     "slide_type": "slide"
    }
   },
   "source": [
    "## Pivoting data example"
   ]
  },
  {
   "cell_type": "code",
   "execution_count": 37,
   "id": "cf0be853",
   "metadata": {
    "slideshow": {
     "slide_type": "fragment"
    }
   },
   "outputs": [
    {
     "data": {
      "text/plain": [
       "  country     1999 2000 \n",
       "1 Afghanistan  745 37737\n",
       "2 Brazil      2666 80488"
      ]
     },
     "metadata": {},
     "output_type": "display_data"
    }
   ],
   "source": [
    "tb2 <- tibble::tibble(\n",
    "  country = c(\"Afghanistan\", \"Brazil\"),\n",
    "  `1999` = c(745, 2666),\n",
    "  `2000` = c(37737, 80488)\n",
    ")\n",
    "tb2"
   ]
  },
  {
   "cell_type": "code",
   "execution_count": 38,
   "id": "16cc1ec3",
   "metadata": {
    "slideshow": {
     "slide_type": "fragment"
    }
   },
   "outputs": [
    {
     "data": {
      "text/plain": [
       "  country     year cases\n",
       "1 Afghanistan 1999   745\n",
       "2 Afghanistan 2000 37737\n",
       "3 Brazil      1999  2666\n",
       "4 Brazil      2000 80488"
      ]
     },
     "metadata": {},
     "output_type": "display_data"
    }
   ],
   "source": [
    "tb2 <- tb2 %>%\n",
    "  # Note that pivoting functions come 'tidyr' package\n",
    "  tidyr::pivot_longer(cols = c(\"1999\", \"2000\"), names_to = \"year\", values_to = \"cases\")\n",
    "tb2"
   ]
  },
  {
   "cell_type": "code",
   "execution_count": 39,
   "id": "db69ac08",
   "metadata": {
    "slideshow": {
     "slide_type": "fragment"
    }
   },
   "outputs": [
    {
     "data": {
      "text/plain": [
       "  country     1999 2000 \n",
       "1 Afghanistan  745 37737\n",
       "2 Brazil      2666 80488"
      ]
     },
     "metadata": {},
     "output_type": "display_data"
    }
   ],
   "source": [
    "tb2 <- tb2 %>%\n",
    "  tidyr::pivot_wider(names_from = \"year\", values_from = \"cases\")\n",
    "tb2"
   ]
  },
  {
   "cell_type": "markdown",
   "id": "e452415d",
   "metadata": {
    "slideshow": {
     "slide_type": "slide"
    }
   },
   "source": [
    "## Data formats in R\n",
    "\n",
    "- `.csv` (Comma-separated value) files for storing tabular data\n",
    "    - Standard file format for storing data that is highly interoperable across systems\n",
    "    - Human-readable and can be opened in a simple text processor\n",
    "- `.rds` (R data serialization) files allow to store single R object\n",
    "    - Can store arbitrary R objects (e.g. fitted model), similar to Python `pickle`\n",
    "    - Offers data compression\n",
    "    - Only works within R\n",
    "- `.rda` (R data) files for saving and loading multiple R objects\n",
    "    - Offers data compression\n",
    "    - Compares unfavourably to rds and, generally, should be avoided\n",
    "- `.feather`/`.parquet` - big data formats associated with [Apache Hadoop](https://en.wikipedia.org/wiki/Apache_Hadoop) ecosystem\n",
    "    - Cutting-edge performance (compression and read/write access)\n",
    "    - Not human-readable\n",
    "    - Relatively new, could be an overkill for some tasks "
   ]
  },
  {
   "cell_type": "markdown",
   "id": "7b78cf09",
   "metadata": {
    "slideshow": {
     "slide_type": "slide"
    }
   },
   "source": [
    "## Functions for data I/O\n",
    "\n",
    "- `.csv` (Comma-separated value) \n",
    "    - `read.csv()`/`write.csv()` - base R functions\n",
    "    - `readr::read_csv()`/`readr::write_csv()` - functions from `readr` package in `tidyverse`\n",
    "- `.rds` (R data serialization) \n",
    "    - `readRDS()`/`writeRDS()` - base R functions\n",
    "    - `readr::read_rds()`/`readr::write_rds()` - functions from `readr` (no default compression)\n",
    "- `.rda` (R data)\n",
    "    - `save()`/`load()` - base R functions\n",
    "- `.feather`/`.parquet`\n",
    "    - `arrow::read_feather()`/`arrow::write_feather()` - functions from\n",
    "    - `arrow::read_parquet()`/`arrow::write_parquet()` - `arrow` package in [Apache Arrow](https://github.com/apache/arrow/tree/master/r)"
   ]
  },
  {
   "cell_type": "code",
   "execution_count": 40,
   "id": "546c6ca4",
   "metadata": {
    "slideshow": {
     "slide_type": "skip"
    }
   },
   "outputs": [],
   "source": [
    "options(jupyter.rich_display = TRUE)"
   ]
  },
  {
   "cell_type": "markdown",
   "id": "8d8e9ecf",
   "metadata": {
    "slideshow": {
     "slide_type": "slide"
    }
   },
   "source": [
    "## Reading data in R example"
   ]
  },
  {
   "cell_type": "code",
   "execution_count": 41,
   "id": "276cb08b",
   "metadata": {
    "slideshow": {
     "slide_type": "fragment"
    }
   },
   "outputs": [
    {
     "name": "stderr",
     "output_type": "stream",
     "text": [
      "\u001b[1m\u001b[1mRows: \u001b[1m\u001b[22m\u001b[34m\u001b[34m25973\u001b[34m\u001b[39m \u001b[1m\u001b[1mColumns: \u001b[1m\u001b[22m\u001b[34m\u001b[34m369\u001b[34m\u001b[39m\n",
      "\n",
      "\u001b[36m──\u001b[39m \u001b[1m\u001b[1mColumn specification\u001b[1m\u001b[22m \u001b[36m───────────────────────────────────────────────────────────────────────────────────────────────────────────────────────────────────────────────────────────────────────────────────────────\u001b[39m\n",
      "\u001b[1mDelimiter:\u001b[22m \",\"\n",
      "\u001b[31mchr\u001b[39m (360): What is your age (# years)?, What is your gender? - Selected Choi...\n",
      "\u001b[32mdbl\u001b[39m   (1): Duration (in seconds)\n",
      "\u001b[33mlgl\u001b[39m   (8): In the next 2 years, do you hope to become more familiar with any...\n",
      "\n",
      "\n",
      "\u001b[36mℹ\u001b[39m Use \u001b[30m\u001b[47m\u001b[30m\u001b[47m`spec()`\u001b[47m\u001b[30m\u001b[49m\u001b[39m to retrieve the full column specification for this data.\n",
      "\u001b[36mℹ\u001b[39m Specify the column types or set \u001b[30m\u001b[47m\u001b[30m\u001b[47m`show_col_types = FALSE`\u001b[47m\u001b[30m\u001b[49m\u001b[39m to quiet this message.\n",
      "\n"
     ]
    }
   ],
   "source": [
    "# We are skipping the first row as this dataset has a composite header of 2 rows (variable name, question)\n",
    "kaggle2021 <- readr::read_csv('../data/kaggle_survey_2021_responses.csv', skip = 1)"
   ]
  },
  {
   "cell_type": "code",
   "execution_count": 42,
   "id": "fde6f4ee",
   "metadata": {
    "slideshow": {
     "slide_type": "fragment"
    }
   },
   "outputs": [
    {
     "data": {
      "text/html": [
       "<table class=\"dataframe\">\n",
       "<caption>A tibble: 6 × 10</caption>\n",
       "<thead>\n",
       "\t<tr><th scope=col>Duration (in seconds)</th><th scope=col>What is your age (# years)?</th><th scope=col>What is your gender? - Selected Choice</th><th scope=col>In which country do you currently reside?</th><th scope=col>What is the highest level of formal education that you have attained or plan to attain within the next 2 years?</th><th scope=col>Select the title most similar to your current role (or most recent title if retired): - Selected Choice</th><th scope=col>For how many years have you been writing code and/or programming?</th><th scope=col>What programming languages do you use on a regular basis? (Select all that apply) - Selected Choice - Python</th><th scope=col>What programming languages do you use on a regular basis? (Select all that apply) - Selected Choice - R</th><th scope=col>What programming languages do you use on a regular basis? (Select all that apply) - Selected Choice - SQL</th></tr>\n",
       "\t<tr><th scope=col>&lt;dbl&gt;</th><th scope=col>&lt;chr&gt;</th><th scope=col>&lt;chr&gt;</th><th scope=col>&lt;chr&gt;</th><th scope=col>&lt;chr&gt;</th><th scope=col>&lt;chr&gt;</th><th scope=col>&lt;chr&gt;</th><th scope=col>&lt;chr&gt;</th><th scope=col>&lt;chr&gt;</th><th scope=col>&lt;chr&gt;</th></tr>\n",
       "</thead>\n",
       "<tbody>\n",
       "\t<tr><td> 910</td><td>50-54</td><td>Man  </td><td>India    </td><td>Bachelor’s degree     </td><td>Other                  </td><td>5-10 years</td><td>Python</td><td>R </td><td>NA </td></tr>\n",
       "\t<tr><td> 784</td><td>50-54</td><td>Man  </td><td>Indonesia</td><td>Master’s degree       </td><td>Program/Project Manager</td><td>20+ years </td><td>NA    </td><td>NA</td><td>SQL</td></tr>\n",
       "\t<tr><td> 924</td><td>22-24</td><td>Man  </td><td>Pakistan </td><td>Master’s degree       </td><td>Software Engineer      </td><td>1-3 years </td><td>Python</td><td>NA</td><td>NA </td></tr>\n",
       "\t<tr><td> 575</td><td>45-49</td><td>Man  </td><td>Mexico   </td><td>Doctoral degree       </td><td>Research Scientist     </td><td>20+ years </td><td>Python</td><td>NA</td><td>NA </td></tr>\n",
       "\t<tr><td> 781</td><td>45-49</td><td><span style=white-space:pre-wrap>Man  </span></td><td><span style=white-space:pre-wrap>India    </span></td><td><span style=white-space:pre-wrap>Doctoral degree       </span></td><td><span style=white-space:pre-wrap>Other                  </span></td><td>&lt; 1 years </td><td>Python</td><td>NA</td><td>NA </td></tr>\n",
       "\t<tr><td>1020</td><td>25-29</td><td>Woman</td><td><span style=white-space:pre-wrap>India    </span></td><td>I prefer not to answer</td><td>Currently not employed </td><td>&lt; 1 years </td><td>Python</td><td>NA</td><td>NA </td></tr>\n",
       "</tbody>\n",
       "</table>\n"
      ],
      "text/latex": [
       "A tibble: 6 × 10\n",
       "\\begin{tabular}{llllllllll}\n",
       " Duration (in seconds) & What is your age (\\# years)? & What is your gender? - Selected Choice & In which country do you currently reside? & What is the highest level of formal education that you have attained or plan to attain within the next 2 years? & Select the title most similar to your current role (or most recent title if retired): - Selected Choice & For how many years have you been writing code and/or programming? & What programming languages do you use on a regular basis? (Select all that apply) - Selected Choice - Python & What programming languages do you use on a regular basis? (Select all that apply) - Selected Choice - R & What programming languages do you use on a regular basis? (Select all that apply) - Selected Choice - SQL\\\\\n",
       " <dbl> & <chr> & <chr> & <chr> & <chr> & <chr> & <chr> & <chr> & <chr> & <chr>\\\\\n",
       "\\hline\n",
       "\t  910 & 50-54 & Man   & India     & Bachelor’s degree      & Other                   & 5-10 years & Python & R  & NA \\\\\n",
       "\t  784 & 50-54 & Man   & Indonesia & Master’s degree        & Program/Project Manager & 20+ years  & NA     & NA & SQL\\\\\n",
       "\t  924 & 22-24 & Man   & Pakistan  & Master’s degree        & Software Engineer       & 1-3 years  & Python & NA & NA \\\\\n",
       "\t  575 & 45-49 & Man   & Mexico    & Doctoral degree        & Research Scientist      & 20+ years  & Python & NA & NA \\\\\n",
       "\t  781 & 45-49 & Man   & India     & Doctoral degree        & Other                   & < 1 years  & Python & NA & NA \\\\\n",
       "\t 1020 & 25-29 & Woman & India     & I prefer not to answer & Currently not employed  & < 1 years  & Python & NA & NA \\\\\n",
       "\\end{tabular}\n"
      ],
      "text/markdown": [
       "\n",
       "A tibble: 6 × 10\n",
       "\n",
       "| Duration (in seconds) &lt;dbl&gt; | What is your age (# years)? &lt;chr&gt; | What is your gender? - Selected Choice &lt;chr&gt; | In which country do you currently reside? &lt;chr&gt; | What is the highest level of formal education that you have attained or plan to attain within the next 2 years? &lt;chr&gt; | Select the title most similar to your current role (or most recent title if retired): - Selected Choice &lt;chr&gt; | For how many years have you been writing code and/or programming? &lt;chr&gt; | What programming languages do you use on a regular basis? (Select all that apply) - Selected Choice - Python &lt;chr&gt; | What programming languages do you use on a regular basis? (Select all that apply) - Selected Choice - R &lt;chr&gt; | What programming languages do you use on a regular basis? (Select all that apply) - Selected Choice - SQL &lt;chr&gt; |\n",
       "|---|---|---|---|---|---|---|---|---|---|\n",
       "|  910 | 50-54 | Man   | India     | Bachelor’s degree      | Other                   | 5-10 years | Python | R  | NA  |\n",
       "|  784 | 50-54 | Man   | Indonesia | Master’s degree        | Program/Project Manager | 20+ years  | NA     | NA | SQL |\n",
       "|  924 | 22-24 | Man   | Pakistan  | Master’s degree        | Software Engineer       | 1-3 years  | Python | NA | NA  |\n",
       "|  575 | 45-49 | Man   | Mexico    | Doctoral degree        | Research Scientist      | 20+ years  | Python | NA | NA  |\n",
       "|  781 | 45-49 | Man   | India     | Doctoral degree        | Other                   | &lt; 1 years  | Python | NA | NA  |\n",
       "| 1020 | 25-29 | Woman | India     | I prefer not to answer | Currently not employed  | &lt; 1 years  | Python | NA | NA  |\n",
       "\n"
      ],
      "text/plain": [
       "  Duration (in seconds) What is your age (# years)?\n",
       "1  910                  50-54                      \n",
       "2  784                  50-54                      \n",
       "3  924                  22-24                      \n",
       "4  575                  45-49                      \n",
       "5  781                  45-49                      \n",
       "6 1020                  25-29                      \n",
       "  What is your gender? - Selected Choice\n",
       "1 Man                                   \n",
       "2 Man                                   \n",
       "3 Man                                   \n",
       "4 Man                                   \n",
       "5 Man                                   \n",
       "6 Woman                                 \n",
       "  In which country do you currently reside?\n",
       "1 India                                    \n",
       "2 Indonesia                                \n",
       "3 Pakistan                                 \n",
       "4 Mexico                                   \n",
       "5 India                                    \n",
       "6 India                                    \n",
       "  What is the highest level of formal education that you have attained or plan to attain within the next 2 years?\n",
       "1 Bachelor’s degree                                                                                              \n",
       "2 Master’s degree                                                                                                \n",
       "3 Master’s degree                                                                                                \n",
       "4 Doctoral degree                                                                                                \n",
       "5 Doctoral degree                                                                                                \n",
       "6 I prefer not to answer                                                                                         \n",
       "  Select the title most similar to your current role (or most recent title if retired): - Selected Choice\n",
       "1 Other                                                                                                  \n",
       "2 Program/Project Manager                                                                                \n",
       "3 Software Engineer                                                                                      \n",
       "4 Research Scientist                                                                                     \n",
       "5 Other                                                                                                  \n",
       "6 Currently not employed                                                                                 \n",
       "  For how many years have you been writing code and/or programming?\n",
       "1 5-10 years                                                       \n",
       "2 20+ years                                                        \n",
       "3 1-3 years                                                        \n",
       "4 20+ years                                                        \n",
       "5 < 1 years                                                        \n",
       "6 < 1 years                                                        \n",
       "  What programming languages do you use on a regular basis? (Select all that apply) - Selected Choice - Python\n",
       "1 Python                                                                                                      \n",
       "2 NA                                                                                                          \n",
       "3 Python                                                                                                      \n",
       "4 Python                                                                                                      \n",
       "5 Python                                                                                                      \n",
       "6 Python                                                                                                      \n",
       "  What programming languages do you use on a regular basis? (Select all that apply) - Selected Choice - R\n",
       "1 R                                                                                                      \n",
       "2 NA                                                                                                     \n",
       "3 NA                                                                                                     \n",
       "4 NA                                                                                                     \n",
       "5 NA                                                                                                     \n",
       "6 NA                                                                                                     \n",
       "  What programming languages do you use on a regular basis? (Select all that apply) - Selected Choice - SQL\n",
       "1 NA                                                                                                       \n",
       "2 SQL                                                                                                      \n",
       "3 NA                                                                                                       \n",
       "4 NA                                                                                                       \n",
       "5 NA                                                                                                       \n",
       "6 NA                                                                                                       "
      ]
     },
     "metadata": {},
     "output_type": "display_data"
    }
   ],
   "source": [
    "head(kaggle2021[,1:10])"
   ]
  },
  {
   "cell_type": "markdown",
   "id": "5b4aecf6",
   "metadata": {
    "slideshow": {
     "slide_type": "slide"
    }
   },
   "source": [
    "## Summarizing numeric variables"
   ]
  },
  {
   "cell_type": "code",
   "execution_count": 43,
   "id": "139209f7",
   "metadata": {
    "slideshow": {
     "slide_type": "fragment"
    }
   },
   "outputs": [
    {
     "data": {
      "text/plain": [
       " Duration (in seconds) What is your age (# years)?\n",
       " Min.   :    120       Length:25973               \n",
       " 1st Qu.:    443       Class :character           \n",
       " Median :    656       Mode  :character           \n",
       " Mean   :  11055                                  \n",
       " 3rd Qu.:   1038                                  \n",
       " Max.   :2488653                                  \n",
       " What is your gender? - Selected Choice\n",
       " Length:25973                          \n",
       " Class :character                      \n",
       " Mode  :character                      \n",
       "                                       \n",
       "                                       \n",
       "                                       \n",
       " In which country do you currently reside?\n",
       " Length:25973                             \n",
       " Class :character                         \n",
       " Mode  :character                         \n",
       "                                          \n",
       "                                          \n",
       "                                          \n",
       " What is the highest level of formal education that you have attained or plan to attain within the next 2 years?\n",
       " Length:25973                                                                                                   \n",
       " Class :character                                                                                               \n",
       " Mode  :character                                                                                               \n",
       "                                                                                                                \n",
       "                                                                                                                \n",
       "                                                                                                                \n",
       " Select the title most similar to your current role (or most recent title if retired): - Selected Choice\n",
       " Length:25973                                                                                           \n",
       " Class :character                                                                                       \n",
       " Mode  :character                                                                                       \n",
       "                                                                                                        \n",
       "                                                                                                        \n",
       "                                                                                                        \n",
       " For how many years have you been writing code and/or programming?\n",
       " Length:25973                                                     \n",
       " Class :character                                                 \n",
       " Mode  :character                                                 \n",
       "                                                                  \n",
       "                                                                  \n",
       "                                                                  \n",
       " What programming languages do you use on a regular basis? (Select all that apply) - Selected Choice - Python\n",
       " Length:25973                                                                                                \n",
       " Class :character                                                                                            \n",
       " Mode  :character                                                                                            \n",
       "                                                                                                             \n",
       "                                                                                                             \n",
       "                                                                                                             \n",
       " What programming languages do you use on a regular basis? (Select all that apply) - Selected Choice - R\n",
       " Length:25973                                                                                           \n",
       " Class :character                                                                                       \n",
       " Mode  :character                                                                                       \n",
       "                                                                                                        \n",
       "                                                                                                        \n",
       "                                                                                                        \n",
       " What programming languages do you use on a regular basis? (Select all that apply) - Selected Choice - SQL\n",
       " Length:25973                                                                                             \n",
       " Class :character                                                                                         \n",
       " Mode  :character                                                                                         \n",
       "                                                                                                          \n",
       "                                                                                                          \n",
       "                                                                                                          "
      ]
     },
     "metadata": {},
     "output_type": "display_data"
    }
   ],
   "source": [
    "# Note that summary() as opposed to pandas' describe() gives summary for all variable types by default\n",
    "summary(kaggle2021[,1:10])"
   ]
  },
  {
   "cell_type": "markdown",
   "id": "2c22262b",
   "metadata": {
    "slideshow": {
     "slide_type": "slide"
    }
   },
   "source": [
    "## Summarizing categorical variables"
   ]
  },
  {
   "cell_type": "code",
   "execution_count": 44,
   "id": "f1cd71d7",
   "metadata": {
    "slideshow": {
     "slide_type": "fragment"
    }
   },
   "outputs": [
    {
     "data": {
      "text/plain": [
       "\n",
       "                    Man               Nonbinary       Prefer not to say \n",
       "                  20598                      88                     355 \n",
       "Prefer to self-describe                   Woman \n",
       "                     42                    4890 "
      ]
     },
     "metadata": {},
     "output_type": "display_data"
    }
   ],
   "source": [
    "# table() function is rather flexible in allowing to tabulate a single variable and do crosstabs\n",
    "table(kaggle2021[3])"
   ]
  },
  {
   "cell_type": "code",
   "execution_count": 45,
   "id": "7efbbeb6",
   "metadata": {
    "slideshow": {
     "slide_type": "fragment"
    }
   },
   "outputs": [
    {
     "data": {
      "text/plain": [
       "\n",
       "                    Man               Nonbinary       Prefer not to say \n",
       "            0.793054326             0.003388134             0.013668040 \n",
       "Prefer to self-describe                   Woman \n",
       "            0.001617064             0.188272437 "
      ]
     },
     "metadata": {},
     "output_type": "display_data"
    }
   ],
   "source": [
    "# Wrapping it inside prop.table() gives proportions of each category\n",
    "prop.table(table(kaggle2021[3]))"
   ]
  },
  {
   "cell_type": "code",
   "execution_count": 46,
   "id": "8daca713",
   "metadata": {
    "slideshow": {
     "slide_type": "fragment"
    }
   },
   "outputs": [
    {
     "data": {
      "text/html": [
       "<strong>Man:</strong> 20598"
      ],
      "text/latex": [
       "\\textbf{Man:} 20598"
      ],
      "text/markdown": [
       "**Man:** 20598"
      ],
      "text/plain": [
       "  Man \n",
       "20598 "
      ]
     },
     "metadata": {},
     "output_type": "display_data"
    }
   ],
   "source": [
    "# Wrapping it inside sort() gives value sorting, as opposed to alphabetic (or facto levels)\n",
    "sort(table(kaggle2021[3]), decreasing = TRUE)[1]"
   ]
  },
  {
   "cell_type": "markdown",
   "id": "4c3d903f",
   "metadata": {
    "slideshow": {
     "slide_type": "slide"
    }
   },
   "source": [
    "## Next\n",
    "\n",
    "- Tutorial: Working with data in R\n",
    "- Assignment 2: Due at 12:00 on Monday, 24th October (submission on Blackboard)\n",
    "- Next week: Reading week\n",
    "- After reading week: Python 🐍"
   ]
  }
 ],
 "metadata": {
  "celltoolbar": "Slideshow",
  "kernelspec": {
   "display_name": "R",
   "language": "R",
   "name": "ir"
  },
  "language_info": {
   "codemirror_mode": "r",
   "file_extension": ".r",
   "mimetype": "text/x-r-source",
   "name": "R",
   "pygments_lexer": "r",
   "version": "4.1.2"
  }
 },
 "nbformat": 4,
 "nbformat_minor": 5
}
