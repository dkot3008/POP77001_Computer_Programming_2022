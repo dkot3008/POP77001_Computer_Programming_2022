{
 "cells": [
  {
   "cell_type": "code",
   "execution_count": 1,
   "id": "3831d00c",
   "metadata": {
    "slideshow": {
     "slide_type": "skip"
    }
   },
   "outputs": [],
   "source": [
    "options(jupyter.rich_display = FALSE)"
   ]
  },
  {
   "cell_type": "markdown",
   "id": "294494e4",
   "metadata": {
    "slideshow": {
     "slide_type": "slide"
    }
   },
   "source": [
    "## Week 4: Functions in R\n",
    "\n",
    "### POP77001 Computer Programming for Social Scientists\n",
    "\n",
    "### Tom Paskhalis\n",
    "\n",
    "##### 3 October 2022\n",
    "\n",
    "##### Module website: [tinyurl.com/POP77001](https://tinyurl.com/POP77001)"
   ]
  },
  {
   "cell_type": "markdown",
   "id": "b53c9fc9",
   "metadata": {
    "slideshow": {
     "slide_type": "slide"
    }
   },
   "source": [
    "## Overview\n",
    "\n",
    "- Decomposition and abstraction\n",
    "- Function definition and function call\n",
    "- Functionals\n",
    "- Scoping in R\n"
   ]
  },
  {
   "cell_type": "markdown",
   "id": "d151bd76",
   "metadata": {
    "slideshow": {
     "slide_type": "slide"
    }
   },
   "source": [
    "## Decomposition and abstraction\n",
    "\n",
    "<table>\n",
    "    <tr>\n",
    "        <td><div><img width=\"500\" src='../imgs/kallax_white_square.jpg'></div></td>\n",
    "        <td><div><img width=\"500\" src='../imgs/kallax_black_vertical.jpg'></div></td>\n",
    "        <td><div><img width=\"500\" src='../imgs/kallax_brown_big_square.jpg'></div></td>\n",
    "    </tr>\n",
    "</table>\n",
    "\n",
    "Source: [IKEA](https://www.ikea.com/us/en/cat/kallax-series-27534/)"
   ]
  },
  {
   "cell_type": "markdown",
   "id": "7a25f18d",
   "metadata": {
    "slideshow": {
     "slide_type": "slide"
    }
   },
   "source": [
    "## Decomposition and abstraction\n",
    "\n",
    "- So far: built-in types, assignments, branching and looping constructs\n",
    "- In principle, any problem can be solved just with those\n",
    "- But a solution would be non-modual and hard-to-maintain\n",
    "- Functions provide *decomposition* and *abstraction*"
   ]
  },
  {
   "cell_type": "markdown",
   "id": "35ec2b1d",
   "metadata": {
    "slideshow": {
     "slide_type": "slide"
    }
   },
   "source": [
    "## Functions\n",
    "\n",
    "<div style=\"text-align: center;\">\n",
    "    <img width=\"500\" height=\"500\" src=\"../imgs/xkcd_974.png\">\n",
    "</div>\n",
    "\n",
    "Source: [xkcd](https://xkcd.com/974/)"
   ]
  },
  {
   "cell_type": "markdown",
   "id": "f5c0adeb",
   "metadata": {
    "slideshow": {
     "slide_type": "slide"
    }
   },
   "source": [
    "## Functions in R\n",
    "\n",
    "- Function call is the centerpiece of computation in R\n",
    "- It involves function object and objects that are supplied as arguments\n",
    "- Functions in R do not have side-effects (nonlocal modifications of input objects)\n",
    "- In R we use function `function()` to create a function object\n",
    "- Functions are also referred to as *closures* in some R documentation\n",
    "\n",
    "```\n",
    "<function_name> <- function(<arg_1>, <arg_2>, ..., <arg_n>) {\n",
    "  <function_body>\n",
    "}\n",
    "```"
   ]
  },
  {
   "cell_type": "code",
   "execution_count": 2,
   "id": "54269a13",
   "metadata": {
    "slideshow": {
     "slide_type": "fragment"
    }
   },
   "outputs": [],
   "source": [
    "foo <- function(arg) {\n",
    "  # <function_body>\n",
    "}"
   ]
  },
  {
   "cell_type": "markdown",
   "id": "d3ee055a",
   "metadata": {
    "slideshow": {
     "slide_type": "slide"
    }
   },
   "source": [
    "## Function components\n",
    "\n",
    "- Body (`body()`) - code inside the function\n",
    "- List of arguments (`formals()`) - controls how function is called\n",
    "- Environment/scope/namespace (`environment()`) - location of function's definition and variables"
   ]
  },
  {
   "cell_type": "markdown",
   "id": "33261800",
   "metadata": {
    "slideshow": {
     "slide_type": "slide"
    }
   },
   "source": [
    "## Function components example"
   ]
  },
  {
   "cell_type": "code",
   "execution_count": 3,
   "id": "c541d71a",
   "metadata": {
    "slideshow": {
     "slide_type": "fragment"
    }
   },
   "outputs": [],
   "source": [
    "is_positive <- function(num) {\n",
    "  if (num > 0) {\n",
    "    return(TRUE)\n",
    "  } else {\n",
    "    return(FALSE)\n",
    "  }\n",
    "}"
   ]
  },
  {
   "cell_type": "code",
   "execution_count": 4,
   "id": "459e81aa",
   "metadata": {
    "slideshow": {
     "slide_type": "fragment"
    }
   },
   "outputs": [
    {
     "data": {
      "text/plain": [
       "{\n",
       "    if (num > 0) {\n",
       "        return(TRUE)\n",
       "    }\n",
       "    else {\n",
       "        return(FALSE)\n",
       "    }\n",
       "}"
      ]
     },
     "metadata": {},
     "output_type": "display_data"
    }
   ],
   "source": [
    "body(is_positive)"
   ]
  },
  {
   "cell_type": "code",
   "execution_count": 5,
   "id": "198d0cab",
   "metadata": {
    "slideshow": {
     "slide_type": "fragment"
    }
   },
   "outputs": [
    {
     "data": {
      "text/plain": [
       "$num\n",
       "\n"
      ]
     },
     "metadata": {},
     "output_type": "display_data"
    }
   ],
   "source": [
    "formals(is_positive)"
   ]
  },
  {
   "cell_type": "code",
   "execution_count": 6,
   "id": "51b211fb",
   "metadata": {
    "slideshow": {
     "slide_type": "fragment"
    }
   },
   "outputs": [
    {
     "data": {
      "text/plain": [
       "<environment: R_GlobalEnv>"
      ]
     },
     "metadata": {},
     "output_type": "display_data"
    }
   ],
   "source": [
    "environment(is_positive)"
   ]
  },
  {
   "cell_type": "markdown",
   "id": "58bc41b3",
   "metadata": {
    "slideshow": {
     "slide_type": "slide"
    }
   },
   "source": [
    "## Function call\n",
    "\n",
    "- Function is executed until:\n",
    "    - Either `return()` function is encountered\n",
    "    - There are no more expressions to evaluate\n",
    "- Function call always returns a value:\n",
    "    - Argument of `return()` function call\n",
    "    - Value of last expression if no `return()` (implicit return)\n",
    "- Function can return only one object\n",
    "    - But you can combine multiple R objects in a list"
   ]
  },
  {
   "cell_type": "markdown",
   "id": "19aa5c08",
   "metadata": {
    "slideshow": {
     "slide_type": "slide"
    }
   },
   "source": [
    "## Function call example"
   ]
  },
  {
   "cell_type": "code",
   "execution_count": 7,
   "id": "9cd6be8e",
   "metadata": {
    "slideshow": {
     "slide_type": "fragment"
    }
   },
   "outputs": [],
   "source": [
    "is_positive <- function(num) {\n",
    "  if (num > 0) {\n",
    "    res <- TRUE\n",
    "  } else {\n",
    "    res <- FALSE\n",
    "  }\n",
    "  return(res)\n",
    "}"
   ]
  },
  {
   "cell_type": "code",
   "execution_count": 8,
   "id": "57af6e9f",
   "metadata": {
    "slideshow": {
     "slide_type": "fragment"
    }
   },
   "outputs": [],
   "source": [
    "res_1 <- is_positive(5)\n",
    "res_2 <- is_positive(-7)"
   ]
  },
  {
   "cell_type": "code",
   "execution_count": 9,
   "id": "56f5c2b3",
   "metadata": {
    "slideshow": {
     "slide_type": "fragment"
    }
   },
   "outputs": [
    {
     "name": "stdout",
     "output_type": "stream",
     "text": [
      "[1] TRUE\n",
      "[1] FALSE\n"
     ]
    }
   ],
   "source": [
    "print(res_1)\n",
    "print(res_2)"
   ]
  },
  {
   "cell_type": "markdown",
   "id": "d9b9fb7e",
   "metadata": {
    "slideshow": {
     "slide_type": "slide"
    }
   },
   "source": [
    "## Implicit return example"
   ]
  },
  {
   "cell_type": "code",
   "execution_count": 10,
   "id": "465745bb",
   "metadata": {
    "slideshow": {
     "slide_type": "fragment"
    }
   },
   "outputs": [],
   "source": [
    "is_positive <- function(num) {\n",
    "  if (num > 0) {\n",
    "    res <- TRUE\n",
    "  } else {\n",
    "    res <- FALSE\n",
    "  }\n",
    "  res\n",
    "}"
   ]
  },
  {
   "cell_type": "code",
   "execution_count": 11,
   "id": "08c78dd6",
   "metadata": {
    "slideshow": {
     "slide_type": "fragment"
    }
   },
   "outputs": [],
   "source": [
    "res_1 <- is_positive(5)\n",
    "res_2 <- is_positive(-7)"
   ]
  },
  {
   "cell_type": "code",
   "execution_count": 12,
   "id": "f09032b0",
   "metadata": {
    "slideshow": {
     "slide_type": "fragment"
    }
   },
   "outputs": [
    {
     "name": "stdout",
     "output_type": "stream",
     "text": [
      "[1] TRUE\n",
      "[1] FALSE\n"
     ]
    }
   ],
   "source": [
    "print(res_1)\n",
    "print(res_2)"
   ]
  },
  {
   "cell_type": "markdown",
   "id": "850f7037",
   "metadata": {
    "slideshow": {
     "slide_type": "slide"
    }
   },
   "source": [
    "## Implicit return example continued"
   ]
  },
  {
   "cell_type": "code",
   "execution_count": 13,
   "id": "c9f9985f",
   "metadata": {
    "slideshow": {
     "slide_type": "fragment"
    }
   },
   "outputs": [],
   "source": [
    "# While this function provides the same functionality as the two versions above\n",
    "# This is an example of a bad programming style, return value is very unintuitive\n",
    "is_positive <- function(num) {\n",
    "  if (num > 0) {\n",
    "    res <- TRUE\n",
    "  } else {\n",
    "    res <- FALSE\n",
    "  }\n",
    "}"
   ]
  },
  {
   "cell_type": "code",
   "execution_count": 14,
   "id": "2b5a5ca8",
   "metadata": {
    "slideshow": {
     "slide_type": "fragment"
    }
   },
   "outputs": [],
   "source": [
    "res_1 <- is_positive(5)\n",
    "res_2 <- is_positive(-7)"
   ]
  },
  {
   "cell_type": "code",
   "execution_count": 15,
   "id": "66d1f904",
   "metadata": {
    "slideshow": {
     "slide_type": "fragment"
    }
   },
   "outputs": [
    {
     "name": "stdout",
     "output_type": "stream",
     "text": [
      "[1] TRUE\n",
      "[1] FALSE\n"
     ]
    }
   ],
   "source": [
    "print(res_1)\n",
    "print(res_2)"
   ]
  },
  {
   "cell_type": "markdown",
   "id": "64364af2",
   "metadata": {
    "slideshow": {
     "slide_type": "slide"
    }
   },
   "source": [
    "## Function arguments\n",
    "\n",
    "- *Arguments* provide a way of giving input to a function\n",
    "- Arguments in function definition are *formal arguments*\n",
    "- Arguments in function invocations are *actual arguments*\n",
    "- When a function is invoked (called) arguments are matched and bound to local variable names\n",
    "- R matches arguments in 3 ways:\n",
    "    1. by *exact name*\n",
    "    2. by *partial name*\n",
    "    3. by *position*\n",
    "- It is a good idea to only use unnamed (positional) for the main (first one or two) arguments"
   ]
  },
  {
   "cell_type": "markdown",
   "id": "ac4c5fc6",
   "metadata": {
    "slideshow": {
     "slide_type": "slide"
    }
   },
   "source": [
    "## Function arguments example"
   ]
  },
  {
   "cell_type": "code",
   "execution_count": 16,
   "id": "0ad26a68",
   "metadata": {
    "slideshow": {
     "slide_type": "fragment"
    }
   },
   "outputs": [],
   "source": [
    "format_date <- function(day, month, year, reverse = TRUE) {\n",
    "  if (isTRUE(reverse)) {\n",
    "    formatted <- paste(\n",
    "      as.character(year), as.character(month), as.character(day), sep = \"-\"\n",
    "    )\n",
    "  } else {\n",
    "    formatted <- paste(\n",
    "      as.character(day), as.character(month), as.character(year), sep = \"-\"\n",
    "    )\n",
    "  }\n",
    "  return(formatted)\n",
    "}"
   ]
  },
  {
   "cell_type": "code",
   "execution_count": 17,
   "id": "1621027b",
   "metadata": {
    "slideshow": {
     "slide_type": "fragment"
    }
   },
   "outputs": [
    {
     "data": {
      "text/plain": [
       "[1] \"2021-10-4\""
      ]
     },
     "metadata": {},
     "output_type": "display_data"
    }
   ],
   "source": [
    "format_date(4, 10, 2021)"
   ]
  },
  {
   "cell_type": "code",
   "execution_count": 18,
   "id": "045865ef",
   "metadata": {
    "slideshow": {
     "slide_type": "fragment"
    }
   },
   "outputs": [
    {
     "data": {
      "text/plain": [
       "[1] \"2021-10-4\""
      ]
     },
     "metadata": {},
     "output_type": "display_data"
    }
   ],
   "source": [
    "format_date(y = 2021, m = 10, d = 4) # Technically correct, but rather unintuitive"
   ]
  },
  {
   "cell_type": "code",
   "execution_count": 19,
   "id": "b79d5692",
   "metadata": {
    "slideshow": {
     "slide_type": "fragment"
    }
   },
   "outputs": [
    {
     "data": {
      "text/plain": [
       "[1] \"4-10-2021\""
      ]
     },
     "metadata": {},
     "output_type": "display_data"
    }
   ],
   "source": [
    "format_date(y = 2021, m = 10, d = 4, FALSE) # Technically correct, but rather unintuitive"
   ]
  },
  {
   "cell_type": "code",
   "execution_count": 20,
   "id": "a783b6f3",
   "metadata": {
    "slideshow": {
     "slide_type": "fragment"
    }
   },
   "outputs": [
    {
     "data": {
      "text/plain": [
       "[1] \"4-10-2021\""
      ]
     },
     "metadata": {},
     "output_type": "display_data"
    }
   ],
   "source": [
    "format_date(day = 4, month = 10, year = 2021, FALSE)"
   ]
  },
  {
   "cell_type": "markdown",
   "id": "c92a4df4",
   "metadata": {
    "slideshow": {
     "slide_type": "slide"
    }
   },
   "source": [
    "## Nested functions"
   ]
  },
  {
   "cell_type": "code",
   "execution_count": 21,
   "id": "76829747",
   "metadata": {
    "slideshow": {
     "slide_type": "fragment"
    }
   },
   "outputs": [],
   "source": [
    "which_integer <- function(num) {\n",
    "  even_or_odd <- function(num) {\n",
    "    if (num %% 2 == 0) {\n",
    "      return(\"even\")\n",
    "    } else {\n",
    "      return(\"odd\")\n",
    "    }\n",
    "  }\n",
    "  eo <- even_or_odd(num)\n",
    "  if (num > 0) {\n",
    "    return(paste0(\"positive \", eo))\n",
    "  } else if (num < 0) {\n",
    "    return(paste0(\"negative \", eo))\n",
    "  } else {\n",
    "    return(\"zero\")\n",
    "  }\n",
    "}"
   ]
  },
  {
   "cell_type": "code",
   "execution_count": 22,
   "id": "168dfe6a",
   "metadata": {
    "slideshow": {
     "slide_type": "fragment"
    }
   },
   "outputs": [
    {
     "data": {
      "text/plain": [
       "[1] \"negative odd\""
      ]
     },
     "metadata": {},
     "output_type": "display_data"
    }
   ],
   "source": [
    "which_integer(-43)"
   ]
  },
  {
   "cell_type": "code",
   "execution_count": 23,
   "id": "5df97fa5",
   "metadata": {
    "slideshow": {
     "slide_type": "fragment"
    }
   },
   "outputs": [
    {
     "ename": "ERROR",
     "evalue": "Error in even_or_odd(-43): could not find function \"even_or_odd\"\n",
     "output_type": "error",
     "traceback": [
      "Error in even_or_odd(-43): could not find function \"even_or_odd\"\nTraceback:\n"
     ]
    }
   ],
   "source": [
    "even_or_odd(-43)"
   ]
  },
  {
   "cell_type": "markdown",
   "id": "af66ecbc",
   "metadata": {
    "slideshow": {
     "slide_type": "slide"
    }
   },
   "source": [
    "## R environment basics\n",
    "\n",
    "- Variables (aka names) exist in an *environment* (aka namespace/scope in Python)\n",
    "- The same R object can have different names\n",
    "- Binding of objects to names (assignment) happens within a specific environment\n",
    "- Most environments get created by function calls\n",
    "- Approximate hierarchy of environments:\n",
    "    - *Execution* environment of a function\n",
    "    - *Global* environment of a script\n",
    "    - *Package* environment of any loaded packages\n",
    "    - *Base* environment of base R objects"
   ]
  },
  {
   "cell_type": "markdown",
   "id": "3496be73",
   "metadata": {
    "slideshow": {
     "slide_type": "slide"
    }
   },
   "source": [
    "## R environment example"
   ]
  },
  {
   "cell_type": "code",
   "execution_count": 24,
   "id": "b9b48f17",
   "metadata": {
    "slideshow": {
     "slide_type": "fragment"
    }
   },
   "outputs": [
    {
     "data": {
      "text/plain": [
       "[1] 42"
      ]
     },
     "metadata": {},
     "output_type": "display_data"
    }
   ],
   "source": [
    "x <- 42\n",
    "# is equivalent to:\n",
    "# Binding R object '42', double vector of length 1, to name 'x' in the global environment\n",
    "assign(\"x\", 42, envir = .GlobalEnv)\n",
    "x"
   ]
  },
  {
   "cell_type": "code",
   "execution_count": 25,
   "id": "5eb0c984",
   "metadata": {
    "slideshow": {
     "slide_type": "fragment"
    }
   },
   "outputs": [
    {
     "name": "stdout",
     "output_type": "stream",
     "text": [
      "[1] 12\n",
      "[1] 5\n"
     ]
    }
   ],
   "source": [
    "x <- 5\n",
    "foo <- function() {\n",
    "  x <- 12\n",
    "  return(x)\n",
    "}\n",
    "y <- foo()\n",
    "print(y)\n",
    "print(x)"
   ]
  },
  {
   "cell_type": "markdown",
   "id": "22025e50",
   "metadata": {
    "slideshow": {
     "slide_type": "slide"
    }
   },
   "source": [
    "<div style=\"text-align: center;\">\n",
    "    <img width=\"400\" height=\"400\" src=\"../imgs/winnie_the_pooh_assign.png\">\n",
    "</div>"
   ]
  },
  {
   "cell_type": "markdown",
   "id": "18b7fef3",
   "metadata": {
    "slideshow": {
     "slide_type": "slide"
    }
   },
   "source": [
    "##  Every operation is a function call\n",
    "\n",
    "<div style=\"text-align: center;\">\n",
    "    <img width=\"500\" height=\"500\" src=\"../imgs/rstats_function.png\">\n",
    "</div>\n"
   ]
  },
  {
   "cell_type": "markdown",
   "id": "70c77bbe",
   "metadata": {
    "slideshow": {
     "slide_type": "slide"
    }
   },
   "source": [
    "## Examples of operators as function calls"
   ]
  },
  {
   "cell_type": "code",
   "execution_count": 26,
   "id": "248fbee2",
   "metadata": {
    "slideshow": {
     "slide_type": "fragment"
    }
   },
   "outputs": [
    {
     "data": {
      "text/plain": [
       "[1] 5"
      ]
     },
     "metadata": {},
     "output_type": "display_data"
    }
   ],
   "source": [
    "`+`(3, 2) # Equivalent to: 3 + 2"
   ]
  },
  {
   "cell_type": "code",
   "execution_count": 27,
   "id": "826ba79e",
   "metadata": {
    "slideshow": {
     "slide_type": "fragment"
    }
   },
   "outputs": [
    {
     "data": {
      "text/plain": [
       "[1] 10 12 14"
      ]
     },
     "metadata": {},
     "output_type": "display_data"
    }
   ],
   "source": [
    "`<-`(x, c(10, 12, 14)) # x <- c(10, 12, 14)\n",
    "x"
   ]
  },
  {
   "cell_type": "code",
   "execution_count": 28,
   "id": "370d72a6",
   "metadata": {
    "slideshow": {
     "slide_type": "fragment"
    }
   },
   "outputs": [
    {
     "data": {
      "text/plain": [
       "[1] 14"
      ]
     },
     "metadata": {},
     "output_type": "display_data"
    }
   ],
   "source": [
    "`[`(x, 3) # x[3]"
   ]
  },
  {
   "cell_type": "code",
   "execution_count": 29,
   "id": "8457974d",
   "metadata": {
    "slideshow": {
     "slide_type": "fragment"
    }
   },
   "outputs": [
    {
     "data": {
      "text/plain": [
       "[1] FALSE  TRUE  TRUE"
      ]
     },
     "metadata": {},
     "output_type": "display_data"
    }
   ],
   "source": [
    "`>`(x, 10) # x > 10"
   ]
  },
  {
   "cell_type": "markdown",
   "id": "e9e1266e",
   "metadata": {
    "slideshow": {
     "slide_type": "slide"
    }
   },
   "source": [
    "## Anonymous functions\n",
    "\n",
    "- While R has no special syntax for creating anonymous (aka lambda in Python) function\n",
    "- Note that the result of `function()` does not have to be assigned to a variable\n",
    "- Thus function `function()` can be easily incorporate into other function calls"
   ]
  },
  {
   "cell_type": "code",
   "execution_count": 30,
   "id": "f439b75d",
   "metadata": {
    "slideshow": {
     "slide_type": "fragment"
    }
   },
   "outputs": [],
   "source": [
    "add_five <- function() {\n",
    "  return(function(x) x + 5)\n",
    "}\n",
    "af <- add_five()"
   ]
  },
  {
   "cell_type": "code",
   "execution_count": 31,
   "id": "4d8fd932",
   "metadata": {
    "slideshow": {
     "slide_type": "fragment"
    }
   },
   "outputs": [
    {
     "data": {
      "text/plain": [
       "function(x) x + 5\n",
       "<environment: 0x55d78232a7d8>"
      ]
     },
     "metadata": {},
     "output_type": "display_data"
    }
   ],
   "source": [
    "af # 'af' is just a function, which is yet to be invoked (called)"
   ]
  },
  {
   "cell_type": "code",
   "execution_count": 32,
   "id": "86d32ddc",
   "metadata": {
    "slideshow": {
     "slide_type": "fragment"
    }
   },
   "outputs": [
    {
     "data": {
      "text/plain": [
       "[1] 15"
      ]
     },
     "metadata": {},
     "output_type": "display_data"
    }
   ],
   "source": [
    "af(10) # Here we call a function and supply 10 as an argument"
   ]
  },
  {
   "cell_type": "code",
   "execution_count": 33,
   "id": "e727530c",
   "metadata": {
    "slideshow": {
     "slide_type": "fragment"
    }
   },
   "outputs": [
    {
     "data": {
      "text/plain": [
       " [1]   1   4   9  16  25  36  49  64  81 100"
      ]
     },
     "metadata": {},
     "output_type": "display_data"
    }
   ],
   "source": [
    "# Due to vectorized functions in R this example is an obvious overkill (seq(10) ^ 2 would do just fine)\n",
    "# but it shows a general approach when we might need to apply a non-vectorized functions\n",
    "sapply(seq(10), function(x) x ^ 2)"
   ]
  },
  {
   "cell_type": "markdown",
   "id": "f9cc66ec",
   "metadata": {
    "slideshow": {
     "slide_type": "slide"
    }
   },
   "source": [
    "## Functionals\n",
    "\n",
    "- *Functionals* are functions that take other functions as one of their inputs\n",
    "- Due to R's functional nature, functionals are frequently used for many tasks\n",
    "- `apply()` family of base R functionals is the most ubiquitous example\n",
    "- Their most common use case is an alternative of *for* loops\n",
    "- Loops in R have a reputation of being slow (not always warranted)\n",
    "- Functionals also allow to keep code more concise"
   ]
  },
  {
   "cell_type": "markdown",
   "id": "c79cea0b",
   "metadata": {
    "slideshow": {
     "slide_type": "slide"
    }
   },
   "source": [
    "## Functional example"
   ]
  },
  {
   "cell_type": "code",
   "execution_count": 34,
   "id": "42773dff",
   "metadata": {
    "slideshow": {
     "slide_type": "fragment"
    }
   },
   "outputs": [],
   "source": [
    "# Applies a supplied function to a random draw\n",
    "# from the normal distribution with mean 0 and sd 1\n",
    "functional <- function(f) { f(rnorm(10)) }"
   ]
  },
  {
   "cell_type": "code",
   "execution_count": 35,
   "id": "80dbcbb2",
   "metadata": {
    "slideshow": {
     "slide_type": "fragment"
    }
   },
   "outputs": [
    {
     "data": {
      "text/plain": [
       "[1] -0.09413735"
      ]
     },
     "metadata": {},
     "output_type": "display_data"
    }
   ],
   "source": [
    "functional(mean)"
   ]
  },
  {
   "cell_type": "code",
   "execution_count": 36,
   "id": "b6d60d2a",
   "metadata": {
    "slideshow": {
     "slide_type": "fragment"
    }
   },
   "outputs": [
    {
     "data": {
      "text/plain": [
       "[1] -0.1556706"
      ]
     },
     "metadata": {},
     "output_type": "display_data"
    }
   ],
   "source": [
    "functional(median)"
   ]
  },
  {
   "cell_type": "code",
   "execution_count": 37,
   "id": "1e9ed3ee",
   "metadata": {
    "slideshow": {
     "slide_type": "fragment"
    }
   },
   "outputs": [
    {
     "data": {
      "text/plain": [
       "[1] -2.926588"
      ]
     },
     "metadata": {},
     "output_type": "display_data"
    }
   ],
   "source": [
    "functional(sum)"
   ]
  },
  {
   "cell_type": "markdown",
   "id": "3eced33a",
   "metadata": {
    "slideshow": {
     "slide_type": "slide"
    }
   },
   "source": [
    "## Summary of common `apply()` functions\n",
    "\n",
    "| Function   | Description                                                             | Input Object            | Output Object            | Simplified   |\n",
    "|:-----------|:------------------------------------------------------------------------|:------------------------|:-------------------------|:-------------|\n",
    "| `apply()`  | Apply a given function to margins (rows/columns) of input object        | matrix/array/data.frame | vector/matrix/array/list | Yes          |\n",
    "| `lapply()` | Apply a given function to each element of input object                  | vector/list             | list                     | No           |\n",
    "| `sapply()` | Same as `lapply()`, but output is **s**implified                        | vector/list             | vector/matrix            | Yes          |\n",
    "| `vapply()` | Same as `sapply()`, but data type of output is specified                | vector/list             | vector                   | No           |\n",
    "| `mapply()` | **M**ultivariate version of `sapply()`, takes multiple objects as input | vectors/lists           | vector/matrix            | Yes          |\n",
    "                 |\n",
    "\n",
    "Extra: [Using apply, sapply, lapply in R](http://petewerner.blogspot.com/2012/12/using-apply-sapply-lapply-in-r.html)"
   ]
  },
  {
   "cell_type": "markdown",
   "id": "301f73b6",
   "metadata": {
    "slideshow": {
     "slide_type": "slide"
    }
   },
   "source": [
    "## `lapply()` function\n",
    "\n",
    "- Takes a function and a vector or list as input\n",
    "- Applies the input function to each element in the list\n",
    "- Returns list as an onput\n",
    "\n",
    "```\n",
    "lapply(<input_object>, <function_name>, <arg_1>, ..., <arg_n>)\n",
    "```"
   ]
  },
  {
   "cell_type": "markdown",
   "id": "b361f2f5",
   "metadata": {
    "slideshow": {
     "slide_type": "slide"
    }
   },
   "source": [
    "## `lapply()` examples"
   ]
  },
  {
   "cell_type": "code",
   "execution_count": 38,
   "id": "b9c6c969",
   "metadata": {
    "slideshow": {
     "slide_type": "fragment"
    }
   },
   "outputs": [],
   "source": [
    "l <- list(a = 1:2, b = 3:4, c = 5:6, d = 7:8, e = 9:10)"
   ]
  },
  {
   "cell_type": "code",
   "execution_count": 39,
   "id": "47234244",
   "metadata": {
    "slideshow": {
     "slide_type": "fragment"
    }
   },
   "outputs": [
    {
     "data": {
      "text/plain": [
       "$a\n",
       "[1] 3\n",
       "\n",
       "$b\n",
       "[1] 7\n",
       "\n",
       "$c\n",
       "[1] 11\n",
       "\n",
       "$d\n",
       "[1] 15\n",
       "\n",
       "$e\n",
       "[1] 19\n"
      ]
     },
     "metadata": {},
     "output_type": "display_data"
    }
   ],
   "source": [
    "# Apply sum() to each element of list 'l'\n",
    "lapply(l, sum)"
   ]
  },
  {
   "cell_type": "code",
   "execution_count": 40,
   "id": "a30145f9",
   "metadata": {
    "slideshow": {
     "slide_type": "fragment"
    }
   },
   "outputs": [
    {
     "data": {
      "text/plain": [
       "$a\n",
       "[1] 2\n",
       "\n",
       "$b\n",
       "[1] 4\n",
       "\n",
       "$c\n",
       "[1] 6\n",
       "\n",
       "$d\n",
       "[1] 8\n",
       "\n",
       "$e\n",
       "[1] 10\n"
      ]
     },
     "metadata": {},
     "output_type": "display_data"
    }
   ],
   "source": [
    "# We can exploit the fact that basic operators are function calls\n",
    "# Here, each subsetting operator `[` with argument 2 is applied to each element\n",
    "# Which gives us second element within each element of the list\n",
    "lapply(l, `[`, 2)"
   ]
  },
  {
   "cell_type": "markdown",
   "id": "942a1a26",
   "metadata": {
    "slideshow": {
     "slide_type": "slide"
    }
   },
   "source": [
    "## `apply()` function\n",
    "\n",
    "- Works with higher-dimensional (> 1d) input objects (matrices, arrays, data frames)\n",
    "- Is a common tool for calculating summaries of rows/columns\n",
    "- `<margin>` argument indicates whether function is applied across rows (1) or columns (2)\n",
    "\n",
    "```\n",
    "apply(<input_object>, <margin>, <function_name>, <arg_1>, ..., <arg_n>)\n",
    "```"
   ]
  },
  {
   "cell_type": "markdown",
   "id": "305aa3bc",
   "metadata": {
    "slideshow": {
     "slide_type": "slide"
    }
   },
   "source": [
    "## `apply()` examples"
   ]
  },
  {
   "cell_type": "code",
   "execution_count": 41,
   "id": "cb0022bc",
   "metadata": {
    "slideshow": {
     "slide_type": "fragment"
    }
   },
   "outputs": [
    {
     "data": {
      "text/plain": [
       "     [,1] [,2] [,3] [,4]\n",
       "[1,] 1    4    7    10  \n",
       "[2,] 2    5    8    11  \n",
       "[3,] 3    6    9    12  "
      ]
     },
     "metadata": {},
     "output_type": "display_data"
    }
   ],
   "source": [
    "m <- matrix(1:12, nrow = 3, ncol = 4)\n",
    "m"
   ]
  },
  {
   "cell_type": "code",
   "execution_count": 42,
   "id": "81c52937",
   "metadata": {
    "slideshow": {
     "slide_type": "fragment"
    }
   },
   "outputs": [
    {
     "data": {
      "text/plain": [
       "[1] 22 26 30"
      ]
     },
     "metadata": {},
     "output_type": "display_data"
    }
   ],
   "source": [
    "# Sum up rows (can also be achieved with rowSums() function)\n",
    "apply(m, 1, sum)"
   ]
  },
  {
   "cell_type": "code",
   "execution_count": 43,
   "id": "65543870",
   "metadata": {
    "slideshow": {
     "slide_type": "fragment"
    }
   },
   "outputs": [
    {
     "data": {
      "text/plain": [
       "[1]  2  5  8 11"
      ]
     },
     "metadata": {},
     "output_type": "display_data"
    }
   ],
   "source": [
    "# Calculate averages across columns (also available in colMeans())\n",
    "apply(m, 2, mean)"
   ]
  },
  {
   "cell_type": "code",
   "execution_count": 44,
   "id": "e37a3ce0",
   "metadata": {
    "slideshow": {
     "slide_type": "fragment"
    }
   },
   "outputs": [
    {
     "data": {
      "text/plain": [
       "[1]  3  6  9 12"
      ]
     },
     "metadata": {},
     "output_type": "display_data"
    }
   ],
   "source": [
    "# Find maximum value in each column\n",
    "apply(m, 2, max)"
   ]
  },
  {
   "cell_type": "markdown",
   "id": "aa1bdb63",
   "metadata": {
    "slideshow": {
     "slide_type": "slide"
    }
   },
   "source": [
    "## `mapply()` function\n",
    "\n",
    "- Takes a function and multiple vectors or lists as input\n",
    "- Applies the function to each corresponding element of input sequences\n",
    "- Simplifies output into vector (if possible)\n",
    "\n",
    "```\n",
    "mapply(<function_name>, <input_object_1>, ..., <input_object_n>, <arg_1>, ..., <arg_n>)\n",
    "```"
   ]
  },
  {
   "cell_type": "markdown",
   "id": "5f1226d0",
   "metadata": {
    "slideshow": {
     "slide_type": "slide"
    }
   },
   "source": [
    "## `mapply()` examples"
   ]
  },
  {
   "cell_type": "code",
   "execution_count": 45,
   "id": "622780ed",
   "metadata": {
    "slideshow": {
     "slide_type": "fragment"
    }
   },
   "outputs": [],
   "source": [
    "means <- -2:2\n",
    "sds <- 1:5"
   ]
  },
  {
   "cell_type": "code",
   "execution_count": 46,
   "id": "92575ea1",
   "metadata": {
    "slideshow": {
     "slide_type": "fragment"
    }
   },
   "outputs": [
    {
     "data": {
      "text/plain": [
       "[1] -2.3877425 -3.8041251  1.2425808  4.2079390  0.2520243"
      ]
     },
     "metadata": {},
     "output_type": "display_data"
    }
   ],
   "source": [
    "# Generate one draw from a normal distribution where\n",
    "# each mean is an element of vector 'means'\n",
    "# and each standard deivation is an element of vector 'sds'\n",
    "#\n",
    "# rnorm(n, mean, sd) takes 3 arguments: n, mean, sd\n",
    "\n",
    "mapply(rnorm, 1, means, sds)"
   ]
  },
  {
   "cell_type": "code",
   "execution_count": 47,
   "id": "bb7be46e",
   "metadata": {
    "slideshow": {
     "slide_type": "fragment"
    }
   },
   "outputs": [
    {
     "data": {
      "text/plain": [
       "     [,1]      [,2]       [,3]       [,4]       [,5]      \n",
       "[1,] -1.676801 -3.0455835  0.8957769  0.5118888 -6.4469782\n",
       "[2,] -2.690624 -1.5524074 -1.4870650 -4.4084040  2.4245422\n",
       "[3,] -1.664708 -0.9970396  0.9591408 -1.7019869  0.7672098\n",
       "[4,] -1.400437 -1.9529977  1.0721986 -0.2210901  8.5994742\n",
       "[5,] -1.958179  2.6664414  0.4189656 -1.5375013  8.7470140"
      ]
     },
     "metadata": {},
     "output_type": "display_data"
    }
   ],
   "source": [
    "# While simplification of output\n",
    "# (attempt to collapse it in fewer dimensions)\n",
    "# makes hard to predict the object returned \n",
    "# by apply() functions that have simplified = TRUE by default\n",
    "\n",
    "mapply(rnorm, 5, means, sds)"
   ]
  },
  {
   "cell_type": "markdown",
   "id": "8f5c5f18",
   "metadata": {
    "slideshow": {
     "slide_type": "slide"
    }
   },
   "source": [
    "## Packages\n",
    "\n",
    "- Program can access functionality of a package using `library()` function\n",
    "- Every package has its own namespace (which can accessed with `::`)\n",
    "\n",
    "```\n",
    "library(<package_name>)\n",
    "<package_name>::<object_name>\n",
    "```"
   ]
  },
  {
   "cell_type": "markdown",
   "id": "f0f389e2",
   "metadata": {
    "slideshow": {
     "slide_type": "slide"
    }
   },
   "source": [
    "## Package loading example"
   ]
  },
  {
   "cell_type": "code",
   "execution_count": 48,
   "id": "6ff4b2b0",
   "metadata": {
    "slideshow": {
     "slide_type": "fragment"
    }
   },
   "outputs": [
    {
     "name": "stderr",
     "output_type": "stream",
     "text": [
      "Warning message:\n",
      "“package ‘Matrix’ was built under R version 4.1.3”\n"
     ]
    }
   ],
   "source": [
    "# Package 'Matrix' is part of the standard R library and doesn't have to be installed separately\n",
    "library(\"Matrix\")"
   ]
  },
  {
   "cell_type": "code",
   "execution_count": 49,
   "id": "06f960d8",
   "metadata": {
    "slideshow": {
     "slide_type": "fragment"
    }
   },
   "outputs": [],
   "source": [
    "# While it is possible to just use function sparseVector() after loading the library,\n",
    "# it is good practice to state explicitly which package the object is coming from.\n",
    "sv <- Matrix::sparseVector(x = c(1, 2, 3), i = c(3, 6, 9), length = 10)"
   ]
  },
  {
   "cell_type": "code",
   "execution_count": 50,
   "id": "d1cdb647",
   "metadata": {
    "slideshow": {
     "slide_type": "fragment"
    }
   },
   "outputs": [
    {
     "data": {
      "text/plain": [
       "sparse vector (nnz/length = 3/10) of class \"dsparseVector\"\n",
       " [1] . . 1 . . 2 . . 3 ."
      ]
     },
     "metadata": {},
     "output_type": "display_data"
    }
   ],
   "source": [
    "sv"
   ]
  },
  {
   "cell_type": "markdown",
   "id": "166ce33c",
   "metadata": {
    "slideshow": {
     "slide_type": "slide"
    }
   },
   "source": [
    "## Next\n",
    "\n",
    "- Tutorial: Implementing functions\n",
    "- Next week: Debugging and Testing in R"
   ]
  }
 ],
 "metadata": {
  "celltoolbar": "Slideshow",
  "kernelspec": {
   "display_name": "R",
   "language": "R",
   "name": "ir"
  },
  "language_info": {
   "codemirror_mode": "r",
   "file_extension": ".r",
   "mimetype": "text/x-r-source",
   "name": "R",
   "pygments_lexer": "r",
   "version": "4.1.2"
  }
 },
 "nbformat": 4,
 "nbformat_minor": 5
}
