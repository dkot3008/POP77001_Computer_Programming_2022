{
 "cells": [
  {
   "cell_type": "markdown",
   "metadata": {
    "slideshow": {
     "slide_type": "slide"
    }
   },
   "source": [
    "## Week 9: Fundamentals of Python Programming II\n",
    "\n",
    "### POP77001 Computer Programming for Social Scientists\n",
    "\n",
    "### Tom Paskhalis\n",
    "\n",
    "##### 7 November 2022\n",
    "\n",
    "##### Module website: [tinyurl.com/POP77001](https://tinyurl.com/POP77001)"
   ]
  },
  {
   "cell_type": "markdown",
   "metadata": {
    "slideshow": {
     "slide_type": "slide"
    }
   },
   "source": [
    "## Overview\n",
    "\n",
    "- Straight-line and branching programs\n",
    "- Conditional statements\n",
    "- Loops and iteration\n",
    "- Iterables\n",
    "- List comprehensions"
   ]
  },
  {
   "cell_type": "markdown",
   "metadata": {
    "slideshow": {
     "slide_type": "slide"
    }
   },
   "source": [
    "## Algorithm flowchart\n",
    "\n",
    "<div style=\"text-align: center;\">\n",
    "    <img width=\"300\" height=\"300\" src=\"../imgs/median_flowchart.png\">\n",
    "</div>"
   ]
  },
  {
   "cell_type": "markdown",
   "metadata": {
    "slideshow": {
     "slide_type": "slide"
    }
   },
   "source": [
    "## Algorithm flowchart (Python)\n",
    "\n",
    "<div style=\"text-align: center;\">\n",
    "    <img width=\"300\" height=\"300\" src=\"../imgs/median_python_flowchart.png\">\n",
    "</div>"
   ]
  },
  {
   "cell_type": "markdown",
   "metadata": {
    "slideshow": {
     "slide_type": "slide"
    }
   },
   "source": [
    "## Calculate median"
   ]
  },
  {
   "cell_type": "code",
   "execution_count": 1,
   "metadata": {
    "slideshow": {
     "slide_type": "fragment"
    }
   },
   "outputs": [
    {
     "data": {
      "text/plain": [
       "[0, 1, 2, 2]"
      ]
     },
     "execution_count": 1,
     "metadata": {},
     "output_type": "execute_result"
    }
   ],
   "source": [
    "a = [2,0,2,1] # Input list\n",
    "a.sort() # Sort list, note in-place modification\n",
    "a"
   ]
  },
  {
   "cell_type": "code",
   "execution_count": 2,
   "metadata": {
    "slideshow": {
     "slide_type": "fragment"
    }
   },
   "outputs": [
    {
     "data": {
      "text/plain": [
       "4"
      ]
     },
     "execution_count": 2,
     "metadata": {},
     "output_type": "execute_result"
    }
   ],
   "source": [
    "n = len(a) # Calculate length of list 'a'\n",
    "n"
   ]
  },
  {
   "cell_type": "code",
   "execution_count": 3,
   "metadata": {
    "slideshow": {
     "slide_type": "fragment"
    }
   },
   "outputs": [
    {
     "data": {
      "text/plain": [
       "2"
      ]
     },
     "execution_count": 3,
     "metadata": {},
     "output_type": "execute_result"
    }
   ],
   "source": [
    "m = (n + 1)//2 # Calculate mid-point, // is operator for integer division \n",
    "m"
   ]
  },
  {
   "cell_type": "code",
   "execution_count": 4,
   "metadata": {
    "slideshow": {
     "slide_type": "fragment"
    }
   },
   "outputs": [
    {
     "data": {
      "text/plain": [
       "False"
      ]
     },
     "execution_count": 4,
     "metadata": {},
     "output_type": "execute_result"
    }
   ],
   "source": [
    "n % 2 == 1 # Check whether the number of elements is odd, % (modulo) gives remainder of division"
   ]
  },
  {
   "cell_type": "code",
   "execution_count": 5,
   "metadata": {
    "slideshow": {
     "slide_type": "fragment"
    }
   },
   "outputs": [
    {
     "data": {
      "text/plain": [
       "1.5"
      ]
     },
     "execution_count": 5,
     "metadata": {},
     "output_type": "execute_result"
    }
   ],
   "source": [
    "sum(a[m-1:m+1])/2 # Calculate median, as the mean of the two numbers around the mid-point"
   ]
  },
  {
   "cell_type": "markdown",
   "metadata": {
    "slideshow": {
     "slide_type": "slide"
    }
   },
   "source": [
    "## Control flow in Python\n",
    "\n",
    "- *Control flow* is the order in which statements are executed or evaluated\n",
    "- Main ways of control flow in Python:\n",
    "    - *Branching* (conditional) statements (e.g. `if`)\n",
    "    - *Iteration* (*loops*) (e.g. `while`)\n",
    "    - *Function calls* (e.g. `len()`)\n",
    "    - *Exceptions* (e.g. `TypeError`)\n",
    "    \n",
    "Extra: [Python documentation for control flow](https://docs.python.org/3/tutorial/controlflow.html)"
   ]
  },
  {
   "cell_type": "markdown",
   "metadata": {
    "slideshow": {
     "slide_type": "slide"
    }
   },
   "source": [
    "## Branching programs\n",
    "\n",
    "<div style=\"text-align: center;\">\n",
    "    <img width=\"400\" height=\"400\" src=\"../imgs/branching_python_flowchart.png\">\n",
    "</div> "
   ]
  },
  {
   "cell_type": "markdown",
   "metadata": {
    "slideshow": {
     "slide_type": "slide"
    }
   },
   "source": [
    "## Conditional statements\n",
    "\n",
    "<div style=\"text-align: center;\">\n",
    "    <img width=\"400\" height=\"400\" src=\"../imgs/branching_flowchart_1.png\">\n",
    "</div> "
   ]
  },
  {
   "cell_type": "markdown",
   "metadata": {
    "slideshow": {
     "slide_type": "slide"
    }
   },
   "source": [
    "## Conditional statements: `if`\n",
    "\n",
    "- `if` - defines condition under which some code is executed \n",
    "\n",
    "```\n",
    "if <boolean_expression>:\n",
    "    <some_code>\n",
    "```"
   ]
  },
  {
   "cell_type": "code",
   "execution_count": 6,
   "metadata": {
    "slideshow": {
     "slide_type": "fragment"
    }
   },
   "outputs": [
    {
     "name": "stdout",
     "output_type": "stream",
     "text": [
      "2\n"
     ]
    }
   ],
   "source": [
    "a = [2,0,2,1,100] # Note that addion of a large value (100) had no effect on the median here\n",
    "a.sort()\n",
    "n = len(a)\n",
    "m = (n + 1)//2\n",
    "if n % 2 == 1:\n",
    "    print(a[m-1])"
   ]
  },
  {
   "cell_type": "markdown",
   "metadata": {
    "slideshow": {
     "slide_type": "slide"
    }
   },
   "source": [
    "## Conditional statements\n",
    "\n",
    "<div style=\"text-align: center;\">\n",
    "    <img width=\"400\" height=\"400\" src=\"../imgs/branching_flowchart.png\">\n",
    "</div> "
   ]
  },
  {
   "cell_type": "markdown",
   "metadata": {
    "slideshow": {
     "slide_type": "slide"
    }
   },
   "source": [
    "## Conditional statements: `if - else`\n",
    "\n",
    "- `if - else` - defines both condition under which some code is executed and alternative code to execute\n",
    "\n",
    "```\n",
    "if <boolean_expression>:\n",
    "    <some_code>\n",
    "else:\n",
    "    <some_other_code>\n",
    "```"
   ]
  },
  {
   "cell_type": "code",
   "execution_count": 7,
   "metadata": {
    "slideshow": {
     "slide_type": "fragment"
    }
   },
   "outputs": [
    {
     "name": "stdout",
     "output_type": "stream",
     "text": [
      "1.5\n"
     ]
    }
   ],
   "source": [
    "a = [2,0,2,1]\n",
    "a.sort()\n",
    "n = len(a)\n",
    "m = (n + 1)//2\n",
    "if n % 2 == 1:\n",
    "    print(a[m-1])\n",
    "else:\n",
    "    print(sum(a[m-1:m+1])/2)"
   ]
  },
  {
   "cell_type": "markdown",
   "metadata": {
    "slideshow": {
     "slide_type": "slide"
    }
   },
   "source": [
    "## Conditional statements: `if - elif - ... - else`\n",
    "\n",
    "- `if - elif - ... - else` - defines both condition under which some code is executed and several alternatives\n",
    "\n",
    "```\n",
    "if <boolean_expression>:\n",
    "    <some_code>\n",
    "elif <boolean_expression>:\n",
    "    <some_other_code>\n",
    "...\n",
    "...\n",
    "else:\n",
    "    <some_more_code>\n",
    "```"
   ]
  },
  {
   "cell_type": "markdown",
   "metadata": {
    "slideshow": {
     "slide_type": "slide"
    }
   },
   "source": [
    "## Example of longer conditional statement"
   ]
  },
  {
   "cell_type": "code",
   "execution_count": 8,
   "metadata": {
    "slideshow": {
     "slide_type": "fragment"
    }
   },
   "outputs": [
    {
     "name": "stdout",
     "output_type": "stream",
     "text": [
      "Positive\n"
     ]
    }
   ],
   "source": [
    "x = 42\n",
    "if x > 0:\n",
    "    print('Positive')\n",
    "elif x < 0:\n",
    "    print('Negative')\n",
    "else:\n",
    "    print('Zero')"
   ]
  },
  {
   "cell_type": "markdown",
   "metadata": {
    "slideshow": {
     "slide_type": "slide"
    }
   },
   "source": [
    "## Optimising conditional statements\n",
    "\n",
    "- Parts of conditional statement are evaluated sequentially, so it makes sense to put the most likely condition as the first one"
   ]
  },
  {
   "cell_type": "code",
   "execution_count": 9,
   "metadata": {
    "slideshow": {
     "slide_type": "fragment"
    }
   },
   "outputs": [
    {
     "name": "stdout",
     "output_type": "stream",
     "text": [
      "Please, enter a number:43\n",
      "Odd\n"
     ]
    }
   ],
   "source": [
    "num = float(input('Please, enter a number:')) # Ask for user input and cast as float\n",
    "if num % 2 == 0:\n",
    "    print('Even')\n",
    "elif num % 2 == 1:\n",
    "    print('Odd')\n",
    "else:\n",
    "    print('This is a real number')"
   ]
  },
  {
   "cell_type": "markdown",
   "metadata": {
    "slideshow": {
     "slide_type": "slide"
    }
   },
   "source": [
    "## Nesting conditional statements\n",
    "\n",
    "- Conditional statements can be nested within each other\n",
    "- But consider code legibility 📜, modularity ⚙️ and speed 🏎️ "
   ]
  },
  {
   "cell_type": "code",
   "execution_count": 10,
   "metadata": {
    "slideshow": {
     "slide_type": "fragment"
    }
   },
   "outputs": [
    {
     "name": "stdout",
     "output_type": "stream",
     "text": [
      "Please, enter a number:-43\n",
      "Negative odd\n"
     ]
    }
   ],
   "source": [
    "num = int(input('Please, enter a number:')) # Ask for user input and cast as integer\n",
    "if num > 0:\n",
    "    if num % 2 == 0:\n",
    "        print('Positive even') \n",
    "    else:\n",
    "        print('Positive odd')\n",
    "elif num < 0:\n",
    "    if num % 2 == 0:\n",
    "        print('Negative even') # Notice that odd/even checking appears twice,\n",
    "    else:\n",
    "        print('Negative odd') # Consider abstracting this as a function\n",
    "else:\n",
    "    print('Zero')"
   ]
  },
  {
   "cell_type": "markdown",
   "metadata": {
    "slideshow": {
     "slide_type": "slide"
    }
   },
   "source": [
    "## Indentation\n",
    "\n",
    "- *Indentation* is semantically meaningful in Python\n",
    "- Visual structure of a program accurately represents its semantic structure\n",
    "- Tabs and spaces should not be mixed\n",
    "- But Jupyter Notebook converts tabs to spaces by default"
   ]
  },
  {
   "cell_type": "markdown",
   "metadata": {
    "slideshow": {
     "slide_type": "slide"
    }
   },
   "source": [
    "## Indentation in Python code"
   ]
  },
  {
   "cell_type": "code",
   "execution_count": 11,
   "metadata": {
    "slideshow": {
     "slide_type": "fragment"
    }
   },
   "outputs": [],
   "source": [
    "x = -43\n",
    "if x % 2 == 0:\n",
    "    print('Even')\n",
    "    if x > 0:\n",
    "        print('Positive')\n",
    "    else:\n",
    "        print('Negative')"
   ]
  },
  {
   "cell_type": "code",
   "execution_count": 12,
   "metadata": {
    "slideshow": {
     "slide_type": "fragment"
    }
   },
   "outputs": [
    {
     "name": "stdout",
     "output_type": "stream",
     "text": [
      "Negative\n"
     ]
    }
   ],
   "source": [
    "x = -43\n",
    "if x % 2 == 0:\n",
    "    print('Even')\n",
    "if x > 0:\n",
    "    print('Positive')\n",
    "else:\n",
    "    print('Negative')"
   ]
  },
  {
   "cell_type": "markdown",
   "metadata": {
    "slideshow": {
     "slide_type": "slide"
    }
   },
   "source": [
    "## Conditional expressions\n",
    "\n",
    "- Python supports *conditional expressions* as well as conditional statements\n",
    "\n",
    "```\n",
    "<expr1> if <test> else <expr2>\n",
    "```"
   ]
  },
  {
   "cell_type": "code",
   "execution_count": 13,
   "metadata": {
    "slideshow": {
     "slide_type": "fragment"
    }
   },
   "outputs": [
    {
     "data": {
      "text/plain": [
       "'even'"
      ]
     },
     "execution_count": 13,
     "metadata": {},
     "output_type": "execute_result"
    }
   ],
   "source": [
    "x = 42\n",
    "y = 'even' if x % 2 == 0 else 'odd'\n",
    "y"
   ]
  },
  {
   "cell_type": "markdown",
   "metadata": {
    "slideshow": {
     "slide_type": "slide"
    }
   },
   "source": [
    "## Iteration (looping)\n",
    "\n",
    "<div style=\"text-align: center;\">\n",
    "    <img width=\"300\" height=\"300\" src=\"../imgs/iteration_flowchart.png\">\n",
    "</div> "
   ]
  },
  {
   "cell_type": "markdown",
   "metadata": {
    "slideshow": {
     "slide_type": "slide"
    }
   },
   "source": [
    "## Iteration: `while`\n",
    "\n",
    "- `while` - defines a condition under which some code (loop body) is executed repeatedly\n",
    "\n",
    "```\n",
    "while <boolean_expression>:\n",
    "    <some_code>\n",
    "```"
   ]
  },
  {
   "cell_type": "code",
   "execution_count": 14,
   "metadata": {
    "slideshow": {
     "slide_type": "fragment"
    }
   },
   "outputs": [
    {
     "data": {
      "text/plain": [
       "120"
      ]
     },
     "execution_count": 14,
     "metadata": {},
     "output_type": "execute_result"
    }
   ],
   "source": [
    "# Calculate a factorial  with decrementing function\n",
    "# E.g. 5! = 1 * 2 * 3 * 4 * 5 = 120\n",
    "x = 5\n",
    "factorial = 1\n",
    "while x > 0:\n",
    "    factorial *= x # factorial = factorial * x\n",
    "    x -= 1 # x = x - 1\n",
    "factorial"
   ]
  },
  {
   "cell_type": "markdown",
   "metadata": {
    "slideshow": {
     "slide_type": "slide"
    }
   },
   "source": [
    "## Iteration: `for`\n",
    "\n",
    "- `for` - defines elements and sequence over which some code is executed iteratively\n",
    "\n",
    "```\n",
    "for <element> in <sequence>:\n",
    "    <some_code>\n",
    "```"
   ]
  },
  {
   "cell_type": "code",
   "execution_count": 15,
   "metadata": {
    "slideshow": {
     "slide_type": "fragment"
    }
   },
   "outputs": [
    {
     "data": {
      "text/plain": [
       "120"
      ]
     },
     "execution_count": 15,
     "metadata": {},
     "output_type": "execute_result"
    }
   ],
   "source": [
    "x = range(1,6)\n",
    "factorial = 1\n",
    "for i in x:\n",
    "    factorial *= i\n",
    "factorial"
   ]
  },
  {
   "cell_type": "markdown",
   "metadata": {
    "slideshow": {
     "slide_type": "slide"
    }
   },
   "source": [
    "## Iteration with conditional statements"
   ]
  },
  {
   "cell_type": "code",
   "execution_count": 16,
   "metadata": {
    "slideshow": {
     "slide_type": "fragment"
    }
   },
   "outputs": [
    {
     "data": {
      "text/plain": [
       "42"
      ]
     },
     "execution_count": 16,
     "metadata": {},
     "output_type": "execute_result"
    }
   ],
   "source": [
    "# Find maximum value in a list with exhaustive enumeration\n",
    "l = [3, 27, 9, 42, 10, 2, 5]\n",
    "max_val = l[0]\n",
    "for i in l:\n",
    "    if i > max_val:\n",
    "        max_val = i\n",
    "max_val"
   ]
  },
  {
   "cell_type": "markdown",
   "metadata": {
    "slideshow": {
     "slide_type": "slide"
    }
   },
   "source": [
    "## `range()` function\n",
    "\n",
    "- `range()` function generates arithmetic progressions and is essential in `for` loops \n",
    "\n",
    "```\n",
    "range(start, stop[, step])\n",
    "```\n",
    "\n",
    "- The default values for `start` and `stop` are 0 and 1\n",
    "\n",
    "Extra: [Python documentation for range()](https://docs.python.org/3/library/stdtypes.html#range)"
   ]
  },
  {
   "cell_type": "code",
   "execution_count": 17,
   "metadata": {
    "slideshow": {
     "slide_type": "fragment"
    }
   },
   "outputs": [
    {
     "name": "stdout",
     "output_type": "stream",
     "text": [
      "range(0, 3)\n",
      "[0, 1, 2]\n"
     ]
    }
   ],
   "source": [
    "print(range(3))\n",
    "print(list(range(3)))"
   ]
  },
  {
   "cell_type": "markdown",
   "metadata": {
    "slideshow": {
     "slide_type": "slide"
    }
   },
   "source": [
    "## `range()` function in `for` loops"
   ]
  },
  {
   "cell_type": "code",
   "execution_count": 18,
   "metadata": {
    "slideshow": {
     "slide_type": "fragment"
    }
   },
   "outputs": [
    {
     "name": "stdout",
     "output_type": "stream",
     "text": [
      "3 27 9 42 10 2 5 "
     ]
    }
   ],
   "source": [
    "l = [3, 27, 9, 42, 10, 2, 5]\n",
    "for i in range(len(l)):\n",
    "    print(l[i], end = ' ')"
   ]
  },
  {
   "cell_type": "code",
   "execution_count": 19,
   "metadata": {
    "slideshow": {
     "slide_type": "fragment"
    }
   },
   "outputs": [
    {
     "data": {
      "text/plain": [
       "['27', '42', '2']"
      ]
     },
     "execution_count": 19,
     "metadata": {},
     "output_type": "execute_result"
    }
   ],
   "source": [
    "l = [3, 27, 9, 42, 10, 2, 5]\n",
    "s = []\n",
    "for i in range(1, len(l), 2):\n",
    "    s.append(str(l[i]))\n",
    "s"
   ]
  },
  {
   "cell_type": "markdown",
   "metadata": {
    "slideshow": {
     "slide_type": "slide"
    }
   },
   "source": [
    "## Iterables in Python\n",
    "\n",
    "- *Iterable* is an object that generates one element at a item within iteration\n",
    "- Formally, they are objects that have `__iter__` method, which return *iterator*\n",
    "- Some iterables are built-in (e.g. list, tuple, `range()`)\n",
    "- But they can also be user-created"
   ]
  },
  {
   "cell_type": "markdown",
   "metadata": {
    "slideshow": {
     "slide_type": "slide"
    }
   },
   "source": [
    "## Iteration over multiple iterables\n",
    "\n",
    "- `zip()` function provides a convenient way of iterating over several sequences simultaneously\n",
    "\n",
    "Extra: [Python documentation for zip()](https://docs.python.org/3/library/functions.html#zip)"
   ]
  },
  {
   "cell_type": "code",
   "execution_count": 20,
   "metadata": {
    "slideshow": {
     "slide_type": "fragment"
    }
   },
   "outputs": [
    {
     "name": "stdout",
     "output_type": "stream",
     "text": [
      "3 - three\n",
      "27 - twenty seven\n",
      "9 - nine\n",
      "42 - forty-two\n"
     ]
    }
   ],
   "source": [
    "l = [3, 27, 9, 42]\n",
    "s = ['three', 'twenty seven', 'nine', 'forty-two']\n",
    "for i, j in zip(l, s):\n",
    "    print(str(i) + ' - ' + j)"
   ]
  },
  {
   "cell_type": "markdown",
   "metadata": {
    "slideshow": {
     "slide_type": "slide"
    }
   },
   "source": [
    "## Iteration over dictionaries\n",
    "\n",
    "- `items()` method allows to iterate over keys and values in a dictionary"
   ]
  },
  {
   "cell_type": "code",
   "execution_count": 21,
   "metadata": {
    "slideshow": {
     "slide_type": "fragment"
    }
   },
   "outputs": [
    {
     "name": "stdout",
     "output_type": "stream",
     "text": [
      "APPLE 150\n",
      "BANANA 120\n",
      "WATERMELON 3000\n"
     ]
    }
   ],
   "source": [
    "d = {'apple': 150.0, 'banana': 120.0, 'watermelon': 3000.0}\n",
    "for k, v in d.items():\n",
    "    print(k.upper(), int(v))"
   ]
  },
  {
   "cell_type": "markdown",
   "metadata": {
    "slideshow": {
     "slide_type": "slide"
    }
   },
   "source": [
    "## Iteration: `break` and `continue`\n",
    "\n",
    "- `break` - terminates the loop in which it is contained\n",
    "- `continue` - exits the iteration of a loop in which it is contained"
   ]
  },
  {
   "cell_type": "code",
   "execution_count": 22,
   "metadata": {
    "slideshow": {
     "slide_type": "fragment"
    }
   },
   "outputs": [
    {
     "name": "stdout",
     "output_type": "stream",
     "text": [
      "1\n"
     ]
    }
   ],
   "source": [
    "for i in range(1,6):\n",
    "    if i % 2 == 0:\n",
    "        break\n",
    "    print(i)"
   ]
  },
  {
   "cell_type": "code",
   "execution_count": 23,
   "metadata": {
    "slideshow": {
     "slide_type": "fragment"
    }
   },
   "outputs": [
    {
     "name": "stdout",
     "output_type": "stream",
     "text": [
      "1\n",
      "3\n",
      "5\n"
     ]
    }
   ],
   "source": [
    "for i in range(1,6):\n",
    "    if i % 2 == 0:\n",
    "        continue\n",
    "    print(i)"
   ]
  },
  {
   "cell_type": "markdown",
   "metadata": {
    "slideshow": {
     "slide_type": "slide"
    }
   },
   "source": [
    "## Infinite loop\n",
    "\n",
    "<div style=\"text-align: center;\">\n",
    "    <img width=\"500\" height=\"500\" src=\"../imgs/infinite_loop.png\">\n",
    "</div> \n",
    "\n",
    "Source: [Reddit](https://www.reddit.com/r/ProgrammerHumor/comments/q9xxkm/infinity_loop_irl/)"
   ]
  },
  {
   "cell_type": "markdown",
   "metadata": {
    "slideshow": {
     "slide_type": "slide"
    }
   },
   "source": [
    "## Infinite loops\n",
    "\n",
    "- Loops that have no explicit limits for the number of iterations are called *infinite*\n",
    "- They have to be terminated with a `break` statement (or Ctrl/Cmd-C in interactive session)\n",
    "- Such loops can be unintentional (bug) or desired (e.g. waiting for user's input, some event)"
   ]
  },
  {
   "cell_type": "code",
   "execution_count": 24,
   "metadata": {
    "slideshow": {
     "slide_type": "fragment"
    }
   },
   "outputs": [],
   "source": [
    "i = 1\n",
    "while True:\n",
    "    i += 1\n",
    "    if i > 10:\n",
    "        break"
   ]
  },
  {
   "cell_type": "code",
   "execution_count": 25,
   "metadata": {
    "slideshow": {
     "slide_type": "fragment"
    }
   },
   "outputs": [
    {
     "data": {
      "text/plain": [
       "11"
      ]
     },
     "execution_count": 25,
     "metadata": {},
     "output_type": "execute_result"
    }
   ],
   "source": [
    "i"
   ]
  },
  {
   "cell_type": "markdown",
   "metadata": {
    "slideshow": {
     "slide_type": "slide"
    }
   },
   "source": [
    "## List comprehensions\n",
    "\n",
    "- *List comprehensions* provide a concise way to apply an operation to each element of a list\n",
    "- They offer a convenient and fast(🏎️) way of building lists\n",
    "- Can have a nested structure (which affects legibility 📜)\n",
    "\n",
    "```\n",
    "[<expr> for <elem> in <iterable>]\n",
    "[<expr> for <elem> in <iterable> if <test>]\n",
    "[<expr> for <elem1> in <iterable1> for <elem2> in <iterable2>]\n",
    "```  \n",
    "\n",
    "\n",
    "Extra: [Python documentation for list comprehensions](https://docs.python.org/3/tutorial/datastructures.html#list-comprehensions)"
   ]
  },
  {
   "cell_type": "markdown",
   "metadata": {
    "slideshow": {
     "slide_type": "slide"
    }
   },
   "source": [
    "## Examples of list comprehensions "
   ]
  },
  {
   "cell_type": "code",
   "execution_count": 26,
   "metadata": {
    "slideshow": {
     "slide_type": "fragment"
    }
   },
   "outputs": [],
   "source": [
    "l = [0, 'one', 1, 2]"
   ]
  },
  {
   "cell_type": "code",
   "execution_count": 27,
   "metadata": {
    "slideshow": {
     "slide_type": "fragment"
    }
   },
   "outputs": [
    {
     "data": {
      "text/plain": [
       "[0, 'oneone', 2, 4]"
      ]
     },
     "execution_count": 27,
     "metadata": {},
     "output_type": "execute_result"
    }
   ],
   "source": [
    "[x * 2 for x in l]"
   ]
  },
  {
   "cell_type": "code",
   "execution_count": 28,
   "metadata": {
    "slideshow": {
     "slide_type": "fragment"
    }
   },
   "outputs": [
    {
     "data": {
      "text/plain": [
       "[0, 2, 4]"
      ]
     },
     "execution_count": 28,
     "metadata": {},
     "output_type": "execute_result"
    }
   ],
   "source": [
    "[x * 2 for x in l if type(x) == int]"
   ]
  },
  {
   "cell_type": "code",
   "execution_count": 29,
   "metadata": {
    "slideshow": {
     "slide_type": "fragment"
    }
   },
   "outputs": [
    {
     "data": {
      "text/plain": [
       "['ONE']"
      ]
     },
     "execution_count": 29,
     "metadata": {},
     "output_type": "execute_result"
    }
   ],
   "source": [
    "[x.upper() for x in l if type(x) == str]"
   ]
  },
  {
   "cell_type": "markdown",
   "metadata": {
    "slideshow": {
     "slide_type": "slide"
    }
   },
   "source": [
    "## Set and dictionary comprehensions\n",
    "\n",
    "- Analogous to list, sets and dictionaries have their own concise ways of iterating over them\n",
    "\n",
    "```\n",
    "{<expr> for <elem> in <iterable> if <test>}\n",
    "{<key>: <value> for <elem1>, <elem2> in <iterable> if <test>}\n",
    "```"
   ]
  },
  {
   "cell_type": "code",
   "execution_count": 30,
   "metadata": {
    "slideshow": {
     "slide_type": "fragment"
    }
   },
   "outputs": [
    {
     "data": {
      "text/plain": [
       "{'A - apple', 'B - banana', 'W - watermelon'}"
      ]
     },
     "execution_count": 30,
     "metadata": {},
     "output_type": "execute_result"
    }
   ],
   "source": [
    "o = {'apple', 'banana', 'watermelon'}\n",
    "{e[0].title() + ' - ' + e for e in o}"
   ]
  },
  {
   "cell_type": "code",
   "execution_count": 31,
   "metadata": {
    "slideshow": {
     "slide_type": "fragment"
    }
   },
   "outputs": [
    {
     "data": {
      "text/plain": [
       "{'APPLE': 150, 'BANANA': 120, 'WATERMELON': 3000}"
      ]
     },
     "execution_count": 31,
     "metadata": {},
     "output_type": "execute_result"
    }
   ],
   "source": [
    "d = {'apple': 150.0, 'banana': 120.0, 'watermelon': 3000.0}\n",
    "{k.upper(): int(v) for k, v in d.items()}"
   ]
  },
  {
   "cell_type": "markdown",
   "metadata": {
    "slideshow": {
     "slide_type": "slide"
    }
   },
   "source": [
    "## More on iterations\n",
    "\n",
    "- Always make sure that the terminating condition for a loop is properly specified\n",
    "- Nested loops can substantially slow down your program, try to avoid them\n",
    "- Use `break` and `continue` to shorten iterations\n",
    "- Consolidate several loops into one whenever possible"
   ]
  },
  {
   "cell_type": "markdown",
   "metadata": {
    "slideshow": {
     "slide_type": "slide"
    }
   },
   "source": [
    "## Built-in and user-defined functions\n",
    "\n",
    "- Python has many built-in functions: `len()`, `range()`, `zip()`\n",
    "- But its flexibility comes from functions defined by users\n",
    "- Many imported modules would contain their own functions\n",
    "- And many functions need to be implemented by the developer (i.e. you)"
   ]
  },
  {
   "cell_type": "markdown",
   "metadata": {
    "slideshow": {
     "slide_type": "slide"
    }
   },
   "source": [
    "## Defining functions\n",
    "\n",
    "```\n",
    "def <function_name>(arg_1, arg_2, ..., arg_n):\n",
    "    <function_body>\n",
    "```\n"
   ]
  },
  {
   "cell_type": "code",
   "execution_count": 32,
   "metadata": {
    "slideshow": {
     "slide_type": "fragment"
    }
   },
   "outputs": [],
   "source": [
    "def foo(arg):\n",
    "    pass # does nothing, but is required as 'def' statement cannot be empty"
   ]
  },
  {
   "cell_type": "markdown",
   "metadata": {
    "slideshow": {
     "slide_type": "fragment"
    }
   },
   "source": [
    "Extra: [Python documentation on defining functions](https://docs.python.org/3/tutorial/controlflow.html#defining-functions)"
   ]
  },
  {
   "cell_type": "markdown",
   "metadata": {
    "slideshow": {
     "slide_type": "slide"
    }
   },
   "source": [
    "## Function definition\n",
    "\n",
    "- Function definition starts with `def` statement\n",
    "- Variables are local to function definition in which they were assigned\n",
    "- Docstrings should be used to provide function overview (accessed with  `help()`)"
   ]
  },
  {
   "cell_type": "markdown",
   "metadata": {
    "slideshow": {
     "slide_type": "slide"
    }
   },
   "source": [
    "## Function definition example"
   ]
  },
  {
   "cell_type": "code",
   "execution_count": 33,
   "metadata": {
    "slideshow": {
     "slide_type": "fragment"
    }
   },
   "outputs": [],
   "source": [
    "def calculate_median(lst):\n",
    "    \"\"\"Calculates median\n",
    "    \n",
    "    Takes list as input\n",
    "    Assumes all elements of list are numeric\n",
    "    \"\"\"\n",
    "    lst.sort()\n",
    "    n = len(lst)\n",
    "    m = (n + 1)//2\n",
    "    if n % 2 == 1:\n",
    "        median = lst[m-1]\n",
    "    else:\n",
    "        median = sum(lst[m-1:m+1])/2\n",
    "    return median"
   ]
  },
  {
   "cell_type": "markdown",
   "metadata": {
    "slideshow": {
     "slide_type": "slide"
    }
   },
   "source": [
    "## Calling functions\n",
    "\n",
    "```\n",
    "<function_name>(arg_1, arg_2, ...)\n",
    "```"
   ]
  },
  {
   "cell_type": "code",
   "execution_count": 34,
   "metadata": {
    "slideshow": {
     "slide_type": "fragment"
    }
   },
   "outputs": [
    {
     "data": {
      "text/plain": [
       "1.5"
      ]
     },
     "execution_count": 34,
     "metadata": {},
     "output_type": "execute_result"
    }
   ],
   "source": [
    "a = [2, 0, 2, 1]\n",
    "calculate_median(a)"
   ]
  },
  {
   "cell_type": "markdown",
   "metadata": {
    "slideshow": {
     "slide_type": "fragment"
    }
   },
   "source": [
    "- Functions need to be defined before called "
   ]
  },
  {
   "cell_type": "code",
   "execution_count": 35,
   "metadata": {
    "slideshow": {
     "slide_type": "fragment"
    }
   },
   "outputs": [
    {
     "ename": "NameError",
     "evalue": "name 'calculate_mean' is not defined",
     "output_type": "error",
     "traceback": [
      "\u001b[0;31m---------------------------------------------------------------------------\u001b[0m",
      "\u001b[0;31mNameError\u001b[0m                                 Traceback (most recent call last)",
      "Input \u001b[0;32mIn [35]\u001b[0m, in \u001b[0;36m<cell line: 1>\u001b[0;34m()\u001b[0m\n\u001b[0;32m----> 1\u001b[0m \u001b[43mcalculate_mean\u001b[49m(a)\n",
      "\u001b[0;31mNameError\u001b[0m: name 'calculate_mean' is not defined"
     ]
    }
   ],
   "source": [
    "calculate_mean(a)"
   ]
  },
  {
   "cell_type": "markdown",
   "metadata": {
    "slideshow": {
     "slide_type": "slide"
    }
   },
   "source": [
    "## Function call\n",
    "\n",
    "- Function is executed until:\n",
    "    - Either `return` statement is encountered\n",
    "    - There are no more expressions to evaluate\n",
    "- Function call always returns a value:\n",
    "    - Value of expression following `return`\n",
    "    - `None` if no `return` statement"
   ]
  },
  {
   "cell_type": "markdown",
   "metadata": {
    "slideshow": {
     "slide_type": "slide"
    }
   },
   "source": [
    "## Function call example"
   ]
  },
  {
   "cell_type": "code",
   "execution_count": 36,
   "metadata": {
    "slideshow": {
     "slide_type": "fragment"
    }
   },
   "outputs": [],
   "source": [
    "def is_positive(num):\n",
    "    if num > 0:\n",
    "        return True\n",
    "    elif num < 0:\n",
    "        return False"
   ]
  },
  {
   "cell_type": "code",
   "execution_count": 37,
   "metadata": {
    "slideshow": {
     "slide_type": "fragment"
    }
   },
   "outputs": [
    {
     "name": "stdout",
     "output_type": "stream",
     "text": [
      "True\n",
      "False\n",
      "None\n"
     ]
    }
   ],
   "source": [
    "res1 = is_positive(5)\n",
    "res2 = is_positive(-7)\n",
    "res3 = is_positive(0)\n",
    "\n",
    "print(res1)\n",
    "print(res2)\n",
    "print(res3)"
   ]
  },
  {
   "cell_type": "markdown",
   "metadata": {
    "slideshow": {
     "slide_type": "slide"
    }
   },
   "source": [
    "## Function arguments\n",
    "\n",
    "- *Arguments* provide a way of giving input to a function\n",
    "- Arguments in function definition are sometimes called *parameters*\n",
    "- When a function is invoked (called) arguments are matched and bound to local variable names\n",
    "- Python bounds function arguments in 2 ways:\n",
    "    - by *position* (positional arguments)\n",
    "    - by *keywords* (keyword arguments)\n",
    "- A keyword argument cannot be followed by a non-keyword argument\n",
    "- Keyword arguments are often used together with *default values*\n",
    "- Supplying default values makes arguments *optional*"
   ]
  },
  {
   "cell_type": "markdown",
   "metadata": {
    "slideshow": {
     "slide_type": "slide"
    }
   },
   "source": [
    "## Function arguments example"
   ]
  },
  {
   "cell_type": "code",
   "execution_count": 38,
   "metadata": {
    "slideshow": {
     "slide_type": "fragment"
    }
   },
   "outputs": [],
   "source": [
    "def format_date(day, month, year, reverse = True):\n",
    "    if reverse:\n",
    "        return str(year) + '-' + str(month) + '-' + str(day)\n",
    "    else:\n",
    "        return str(day) + '-' + str(month) + '-' + str(year)"
   ]
  },
  {
   "cell_type": "code",
   "execution_count": 39,
   "metadata": {
    "slideshow": {
     "slide_type": "fragment"
    }
   },
   "outputs": [
    {
     "data": {
      "text/plain": [
       "'2021-10-4'"
      ]
     },
     "execution_count": 39,
     "metadata": {},
     "output_type": "execute_result"
    }
   ],
   "source": [
    "format_date(4, 10, 2021)"
   ]
  },
  {
   "cell_type": "code",
   "execution_count": 40,
   "metadata": {
    "slideshow": {
     "slide_type": "fragment"
    }
   },
   "outputs": [
    {
     "data": {
      "text/plain": [
       "'2021-10-4'"
      ]
     },
     "execution_count": 40,
     "metadata": {},
     "output_type": "execute_result"
    }
   ],
   "source": [
    "format_date(day = 4, month = 10, year = 2021)"
   ]
  },
  {
   "cell_type": "code",
   "execution_count": 41,
   "metadata": {
    "slideshow": {
     "slide_type": "fragment"
    }
   },
   "outputs": [
    {
     "data": {
      "text/plain": [
       "'4-10-2021'"
      ]
     },
     "execution_count": 41,
     "metadata": {},
     "output_type": "execute_result"
    }
   ],
   "source": [
    "format_date(4, 10, 2021, False)"
   ]
  },
  {
   "cell_type": "code",
   "execution_count": 42,
   "metadata": {
    "slideshow": {
     "slide_type": "fragment"
    }
   },
   "outputs": [
    {
     "ename": "SyntaxError",
     "evalue": "positional argument follows keyword argument (2945924660.py, line 1)",
     "output_type": "error",
     "traceback": [
      "\u001b[0;36m  Input \u001b[0;32mIn [42]\u001b[0;36m\u001b[0m\n\u001b[0;31m    format_date(day = 4, month = 10, year = 2021, False)\u001b[0m\n\u001b[0m                                                       ^\u001b[0m\n\u001b[0;31mSyntaxError\u001b[0m\u001b[0;31m:\u001b[0m positional argument follows keyword argument\n"
     ]
    }
   ],
   "source": [
    "format_date(day = 4, month = 10, year = 2021, False)"
   ]
  },
  {
   "cell_type": "markdown",
   "metadata": {
    "slideshow": {
     "slide_type": "slide"
    }
   },
   "source": [
    "## Functions with variable number of arguments\n",
    "\n",
    "- `*` in function definition collects unmatched position arguments into a tuple\n",
    "- `**` collects keyword arguments into a dictionary"
   ]
  },
  {
   "cell_type": "code",
   "execution_count": 43,
   "metadata": {
    "slideshow": {
     "slide_type": "fragment"
    }
   },
   "outputs": [],
   "source": [
    "def foo(*args):\n",
    "    print(args)"
   ]
  },
  {
   "cell_type": "code",
   "execution_count": 44,
   "metadata": {
    "slideshow": {
     "slide_type": "fragment"
    }
   },
   "outputs": [
    {
     "name": "stdout",
     "output_type": "stream",
     "text": [
      "(1, 'x', [5, 6, 10])\n"
     ]
    }
   ],
   "source": [
    "foo(1, 'x', [5,6,10])"
   ]
  },
  {
   "cell_type": "code",
   "execution_count": 45,
   "metadata": {
    "slideshow": {
     "slide_type": "fragment"
    }
   },
   "outputs": [],
   "source": [
    "def foo(**kwargs):\n",
    "    print(kwargs)"
   ]
  },
  {
   "cell_type": "code",
   "execution_count": 46,
   "metadata": {
    "slideshow": {
     "slide_type": "fragment"
    }
   },
   "outputs": [
    {
     "name": "stdout",
     "output_type": "stream",
     "text": [
      "{'first': 1, 'second': 'x', 'third': [5, 6, 10]}\n"
     ]
    }
   ],
   "source": [
    "foo(first = 1, second = 'x', third = [5,6,10])"
   ]
  },
  {
   "cell_type": "markdown",
   "metadata": {
    "slideshow": {
     "slide_type": "slide"
    }
   },
   "source": [
    "## Function arguments: hard cases\n",
    "\n",
    "- All types of arguments can be combined, although such cases are rare\n",
    "\n",
    "```\n",
    "def <function_name>(arg_1, ..., arg_n, *args, kwarg_1, ..., kwarg_n, **kwargs):\n",
    "    <function_body>\n",
    "```"
   ]
  },
  {
   "cell_type": "code",
   "execution_count": 47,
   "metadata": {
    "slideshow": {
     "slide_type": "fragment"
    }
   },
   "outputs": [],
   "source": [
    "def foo(a, b, *args, c = False, **kwargs):\n",
    "    print(a, b, args, c, kwargs)"
   ]
  },
  {
   "cell_type": "code",
   "execution_count": 48,
   "metadata": {
    "slideshow": {
     "slide_type": "fragment"
    }
   },
   "outputs": [
    {
     "name": "stdout",
     "output_type": "stream",
     "text": [
      "1 x (20, 'cat') True {'last': [10, 99]}\n"
     ]
    }
   ],
   "source": [
    "foo(1, 'x', 20, 'cat', c = True, last = [10, 99])"
   ]
  },
  {
   "cell_type": "markdown",
   "metadata": {
    "slideshow": {
     "slide_type": "slide"
    }
   },
   "source": [
    "## Nested functions"
   ]
  },
  {
   "cell_type": "code",
   "execution_count": 49,
   "metadata": {
    "slideshow": {
     "slide_type": "fragment"
    }
   },
   "outputs": [],
   "source": [
    "def which_integer(num):\n",
    "    def even_or_odd(num):\n",
    "        if num % 2 == 0:\n",
    "            return 'even'\n",
    "        else:\n",
    "            return 'odd'\n",
    "    if num > 0:\n",
    "        eo = even_or_odd(num)\n",
    "        return 'positive ' + eo\n",
    "    elif num < 0:\n",
    "        eo = even_or_odd(num)\n",
    "        return 'negative ' + eo\n",
    "    else:\n",
    "        return 'zero'"
   ]
  },
  {
   "cell_type": "code",
   "execution_count": 50,
   "metadata": {
    "slideshow": {
     "slide_type": "fragment"
    }
   },
   "outputs": [
    {
     "data": {
      "text/plain": [
       "'negative odd'"
      ]
     },
     "execution_count": 50,
     "metadata": {},
     "output_type": "execute_result"
    }
   ],
   "source": [
    "which_integer(-43)"
   ]
  },
  {
   "cell_type": "code",
   "execution_count": 51,
   "metadata": {
    "slideshow": {
     "slide_type": "fragment"
    }
   },
   "outputs": [
    {
     "ename": "NameError",
     "evalue": "name 'even_or_odd' is not defined",
     "output_type": "error",
     "traceback": [
      "\u001b[0;31m---------------------------------------------------------------------------\u001b[0m",
      "\u001b[0;31mNameError\u001b[0m                                 Traceback (most recent call last)",
      "Input \u001b[0;32mIn [51]\u001b[0m, in \u001b[0;36m<cell line: 1>\u001b[0;34m()\u001b[0m\n\u001b[0;32m----> 1\u001b[0m \u001b[43meven_or_odd\u001b[49m(\u001b[38;5;241m-\u001b[39m\u001b[38;5;241m43\u001b[39m)\n",
      "\u001b[0;31mNameError\u001b[0m: name 'even_or_odd' is not defined"
     ]
    }
   ],
   "source": [
    "even_or_odd(-43)"
   ]
  },
  {
   "cell_type": "markdown",
   "metadata": {
    "slideshow": {
     "slide_type": "slide"
    }
   },
   "source": [
    "## Python scope basics\n",
    "\n",
    "- Variables (aka names) exist in a *namespace*\n",
    "- This is where Python looks it up, when you refer to an object by its variable name\n",
    "- Location of first variable assignment determines its namespace (scope of visibility)"
   ]
  },
  {
   "cell_type": "code",
   "execution_count": 52,
   "metadata": {
    "slideshow": {
     "slide_type": "fragment"
    }
   },
   "outputs": [
    {
     "name": "stdout",
     "output_type": "stream",
     "text": [
      "12\n",
      "5\n"
     ]
    }
   ],
   "source": [
    "x = 5\n",
    "def foo():\n",
    "    x = 12\n",
    "    return x\n",
    "y = foo()\n",
    "print(y)\n",
    "print(x)"
   ]
  },
  {
   "cell_type": "markdown",
   "metadata": {
    "slideshow": {
     "slide_type": "slide"
    }
   },
   "source": [
    "## Scoping levels\n",
    "\n",
    "- Variables can be assigned in 3 different places, that correspond to 3 different scopes:\n",
    "    - `local` to the function, if a variable is assigned inside `def`\n",
    "    - `nonlocal` to nested function, if a variable is assigned in an enclosing `def`\n",
    "    - `global` to the file (module), when a variable is assigned outside all `def`s\n",
    "\n",
    "<table>\n",
    "    <tr>\n",
    "        <td><div><img width=\"500\" height=\"300\" src=\"../imgs/legb_scope.png\"></div></td>\n",
    "    </tr>\n",
    "    <tr>\n",
    "        <td style=\"text-align:center\"><h5>LEGB rule</h5></td>\n",
    "    </tr>\n",
    "    <tr>\n",
    "        <td style=\"text-align:left\">Source: <a href=\"https://learning-python.com/about-lp5e.html\">Mark Lutz</a></td>\n",
    "    </tr>\n",
    "</table>"
   ]
  },
  {
   "cell_type": "markdown",
   "metadata": {
    "slideshow": {
     "slide_type": "slide"
    }
   },
   "source": [
    "## Lambda functions\n",
    "\n",
    "- Apart from `def` statement, it is possible to generate function objects with `lambda` expression\n",
    "- `lambda` allows creating anonymous function (returns function instead of assigning it to a name)\n",
    "- Thus, it can appear in places, where defining function is not allowed by Python syntax\n",
    "- E.g. as arguments in higher-order functions, return values\n",
    "\n",
    "```\n",
    "lambda arg_1, arg_2,... arg_n: <some_expression>\n",
    "```"
   ]
  },
  {
   "cell_type": "code",
   "execution_count": 53,
   "metadata": {
    "slideshow": {
     "slide_type": "fragment"
    }
   },
   "outputs": [
    {
     "data": {
      "text/plain": [
       "'Function!'"
      ]
     },
     "execution_count": 53,
     "metadata": {},
     "output_type": "execute_result"
    }
   ],
   "source": [
    "def add_excl(s): # function definition always binds function object to a variable\n",
    "    return s + '!'\n",
    "\n",
    "add_excl('Function')"
   ]
  },
  {
   "cell_type": "code",
   "execution_count": 54,
   "metadata": {
    "slideshow": {
     "slide_type": "fragment"
    }
   },
   "outputs": [
    {
     "data": {
      "text/plain": [
       "'Lambda!'"
      ]
     },
     "execution_count": 54,
     "metadata": {},
     "output_type": "execute_result"
    }
   ],
   "source": [
    "add_excl = lambda s: s + '!' # typically, lambda function wouldn't be assigned to a variable\n",
    "\n",
    "add_excl('Lambda')"
   ]
  },
  {
   "cell_type": "markdown",
   "metadata": {
    "slideshow": {
     "slide_type": "slide"
    }
   },
   "source": [
    "## Lambda function examples"
   ]
  },
  {
   "cell_type": "code",
   "execution_count": 55,
   "metadata": {
    "slideshow": {
     "slide_type": "fragment"
    }
   },
   "outputs": [],
   "source": [
    "def add_five():\n",
    "    return lambda x: x + 5\n",
    "\n",
    "af = add_five()"
   ]
  },
  {
   "cell_type": "code",
   "execution_count": 56,
   "metadata": {
    "slideshow": {
     "slide_type": "fragment"
    }
   },
   "outputs": [
    {
     "data": {
      "text/plain": [
       "<function __main__.add_five.<locals>.<lambda>(x)>"
      ]
     },
     "execution_count": 56,
     "metadata": {},
     "output_type": "execute_result"
    }
   ],
   "source": [
    "af # 'af' is just a function, which is yet to be invoked (called)"
   ]
  },
  {
   "cell_type": "code",
   "execution_count": 57,
   "metadata": {
    "slideshow": {
     "slide_type": "fragment"
    }
   },
   "outputs": [
    {
     "data": {
      "text/plain": [
       "15"
      ]
     },
     "execution_count": 57,
     "metadata": {},
     "output_type": "execute_result"
    }
   ],
   "source": [
    "af(10) # Here we call a function and supply 10 as an argument"
   ]
  },
  {
   "cell_type": "code",
   "execution_count": 58,
   "metadata": {
    "slideshow": {
     "slide_type": "fragment"
    }
   },
   "outputs": [
    {
     "data": {
      "text/plain": [
       "[0, 1, 4, 9, 16, 25, 36, 49, 64, 81]"
      ]
     },
     "execution_count": 58,
     "metadata": {},
     "output_type": "execute_result"
    }
   ],
   "source": [
    "[x ** 2 for x in range(10)] # Could be faster, more 'pythonic'"
   ]
  },
  {
   "cell_type": "code",
   "execution_count": 59,
   "metadata": {
    "slideshow": {
     "slide_type": "fragment"
    }
   },
   "outputs": [
    {
     "data": {
      "text/plain": [
       "[0, 1, 4, 9, 16, 25, 36, 49, 64, 81]"
      ]
     },
     "execution_count": 59,
     "metadata": {},
     "output_type": "execute_result"
    }
   ],
   "source": [
    "list(map(lambda x: x**2, range(10))) # More functional in style, similar to R"
   ]
  },
  {
   "cell_type": "markdown",
   "metadata": {
    "slideshow": {
     "slide_type": "slide"
    }
   },
   "source": [
    "## Recursion\n",
    "\n",
    "<div style=\"text-align: center;\">\n",
    "    <img width=\"300\" height=\"300\" src=\"../imgs/avocado_recursion.gif\">\n",
    "</div> \n",
    "\n",
    "Source: [Reddit](https://www.reddit.com/r/ProgrammerHumor/comments/pvke5n/the_art_of_recursion/)"
   ]
  },
  {
   "cell_type": "markdown",
   "metadata": {
    "slideshow": {
     "slide_type": "slide"
    }
   },
   "source": [
    "## Recursion in programming\n",
    "\n",
    "- Functions that call themselves are called *recursive* functions\n",
    "- It consists of 2 parts that prevent if from being a circular solution:\n",
    "    1. Base case, specifies the result of a special case\n",
    "    2. General case, defines answer in terms of answer om some other input"
   ]
  },
  {
   "cell_type": "markdown",
   "metadata": {
    "slideshow": {
     "slide_type": "slide"
    }
   },
   "source": [
    "## Recursion example\n",
    "\n",
    "- Factorial function: \n",
    "    1. Base case: 1! = 1\n",
    "    2. General case: n! = n * (n-1)!"
   ]
  },
  {
   "cell_type": "code",
   "execution_count": 60,
   "metadata": {
    "slideshow": {
     "slide_type": "fragment"
    }
   },
   "outputs": [],
   "source": [
    "def factorial(x):\n",
    "    \"\"\"Calculates factorial of x!\n",
    "    \n",
    "    Takes one integer as an input\n",
    "    Returns the factorial of that integer\n",
    "    \"\"\"\n",
    "    if x == 1:\n",
    "        return x\n",
    "    else:\n",
    "        return x * factorial(x-1)"
   ]
  },
  {
   "cell_type": "code",
   "execution_count": 61,
   "metadata": {
    "slideshow": {
     "slide_type": "fragment"
    }
   },
   "outputs": [
    {
     "data": {
      "text/plain": [
       "120"
      ]
     },
     "execution_count": 61,
     "metadata": {},
     "output_type": "execute_result"
    }
   ],
   "source": [
    "factorial(5)"
   ]
  },
  {
   "cell_type": "markdown",
   "metadata": {
    "slideshow": {
     "slide_type": "slide"
    }
   },
   "source": [
    "## Function design principles\n",
    "\n",
    "- Function should have a single, cohesive purpose\n",
    "    - Check if you could give it a short descriptive name\n",
    "- Function should be relatively small\n",
    "- Use arguments for input and return for output\n",
    "    - Avoid writing to global variables\n",
    "- Change mutable objects only if a caller expects it"
   ]
  },
  {
   "cell_type": "markdown",
   "metadata": {
    "slideshow": {
     "slide_type": "slide"
    }
   },
   "source": [
    "## Modules\n",
    "\n",
    "- Module is `.py` file with Python defitions and statements\n",
    "- Program can access functionality of a module using `import` statement\n",
    "- Module is imported only once per interpreter session\n",
    "- Every module has its own namespace\n",
    "\n",
    "```\n",
    "import <module_name>\n",
    "<module_name>.<object_name>\n",
    "```\n",
    "\n",
    "```\n",
    "import <module_name> as <new_name>\n",
    "<new_name>.<object_name>\n",
    "```\n",
    "\n",
    "```\n",
    "from <module_name> import <object_name>\n",
    "<object_name>\n",
    "```"
   ]
  },
  {
   "cell_type": "markdown",
   "metadata": {
    "slideshow": {
     "slide_type": "slide"
    }
   },
   "source": [
    "## Module import example"
   ]
  },
  {
   "cell_type": "code",
   "execution_count": 62,
   "metadata": {
    "slideshow": {
     "slide_type": "fragment"
    }
   },
   "outputs": [],
   "source": [
    "import statistics # Import all objects (functions) from module 'statistics'\n",
    "from math import sqrt # Import only function 'sqrt' from module 'math'\n",
    "\n",
    "fib = [0, 1, 1, 2, 3, 5]"
   ]
  },
  {
   "cell_type": "code",
   "execution_count": 63,
   "metadata": {
    "slideshow": {
     "slide_type": "fragment"
    }
   },
   "outputs": [
    {
     "data": {
      "text/plain": [
       "2"
      ]
     },
     "execution_count": 63,
     "metadata": {},
     "output_type": "execute_result"
    }
   ],
   "source": [
    "statistics.mean(fib) # Mean"
   ]
  },
  {
   "cell_type": "code",
   "execution_count": 64,
   "metadata": {
    "slideshow": {
     "slide_type": "fragment"
    }
   },
   "outputs": [
    {
     "data": {
      "text/plain": [
       "1.5"
      ]
     },
     "execution_count": 64,
     "metadata": {},
     "output_type": "execute_result"
    }
   ],
   "source": [
    "statistics.median(fib) # Median"
   ]
  },
  {
   "cell_type": "code",
   "execution_count": 65,
   "metadata": {
    "slideshow": {
     "slide_type": "fragment"
    }
   },
   "outputs": [
    {
     "data": {
      "text/plain": [
       "5.0"
      ]
     },
     "execution_count": 65,
     "metadata": {},
     "output_type": "execute_result"
    }
   ],
   "source": [
    "sqrt(25) # Square root"
   ]
  },
  {
   "cell_type": "markdown",
   "metadata": {
    "slideshow": {
     "slide_type": "slide"
    }
   },
   "source": [
    "## Some useful built-in Python modules\n",
    "\n",
    "| Module       | Description                                   |\n",
    "|:-------------|:----------------------------------------------|\n",
    "| `datetime`   | Date and time types                           |\n",
    "| `math`       | Mathematical functions                        |\n",
    "| `random`     | Random numbers generation                     |\n",
    "| `statistics` | Statistical functions                         |\n",
    "| `os.path`    | Pathname manipulations                        |\n",
    "| `re`         | Regular expressions                           |\n",
    "| `pdb`        | Python Debugger                               |\n",
    "| `timeit`     | Measure execution time of small code snippets |\n",
    "| `csv`        | CSV file reading and writing                  |\n",
    "| `pickle`     | Python object serialization (backup)          |\n",
    "\n",
    "Extra: [Python documentation for the Python Standard Library](https://docs.python.org/3/library/index.html)"
   ]
  },
  {
   "cell_type": "markdown",
   "metadata": {
    "slideshow": {
     "slide_type": "slide"
    }
   },
   "source": [
    "## Next\n",
    "\n",
    "- Tutorial: Control flow and functions\n",
    "- Assignment 3: Due at 12:00 on Monday, 14th November (submission on Blackboard)\n",
    "- Next week: Data wrangling in Python"
   ]
  }
 ],
 "metadata": {
  "celltoolbar": "Slideshow",
  "kernelspec": {
   "display_name": "Python 3 (ipykernel)",
   "language": "python",
   "name": "python3"
  },
  "language_info": {
   "codemirror_mode": {
    "name": "ipython",
    "version": 3
   },
   "file_extension": ".py",
   "mimetype": "text/x-python",
   "name": "python",
   "nbconvert_exporter": "python",
   "pygments_lexer": "ipython3",
   "version": "3.10.6"
  }
 },
 "nbformat": 4,
 "nbformat_minor": 4
}
