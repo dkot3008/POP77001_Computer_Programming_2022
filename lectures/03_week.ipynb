{
 "cells": [
  {
   "cell_type": "code",
   "execution_count": 1,
   "id": "3831d00c",
   "metadata": {
    "slideshow": {
     "slide_type": "skip"
    }
   },
   "outputs": [],
   "source": [
    "options(jupyter.rich_display = FALSE)"
   ]
  },
  {
   "cell_type": "markdown",
   "id": "294494e4",
   "metadata": {
    "slideshow": {
     "slide_type": "slide"
    }
   },
   "source": [
    "## Week 3: Control Flow in R\n",
    "\n",
    "### POP77001 Computer Programming for Social Scientists\n",
    "\n",
    "### Tom Paskhalis\n",
    "\n",
    "##### 26 September 2022\n",
    "\n",
    "##### Module website: [tinyurl.com/POP77001](https://tinyurl.com/POP77001)"
   ]
  },
  {
   "cell_type": "markdown",
   "id": "b53c9fc9",
   "metadata": {
    "slideshow": {
     "slide_type": "slide"
    }
   },
   "source": [
    "## Overview\n",
    "\n",
    "- Straight-line and branching programs\n",
    "- Algorithms\n",
    "- Conditional statements\n",
    "- Loops and Iteration\n"
   ]
  },
  {
   "cell_type": "markdown",
   "id": "7f897836",
   "metadata": {
    "slideshow": {
     "slide_type": "slide"
    }
   },
   "source": [
    "## Algorithm Example\n",
    "\n",
    "<div style=\"text-align: center;\">\n",
    "    <img width=\"300\" height=\"300\" src=\"../imgs/penguin_origami.gif\">\n",
    "</div>\n",
    "\n",
    "Source: [Origami Club](https://en.origami-club.com/sea/enper-penguin/zu.html)"
   ]
  },
  {
   "cell_type": "markdown",
   "id": "3f6bc5e0",
   "metadata": {
    "slideshow": {
     "slide_type": "slide"
    }
   },
   "source": [
    "## Algorithm flowchart\n",
    "\n",
    "<div style=\"text-align: center;\">\n",
    "    <img width=\"300\" height=\"300\" src=\"../imgs/median_flowchart.png\">\n",
    "</div>"
   ]
  },
  {
   "cell_type": "markdown",
   "id": "99534db4",
   "metadata": {
    "slideshow": {
     "slide_type": "slide"
    }
   },
   "source": [
    "## Algorithm flowchart (R)\n",
    "\n",
    "<div style=\"text-align: center;\">\n",
    "    <img width=\"300\" height=\"300\" src=\"../imgs/median_r_flowchart.png\">\n",
    "</div>"
   ]
  },
  {
   "cell_type": "markdown",
   "id": "c80e365f",
   "metadata": {
    "slideshow": {
     "slide_type": "slide"
    }
   },
   "source": [
    "## Calculate median"
   ]
  },
  {
   "cell_type": "code",
   "execution_count": 2,
   "id": "942be148",
   "metadata": {
    "slideshow": {
     "slide_type": "fragment"
    }
   },
   "outputs": [
    {
     "data": {
      "text/plain": [
       "[1] 0 1 1 2"
      ]
     },
     "metadata": {},
     "output_type": "display_data"
    }
   ],
   "source": [
    "a <- c(1,0,2,1) # Input vector (1-dimensional array)\n",
    "a <- sort(a) # Sort vector\n",
    "a"
   ]
  },
  {
   "cell_type": "code",
   "execution_count": 3,
   "id": "8d3d4f8a",
   "metadata": {
    "slideshow": {
     "slide_type": "fragment"
    }
   },
   "outputs": [
    {
     "data": {
      "text/plain": [
       "[1] 4"
      ]
     },
     "metadata": {},
     "output_type": "display_data"
    }
   ],
   "source": [
    "n <- length(a) # Calculate length of vector 'a'\n",
    "n"
   ]
  },
  {
   "cell_type": "code",
   "execution_count": 4,
   "id": "12802282",
   "metadata": {
    "slideshow": {
     "slide_type": "fragment"
    }
   },
   "outputs": [
    {
     "data": {
      "text/plain": [
       "[1] 2"
      ]
     },
     "metadata": {},
     "output_type": "display_data"
    }
   ],
   "source": [
    "m <- (n + 1) %/% 2 # Calculate mid-point, %/% is operator for integer division \n",
    "m"
   ]
  },
  {
   "cell_type": "code",
   "execution_count": 5,
   "id": "387a3a4a",
   "metadata": {
    "slideshow": {
     "slide_type": "fragment"
    }
   },
   "outputs": [
    {
     "data": {
      "text/plain": [
       "[1] FALSE"
      ]
     },
     "metadata": {},
     "output_type": "display_data"
    }
   ],
   "source": [
    "n %% 2 == 1 # Check whether the number of elements is odd, %% (modulo) gives remainder of division"
   ]
  },
  {
   "cell_type": "code",
   "execution_count": 6,
   "id": "454e595d",
   "metadata": {
    "slideshow": {
     "slide_type": "fragment"
    }
   },
   "outputs": [
    {
     "data": {
      "text/plain": [
       "[1] 1"
      ]
     },
     "metadata": {},
     "output_type": "display_data"
    }
   ],
   "source": [
    "mean(a[m:(m+1)])"
   ]
  },
  {
   "cell_type": "markdown",
   "id": "5ae080c6",
   "metadata": {
    "slideshow": {
     "slide_type": "slide"
    }
   },
   "source": [
    "## Control flow in R\n",
    "\n",
    "- *Control flow* is the order in which statements are executed or evaluated\n",
    "- Main ways of control flow in R:\n",
    "    - *Branching* (conditional) statements (e.g. `if`)\n",
    "    - *Iteration* (*loops*) (e.g. `for`)\n",
    "    - *Function calls* (e.g. `length()`)\n",
    "    \n",
    "Extra: [R documentation on control flow](https://stat.ethz.ch/R-manual/R-devel/library/base/html/Control.html)"
   ]
  },
  {
   "cell_type": "markdown",
   "id": "3da8e012",
   "metadata": {
    "slideshow": {
     "slide_type": "slide"
    }
   },
   "source": [
    "## Branching programs\n",
    "\n",
    "<div style=\"text-align: center;\">\n",
    "    <img width=\"400\" height=\"400\" src=\"../imgs/branching_r_flowchart.png\">\n",
    "</div> "
   ]
  },
  {
   "cell_type": "markdown",
   "id": "e5129fdf",
   "metadata": {
    "slideshow": {
     "slide_type": "slide"
    }
   },
   "source": [
    "## Conditional statements\n",
    "\n",
    "<div style=\"text-align: center;\">\n",
    "    <img width=\"400\" height=\"400\" src=\"../imgs/branching_flowchart.png\">\n",
    "</div> "
   ]
  },
  {
   "cell_type": "markdown",
   "id": "562de612",
   "metadata": {
    "slideshow": {
     "slide_type": "slide"
    }
   },
   "source": [
    "## Conditional statements: `if`\n",
    "\n",
    "- `if` - defines condition under which some code is executed \n",
    "\n",
    "```\n",
    "if (<boolean_expression>) {\n",
    "  <some_code>\n",
    "}\n",
    "```"
   ]
  },
  {
   "cell_type": "code",
   "execution_count": 7,
   "id": "af71fe4f",
   "metadata": {
    "slideshow": {
     "slide_type": "fragment"
    }
   },
   "outputs": [
    {
     "data": {
      "text/plain": [
       "[1] 1"
      ]
     },
     "metadata": {},
     "output_type": "display_data"
    }
   ],
   "source": [
    "a <- c(1, 0, 2, 1, 100)\n",
    "a <- sort(a)\n",
    "n <- length(a)\n",
    "m <- (n + 1) %/% 2\n",
    "if (n %% 2 == 1) {\n",
    "  a[m]\n",
    "}"
   ]
  },
  {
   "cell_type": "markdown",
   "id": "fd25307a",
   "metadata": {
    "slideshow": {
     "slide_type": "slide"
    }
   },
   "source": [
    "## Conditional statements: `if - else`\n",
    "\n",
    "- `if - else` - defines both condition under which some code is executed and alternative code to execute\n",
    "\n",
    "```\n",
    "if (<boolean_expression>) {\n",
    "  <some_code>\n",
    "} else {\n",
    "  <some_other_code>\n",
    "}\n",
    "```"
   ]
  },
  {
   "cell_type": "code",
   "execution_count": 8,
   "id": "956af175",
   "metadata": {
    "slideshow": {
     "slide_type": "fragment"
    }
   },
   "outputs": [
    {
     "data": {
      "text/plain": [
       "[1] 1"
      ]
     },
     "metadata": {},
     "output_type": "display_data"
    }
   ],
   "source": [
    "a <- c(1, 0, 2, 1)\n",
    "a <- sort(a)\n",
    "n <- length(a)\n",
    "m <- (n + 1) %/% 2\n",
    "if (n %% 2 == 1) {\n",
    "  a[m]\n",
    "} else {\n",
    "  mean(a[m:(m+1)])\n",
    "}"
   ]
  },
  {
   "cell_type": "markdown",
   "id": "20f7ecc7",
   "metadata": {
    "slideshow": {
     "slide_type": "slide"
    }
   },
   "source": [
    "## Conditional statements: `if - else if - else`\n",
    "\n",
    "- `if - else if - ... - else` - defines both condition under which some code is executed and several alternatives\n",
    "\n",
    "```\n",
    "if (<boolean_expression>) {\n",
    "  <some_code>\n",
    "} else if (<boolean_expression>) {\n",
    "  <some_other_code>\n",
    "} else if (<boolean_expression>) {\n",
    "...\n",
    "...\n",
    "} else {\n",
    "  <some_more_code>\n",
    "}\n",
    "```"
   ]
  },
  {
   "cell_type": "markdown",
   "id": "eba77ce1",
   "metadata": {
    "slideshow": {
     "slide_type": "slide"
    }
   },
   "source": [
    "## Example of longer conditional statement"
   ]
  },
  {
   "cell_type": "code",
   "execution_count": 9,
   "id": "a580e0ec",
   "metadata": {
    "slideshow": {
     "slide_type": "fragment"
    }
   },
   "outputs": [
    {
     "name": "stdout",
     "output_type": "stream",
     "text": [
      "[1] \"Positive\"\n"
     ]
    }
   ],
   "source": [
    "x <- 42\n",
    "if (x > 0) {\n",
    "  print(\"Positive\")\n",
    "} else if (x < 0) {\n",
    "  print(\"Negative\")\n",
    "} else {\n",
    "  print(\"Zero\")\n",
    "}"
   ]
  },
  {
   "cell_type": "markdown",
   "id": "3ac9087b",
   "metadata": {
    "slideshow": {
     "slide_type": "slide"
    }
   },
   "source": [
    "## Optimising conditional statements\n",
    "\n",
    "- Parts of conditional statement are evaluated sequentially, so it makes sense to put the most likely condition as the first one"
   ]
  },
  {
   "cell_type": "code",
   "execution_count": 10,
   "id": "7a2a116b",
   "metadata": {
    "slideshow": {
     "slide_type": "fragment"
    }
   },
   "outputs": [
    {
     "name": "stdout",
     "output_type": "stream",
     "text": [
      "Please, enter a number:43\n",
      "[1] \"Odd\"\n"
     ]
    }
   ],
   "source": [
    "# Ask for user input and cast as double\n",
    "num <- as.double(readline(\"Please, enter a number:\"))\n",
    "if (num %% 2 == 0) {\n",
    "  print(\"Even\")\n",
    "} else if (num %% 2 == 1) {\n",
    "  print(\"Odd\")\n",
    "} else {\n",
    "  print(\"This is a real number\")\n",
    "}"
   ]
  },
  {
   "cell_type": "markdown",
   "id": "be3186b7",
   "metadata": {
    "slideshow": {
     "slide_type": "slide"
    }
   },
   "source": [
    "## Nesting conditional statements\n",
    "\n",
    "- Conditional statements can be nested within each other\n",
    "- But consider code legibility 📜, modularity ⚙️ and speed 🏎️ "
   ]
  },
  {
   "cell_type": "code",
   "execution_count": 11,
   "id": "44b10ab4",
   "metadata": {
    "slideshow": {
     "slide_type": "fragment"
    }
   },
   "outputs": [
    {
     "name": "stdout",
     "output_type": "stream",
     "text": [
      "Please, enter a number:-43\n",
      "[1] \"Negative odd\"\n"
     ]
    }
   ],
   "source": [
    "num <- as.integer(readline(\"Please, enter a number:\")) # Ask for user input and cast as integer\n",
    "if (num > 0) {\n",
    "  if (num %% 2 == 0) {\n",
    "    print(\"Positive even\")\n",
    "  } else {\n",
    "    print(\"Positive odd\")  \n",
    "  }    \n",
    "} else if (num < 0) {\n",
    "  if (num %% 2 == 0) {\n",
    "    print(\"Negative even\") # Notice that odd/even check appears twice    \n",
    "  } else {\n",
    "    print(\"Negative odd\") # Consider abstracting this as a function \n",
    "  }\n",
    "} else {\n",
    "  print(\"Zero\")  \n",
    "}"
   ]
  },
  {
   "cell_type": "markdown",
   "id": "171479a1",
   "metadata": {
    "slideshow": {
     "slide_type": "slide"
    }
   },
   "source": [
    "## `ifelse()` function\n",
    "\n",
    "- R also provides a vectorized version of `if - else` construct\n",
    "- It takes a vector as an input and returns another vector as an output\n",
    "\n",
    "```\n",
    "ifelse(<boolean_expression>, <if_true>, <if_false>)\n",
    "```"
   ]
  },
  {
   "cell_type": "code",
   "execution_count": 12,
   "id": "4505de17",
   "metadata": {
    "slideshow": {
     "slide_type": "fragment"
    }
   },
   "outputs": [
    {
     "data": {
      "text/plain": [
       " [1]  1  2  3  4  5  6  7  8  9 10"
      ]
     },
     "metadata": {},
     "output_type": "display_data"
    }
   ],
   "source": [
    "num <- 1:10\n",
    "num"
   ]
  },
  {
   "cell_type": "code",
   "execution_count": 13,
   "id": "0075f0fa",
   "metadata": {
    "slideshow": {
     "slide_type": "fragment"
    }
   },
   "outputs": [
    {
     "data": {
      "text/plain": [
       " [1] \"odd\"  \"even\" \"odd\"  \"even\" \"odd\"  \"even\" \"odd\"  \"even\" \"odd\"  \"even\""
      ]
     },
     "metadata": {},
     "output_type": "display_data"
    }
   ],
   "source": [
    "ifelse(num %% 2 == 0, \"even\", \"odd\")"
   ]
  },
  {
   "cell_type": "markdown",
   "id": "adc3a6e5",
   "metadata": {
    "slideshow": {
     "slide_type": "slide"
    }
   },
   "source": [
    "## Iteration (looping)\n",
    "\n",
    "<div style=\"text-align: center;\">\n",
    "    <img width=\"300\" height=\"300\" src=\"../imgs/iteration_flowchart.png\">\n",
    "</div> "
   ]
  },
  {
   "cell_type": "markdown",
   "id": "0fe46218",
   "metadata": {
    "slideshow": {
     "slide_type": "slide"
    }
   },
   "source": [
    "## Iteration: `while`\n",
    "\n",
    "- `while` - defines a condition under which some code (loop body) is executed repeatedly\n",
    "\n",
    "```\n",
    "while (<boolean_expression>) {\n",
    "  <some_code>\n",
    "}\n",
    "```"
   ]
  },
  {
   "cell_type": "code",
   "execution_count": 14,
   "id": "58eb311f",
   "metadata": {
    "slideshow": {
     "slide_type": "fragment"
    }
   },
   "outputs": [
    {
     "data": {
      "text/plain": [
       "[1] 120"
      ]
     },
     "metadata": {},
     "output_type": "display_data"
    }
   ],
   "source": [
    "# Calculate a factorial with decrementing function\n",
    "# E.g. 5! = 1 * 2 * 3 * 4 * 5 = 120\n",
    "x <- 5\n",
    "factorial <- 1\n",
    "while (x > 0) {\n",
    "  factorial <- factorial * x\n",
    "  x <- x - 1\n",
    "}\n",
    "factorial"
   ]
  },
  {
   "cell_type": "markdown",
   "id": "27c13cb6",
   "metadata": {
    "slideshow": {
     "slide_type": "slide"
    }
   },
   "source": [
    "## Iteration: `for`\n",
    "\n",
    "- `for` - defines elements and sequence over which some code is executed iteratively\n",
    "\n",
    "```\n",
    "for (<element> in <sequence>) {\n",
    "  <some_code>\n",
    "}\n",
    "```"
   ]
  },
  {
   "cell_type": "code",
   "execution_count": 15,
   "id": "0b2c168b",
   "metadata": {
    "slideshow": {
     "slide_type": "fragment"
    }
   },
   "outputs": [
    {
     "name": "stdout",
     "output_type": "stream",
     "text": [
      "t! e! s! t! "
     ]
    }
   ],
   "source": [
    "test <- c(\"t\", \"e\", \"s\", \"t\")\n",
    "for (i in test) {\n",
    "  # cat() function concatenates and prints objects' representations\n",
    "  cat(paste0(i, \"!\"), \"\")\n",
    "}"
   ]
  },
  {
   "cell_type": "markdown",
   "id": "bf29dd99",
   "metadata": {
    "slideshow": {
     "slide_type": "slide"
    }
   },
   "source": [
    "## Iteration with conditional statements"
   ]
  },
  {
   "cell_type": "code",
   "execution_count": 16,
   "id": "7664d3fb",
   "metadata": {
    "slideshow": {
     "slide_type": "fragment"
    }
   },
   "outputs": [
    {
     "data": {
      "text/plain": [
       "[1] 42"
      ]
     },
     "metadata": {},
     "output_type": "display_data"
    }
   ],
   "source": [
    "# Find maximum value in a vector with exhaustive enumeration\n",
    "v <- c(3, 27, 9, 42, 10, 2, 5)\n",
    "max_val <- NA\n",
    "for (i in v) {\n",
    "  if (is.na(max_val) | i > max_val) {\n",
    "    max_val <- i\n",
    "  }\n",
    "}\n",
    "max_val"
   ]
  },
  {
   "cell_type": "markdown",
   "id": "5d70a842",
   "metadata": {
    "slideshow": {
     "slide_type": "slide"
    }
   },
   "source": [
    "## Generating sequences for iteration\n",
    "\n",
    "- `seq()` function that we encountered in subsetting can be used in looping\n",
    "- As well as its cousins: `seq_len()` and `seq_along()`\n",
    "\n",
    "```\n",
    "seq(<from>, <to>, <by>)\n",
    "seq_len(<length>)\n",
    "seq_along(<object>)\n",
    "```"
   ]
  },
  {
   "cell_type": "markdown",
   "id": "87f0830d",
   "metadata": {
    "slideshow": {
     "slide_type": "slide"
    }
   },
   "source": [
    "## Generating sequences for iteration examples"
   ]
  },
  {
   "cell_type": "code",
   "execution_count": 17,
   "id": "da14630a",
   "metadata": {
    "slideshow": {
     "slide_type": "fragment"
    }
   },
   "outputs": [
    {
     "data": {
      "text/plain": [
       " [1]  1  2  3  4  5  6  7  8  9 10 11 12 13 14 15 16 17 18 19 20"
      ]
     },
     "metadata": {},
     "output_type": "display_data"
    }
   ],
   "source": [
    "# If by argument is omitted, it defaults to 1\n",
    "s <- seq(1, 20)\n",
    "s"
   ]
  },
  {
   "cell_type": "code",
   "execution_count": 18,
   "id": "4c1f90d2",
   "metadata": {
    "slideshow": {
     "slide_type": "fragment"
    }
   },
   "outputs": [
    {
     "data": {
      "text/plain": [
       " [1]  1  2  3  4  5  6  7  8  9 10 11 12 13 14 15 16 17 18 19 20"
      ]
     },
     "metadata": {},
     "output_type": "display_data"
    }
   ],
   "source": [
    "# seq_len() is equivalent to seq(1, length(<object>))\n",
    "seq_len(length(s))"
   ]
  },
  {
   "cell_type": "code",
   "execution_count": 19,
   "id": "5a75e069",
   "metadata": {
    "slideshow": {
     "slide_type": "fragment"
    }
   },
   "outputs": [
    {
     "data": {
      "text/plain": [
       " [1]  1  2  3  4  5  6  7  8  9 10 11 12 13 14 15 16 17 18 19 20"
      ]
     },
     "metadata": {},
     "output_type": "display_data"
    }
   ],
   "source": [
    "seq_along(s)"
   ]
  },
  {
   "cell_type": "code",
   "execution_count": 20,
   "id": "16a04e0d",
   "metadata": {
    "slideshow": {
     "slide_type": "fragment"
    }
   },
   "outputs": [
    {
     "data": {
      "text/plain": [
       " [1]  1  2  3  4  5  6  7  8  9 10 11 12 13 14 15 16 17 18 19 20"
      ]
     },
     "metadata": {},
     "output_type": "display_data"
    }
   ],
   "source": [
    "# The sequence that you are supplying to seq_along() doesn't have to be numeric\n",
    "seq_along(letters[1:20])"
   ]
  },
  {
   "cell_type": "markdown",
   "id": "d5207f03",
   "metadata": {
    "slideshow": {
     "slide_type": "slide"
    }
   },
   "source": [
    "## Generating sequences for iteration examples continued"
   ]
  },
  {
   "cell_type": "code",
   "execution_count": 21,
   "id": "795b1b15",
   "metadata": {
    "slideshow": {
     "slide_type": "fragment"
    }
   },
   "outputs": [],
   "source": [
    "# vector() function is useful for initiliazing empty vectors of known type and length\n",
    "s2 <- vector(mode = \"double\", length = length(s))\n",
    "for (i in seq_len(length(s))) {\n",
    "    s2[i] <- s[i] * 2\n",
    "}"
   ]
  },
  {
   "cell_type": "code",
   "execution_count": 22,
   "id": "0aa715c0",
   "metadata": {
    "slideshow": {
     "slide_type": "fragment"
    }
   },
   "outputs": [
    {
     "data": {
      "text/plain": [
       " [1]  2  4  6  8 10 12 14 16 18 20 22 24 26 28 30 32 34 36 38 40"
      ]
     },
     "metadata": {},
     "output_type": "display_data"
    }
   ],
   "source": [
    "s2"
   ]
  },
  {
   "cell_type": "code",
   "execution_count": 23,
   "id": "fc6b2f71",
   "metadata": {
    "slideshow": {
     "slide_type": "fragment"
    }
   },
   "outputs": [],
   "source": [
    "s3 <- vector(mode = \"double\", length = length(s))\n",
    "for (i in seq_along(s)) {\n",
    "    s3[i] <- s[i] * 3\n",
    "}"
   ]
  },
  {
   "cell_type": "code",
   "execution_count": 24,
   "id": "3692ffca",
   "metadata": {
    "slideshow": {
     "slide_type": "fragment"
    }
   },
   "outputs": [
    {
     "data": {
      "text/plain": [
       " [1]  3  6  9 12 15 18 21 24 27 30 33 36 39 42 45 48 51 54 57 60"
      ]
     },
     "metadata": {},
     "output_type": "display_data"
    }
   ],
   "source": [
    "s3"
   ]
  },
  {
   "cell_type": "markdown",
   "id": "3d3eead3",
   "metadata": {
    "slideshow": {
     "slide_type": "slide"
    }
   },
   "source": [
    "## Iteration: `break` and `next`\n",
    "\n",
    "- `break` - terminates the loop in which it is contained\n",
    "- `next` - exits the iteration of a loop in which it is contained"
   ]
  },
  {
   "cell_type": "code",
   "execution_count": 25,
   "id": "43999e2c",
   "metadata": {
    "slideshow": {
     "slide_type": "fragment"
    }
   },
   "outputs": [
    {
     "name": "stdout",
     "output_type": "stream",
     "text": [
      "[1] 1\n"
     ]
    }
   ],
   "source": [
    "for (i in seq(1,6)) {\n",
    "  if (i %% 2 == 0) {\n",
    "    break\n",
    "  }\n",
    "  print(i)\n",
    "}"
   ]
  },
  {
   "cell_type": "code",
   "execution_count": 26,
   "id": "57214f18",
   "metadata": {
    "slideshow": {
     "slide_type": "fragment"
    }
   },
   "outputs": [
    {
     "name": "stdout",
     "output_type": "stream",
     "text": [
      "[1] 1\n",
      "[1] 3\n",
      "[1] 5\n"
     ]
    }
   ],
   "source": [
    "for (i in seq(1,6)) {\n",
    "  if (i %% 2 == 0) {\n",
    "    next\n",
    "  }\n",
    "  print(i)\n",
    "}"
   ]
  },
  {
   "cell_type": "markdown",
   "id": "a219ae9c",
   "metadata": {
    "slideshow": {
     "slide_type": "slide"
    }
   },
   "source": [
    "## Infinite loops\n",
    "\n",
    "- Loops that have no explicit limits for the number of iterations are called *infinite*\n",
    "- They have to be terminated with a `break` statement (or Ctrl/Cmd-C in interactive session)\n",
    "- Such loops can be unintentional (bug) or desired (e.g. waiting for user's input, some event)"
   ]
  },
  {
   "cell_type": "code",
   "execution_count": 27,
   "id": "91db0743",
   "metadata": {
    "slideshow": {
     "slide_type": "fragment"
    }
   },
   "outputs": [],
   "source": [
    "i <- 1\n",
    "while (TRUE) {\n",
    "  i <- i + 1\n",
    "  if (i > 10) {\n",
    "    break\n",
    "  }\n",
    "}"
   ]
  },
  {
   "cell_type": "code",
   "execution_count": 28,
   "id": "576ec1eb",
   "metadata": {
    "slideshow": {
     "slide_type": "fragment"
    }
   },
   "outputs": [
    {
     "data": {
      "text/plain": [
       "[1] 11"
      ]
     },
     "metadata": {},
     "output_type": "display_data"
    }
   ],
   "source": [
    "i"
   ]
  },
  {
   "cell_type": "markdown",
   "id": "aa84dc35",
   "metadata": {
    "slideshow": {
     "slide_type": "slide"
    }
   },
   "source": [
    "## Iteration: `repeat`\n",
    "\n",
    "- `repeat` - defines code which is executed iteratively until the loop is explicitly terminated\n",
    "- Is equivalent to `while (TRUE)`\n",
    "\n",
    "```\n",
    "repeat {\n",
    "  <some_code>\n",
    "}\n",
    "```"
   ]
  },
  {
   "cell_type": "code",
   "execution_count": 29,
   "id": "cb41b1a3",
   "metadata": {
    "slideshow": {
     "slide_type": "fragment"
    }
   },
   "outputs": [],
   "source": [
    "i <- 1\n",
    "repeat {\n",
    "  i <- i + 1\n",
    "  if (i > 10) {\n",
    "    break\n",
    "  }\n",
    "}"
   ]
  },
  {
   "cell_type": "code",
   "execution_count": 30,
   "id": "a6dad04a",
   "metadata": {
    "slideshow": {
     "slide_type": "fragment"
    }
   },
   "outputs": [
    {
     "data": {
      "text/plain": [
       "[1] 11"
      ]
     },
     "metadata": {},
     "output_type": "display_data"
    }
   ],
   "source": [
    "i"
   ]
  },
  {
   "cell_type": "markdown",
   "id": "14c67bcc",
   "metadata": {
    "slideshow": {
     "slide_type": "slide"
    }
   },
   "source": [
    "## Infinite loop\n",
    "\n",
    "<div style=\"text-align: center;\">\n",
    "    <img width=\"500\" height=\"500\" src=\"../imgs/infinite_loop_r.png\">\n",
    "</div> \n"
   ]
  },
  {
   "cell_type": "markdown",
   "id": "166ce33c",
   "metadata": {
    "slideshow": {
     "slide_type": "slide"
    }
   },
   "source": [
    "## Next\n",
    "\n",
    "- Tutorial: Implementing conditional statements and loops\n",
    "- Assignment 1: Due at 23:59 on Friday, 30th September (submission on Blackboard)\n",
    "- Next week: Functions in R"
   ]
  }
 ],
 "metadata": {
  "celltoolbar": "Slideshow",
  "kernelspec": {
   "display_name": "R",
   "language": "R",
   "name": "ir"
  },
  "language_info": {
   "codemirror_mode": "r",
   "file_extension": ".r",
   "mimetype": "text/x-r-source",
   "name": "R",
   "pygments_lexer": "r",
   "version": "4.1.2"
  }
 },
 "nbformat": 4,
 "nbformat_minor": 5
}
