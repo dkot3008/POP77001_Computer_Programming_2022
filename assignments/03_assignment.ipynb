{
 "cells": [
  {
   "cell_type": "markdown",
   "id": "c8e1ec2f",
   "metadata": {
    "slideshow": {
     "slide_type": "slide"
    }
   },
   "source": [
    "# Assignment 3: Python Fundamentals and Control Flow\n",
    "\n",
    "## POP77001 Computer Programming for Social Scientists"
   ]
  },
  {
   "cell_type": "markdown",
   "id": "dc7bfa76",
   "metadata": {
    "slideshow": {
     "slide_type": "slide"
    }
   },
   "source": [
    "## Before submission\n",
    "\n",
    "- Do not use external libraries unless explicitly specified.\n",
    "- Make sure that you can run all cells without errors.\n",
    "- You can do it by clicking `Kernel`, `Restart & Run All` in the menu above.\n",
    "- Make sure that you save the output by pressing Command+S / CTRL+S.\n",
    "- Rename the file from `03_assignment.ipynb` to `03_assignment_studentnumber_firstname_lastname.ipynb`.\n",
    "- Use Firefox browser for submitting your Jupyter notebook on Blackboard."
   ]
  },
  {
   "cell_type": "markdown",
   "id": "7670f6e4",
   "metadata": {
    "slideshow": {
     "slide_type": "slide"
    }
   },
   "source": [
    "## Exercise 1: Slicing\n",
    "\n",
    "Using only slicing operations create words 'mile', 'one', 'ton' and 'not' out of the word 'milestone'. Finally, reverse the order of letters in the word (spell it backwards). Print the results."
   ]
  },
  {
   "cell_type": "code",
   "execution_count": 1,
   "id": "02e71f56",
   "metadata": {
    "slideshow": {
     "slide_type": "fragment"
    }
   },
   "outputs": [],
   "source": [
    "# Exercise 1:\n",
    "\n",
    "milestone = 'milestone'\n",
    "\n",
    "# Your code goes here"
   ]
  },
  {
   "cell_type": "markdown",
   "id": "ad4bdae8",
   "metadata": {
    "slideshow": {
     "slide_type": "slide"
    }
   },
   "source": [
    "## Exercise 2: List comprehension\n",
    "\n",
    "Using list comprehension modify the list below in such a way that every string with a book title, which has 3 or more words in it, is replaced by an integer representing the number of words (i.e. 3 for *War and Peace*)."
   ]
  },
  {
   "cell_type": "code",
   "execution_count": 2,
   "id": "5ae6e422",
   "metadata": {
    "slideshow": {
     "slide_type": "fragment"
    }
   },
   "outputs": [],
   "source": [
    "# Exercise 2:\n",
    "\n",
    "books = [\n",
    "    'Dubliners',\n",
    "    'Ulysses',\n",
    "    'War and Peace',\n",
    "    'Normal People',\n",
    "    'Crime and Punishment',\n",
    "    'The Picture of Dorian Gray'\n",
    "]\n",
    "\n",
    "# Your code goes here"
   ]
  },
  {
   "cell_type": "markdown",
   "id": "eb941025",
   "metadata": {
    "slideshow": {
     "slide_type": "slide"
    }
   },
   "source": [
    "## Exercise 3: Dictionary comprehension and looping\n",
    "\n",
    "Write a dictionary comprehension where each letter of the English alphabet is a key and a value is an empty list. Split the quote below into individual words. Write a loop that populates the previously created dictionary, where each word is assigned to a key according to its first letter (e.g. 'apple' to 'a'). Keep only unique words.\n",
    "\n",
    "Tip: You can use `ascii_lowercase` for the letters."
   ]
  },
  {
   "cell_type": "code",
   "execution_count": 3,
   "id": "d056ed73",
   "metadata": {
    "slideshow": {
     "slide_type": "fragment"
    }
   },
   "outputs": [],
   "source": [
    "# Exercise 3:\n",
    "\n",
    "quote = '''\n",
    "A programmer is ideally an essayist who works with traditional aesthetic and \n",
    "literary forms as well as mathematical concepts, to communicate the way that \n",
    "an algorithm works and to convince a reader that the results will be correct.\n",
    "'''\n",
    "\n",
    "# Your code goes here"
   ]
  },
  {
   "cell_type": "markdown",
   "id": "0a9e1d49",
   "metadata": {
    "slideshow": {
     "slide_type": "slide"
    }
   },
   "source": [
    "## Exercise 4: Code modularity\n",
    "\n",
    "[Euclidean distance](https://en.wikipedia.org/wiki/Euclidean_distance) between two points gives the length of a line segment between them (as the crow flies distance). It is a very versatile metric, which can be frequently encountered in statistical applications (e.g. matching) and text analysis (document similarity).\n",
    "\n",
    "Below is a snippet of code that implements it for two dimensions. How can its modularity be improved? Change the code to provide a more general solution. Extend it to 3 and further (N) dimensions.\n",
    "\n",
    "Function specification:\n",
    "\n",
    "Function takes 2 arguments:\n",
    "- `p` - sequence of first point's coordinates (in 2/3/n dimensions)\n",
    "- `q` - sequence of second point's coordinates (in 2/3/n dimensions)\n",
    "\n",
    "Function returns 1 object:\n",
    "- `dist` - floating-point value representing the Euclidean distance between the input points\n",
    "\n",
    "Example input → output:\n",
    "- $[5, 1, 3, 12, 7]$ and $[10, 8, 3, 9, 11]$ → $9.9499$\n",
    "\n",
    "External libraries:\n",
    "- None"
   ]
  },
  {
   "cell_type": "code",
   "execution_count": 4,
   "id": "66f3fa84",
   "metadata": {
    "slideshow": {
     "slide_type": "fragment"
    }
   },
   "outputs": [
    {
     "data": {
      "text/plain": [
       "4.123105625617661"
      ]
     },
     "execution_count": 4,
     "metadata": {},
     "output_type": "execute_result"
    }
   ],
   "source": [
    "# Exercise 4:\n",
    "\n",
    "# See code below, modify as necessary\n",
    "\n",
    "p = (3, 1)\n",
    "q = (4, 5)\n",
    "\n",
    "x_dist = q[0] - p[0]\n",
    "y_dist = q[1] - p[1]\n",
    "dist = (x_dist**2 + y_dist**2)**(0.5)\n",
    "dist"
   ]
  },
  {
   "cell_type": "markdown",
   "id": "d1dc4832",
   "metadata": {
    "slideshow": {
     "slide_type": "slide"
    }
   },
   "source": [
    "## Exercise 5: Palindrome problem\n",
    "\n",
    "[Palindrome](https://en.wikipedia.org/wiki/Palindrome) is a word, phrase or number that reads the same way forward and backward (e.g. madam, 2021-12-02). Briefly describe the intuition about how to implement it efficiently. Write a function to check whether a string is a palindrome.\n",
    "\n",
    "Function specification:\n",
    "\n",
    "Function takes 1 argument:\n",
    "- `s` - string that is to be tested\n",
    "\n",
    "Function returns 1 object:\n",
    "- `True` or `False` - Boolean (logical) value that equals to True if the string is a palindrome and False otherwise.\n",
    "\n",
    "Example input → output:\n",
    "- `no lemon, no melon` → `True`\n",
    "\n",
    "External libraries:\n",
    "- None  "
   ]
  },
  {
   "cell_type": "code",
   "execution_count": 5,
   "id": "353c25a9",
   "metadata": {
    "slideshow": {
     "slide_type": "fragment"
    }
   },
   "outputs": [],
   "source": [
    "# Exercise 5:\n",
    "\n",
    "# Your text and code go here"
   ]
  }
 ],
 "metadata": {
  "celltoolbar": "Slideshow",
  "kernelspec": {
   "display_name": "Python 3 (ipykernel)",
   "language": "python",
   "name": "python3"
  },
  "language_info": {
   "codemirror_mode": {
    "name": "ipython",
    "version": 3
   },
   "file_extension": ".py",
   "mimetype": "text/x-python",
   "name": "python",
   "nbconvert_exporter": "python",
   "pygments_lexer": "ipython3",
   "version": "3.10.6"
  }
 },
 "nbformat": 4,
 "nbformat_minor": 5
}
