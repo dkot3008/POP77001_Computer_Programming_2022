{
 "cells": [
  {
   "cell_type": "code",
   "execution_count": 1,
   "id": "0f90c9f4",
   "metadata": {
    "slideshow": {
     "slide_type": "skip"
    }
   },
   "outputs": [],
   "source": [
    "options(jupyter.rich_display = FALSE)"
   ]
  },
  {
   "cell_type": "markdown",
   "id": "31d2cf7f",
   "metadata": {
    "slideshow": {
     "slide_type": "slide"
    }
   },
   "source": [
    "# Assignment 2: Functions and Data Wrangling\n",
    "\n",
    "## POP77001 Computer Programming for Social Scientists"
   ]
  },
  {
   "cell_type": "markdown",
   "id": "8c6e5f0b",
   "metadata": {
    "slideshow": {
     "slide_type": "slide"
    }
   },
   "source": [
    "## Before submission\n",
    "\n",
    "- Make sure that you can run all cells without errors\n",
    "- You can do it by clicking `Kernel`, `Restart & Run All` in the menu above\n",
    "- Make sure that you save the output by pressing Command+S / CTRL+S\n",
    "- Rename the file from `02_assignment.ipynb` to `02_assignment_studentnumber_firstname_lastname.ipynb`\n",
    "- Use Firefox browser for submitting your Jupyter notebook on Blackboard"
   ]
  },
  {
   "cell_type": "markdown",
   "id": "5aee56c4",
   "metadata": {
    "slideshow": {
     "slide_type": "slide"
    }
   },
   "source": [
    "## Exercise 1: Formalising Expectations\n",
    "\n",
    "See the function for parsing user's age from their input below. How can a call to this function produce invalid output? What are your expectations about the input? Re-write the function below to check user's input and handle situations when a user provides incorrect values."
   ]
  },
  {
   "cell_type": "code",
   "execution_count": 2,
   "id": "edcd0e3f",
   "metadata": {
    "slideshow": {
     "slide_type": "fragment"
    }
   },
   "outputs": [],
   "source": [
    "# Get user's age\n",
    "    \n",
    "# Takes user's year of birth as an input\n",
    "# Returns age in years as an integer\n",
    "get_age <- function() {\n",
    "  yob <- readline(\"Please enter your year of birth: \")\n",
    "  age <- 2022 - as.numeric(yob)\n",
    "  return(age)\n",
    "}"
   ]
  },
  {
   "cell_type": "code",
   "execution_count": 3,
   "id": "f3752a5b",
   "metadata": {
    "slideshow": {
     "slide_type": "fragment"
    }
   },
   "outputs": [],
   "source": [
    "# Exercise 1:\n",
    "\n",
    "# Your code goes here"
   ]
  },
  {
   "cell_type": "markdown",
   "id": "ebf488b3",
   "metadata": {
    "slideshow": {
     "slide_type": "slide"
    }
   },
   "source": [
    "## Exercise 2: Fibonacci sequence\n",
    "\n",
    "[Fibonacci sequence](https://en.wikipedia.org/wiki/Fibonacci_number) is an integer sequence that frequently appears in mathematics and is often associated with the [golden ratio](https://en.wikipedia.org/wiki/Golden_ratio).\n",
    "\n",
    "- Fibonacci sequence starts with the first element being equal to 0 and the second element being equal to 1.\n",
    "- All subsequent elements are the sums of the preceeding two elements.\n",
    "- More formally: $F_0 = 0, F_1 = 1, F_n = F_{n-1} + F_{n-2}, n \\gt 1$\n",
    "- The beginning of the sequence then looks like this: [0, 1, 1, 2, 3, 5, 8, ...]\n",
    "\n",
    "Implement a function that takes a vector of integers as an input and returns a vector of numbers from Fibonacci sequence, whose indices correspond to the integers from the input vector.\n",
    "\n",
    "Test the implemented function on the following inputs:\n",
    "- `10`\n",
    "- `c(1, 2, 3, 4, 5)`\n",
    "- `c(3, 9, 12)`\n",
    "\n",
    "Function specification:\n",
    "\n",
    "Function takes 1 argument:\n",
    "- `num_vec` - vector of whole numbers\n",
    "\n",
    "Function returns 1 object:\n",
    "- `fib` - vector of numbers from Fibonacci sequence corresponding to indices from the input vector\n",
    "\n",
    "Example input → output:\n",
    "- $[1, 3, 6]$ → $[0, 1, 5]$ "
   ]
  },
  {
   "cell_type": "code",
   "execution_count": 4,
   "id": "31eabd68",
   "metadata": {
    "slideshow": {
     "slide_type": "fragment"
    }
   },
   "outputs": [],
   "source": [
    "# Exercise 2:\n",
    "\n",
    "# Your code goes here"
   ]
  },
  {
   "cell_type": "markdown",
   "id": "643f0189",
   "metadata": {
    "slideshow": {
     "slide_type": "slide"
    }
   },
   "source": [
    "## Exercise 3: Calculating t-tests\n",
    "\n",
    "[Student's t-test](https://en.wikipedia.org/wiki/Student's_t-test) (developed by [William Gosset](https://en.wikipedia.org/wiki/William_Sealy_Gosset) when working at the Guinness Brewery) is a classical tool for testing differences in means between groups when samples are small.\n",
    "\n",
    "Assume that you drew a random sample of $200$ individuals and ran $1,000$ experiments on them (an experiment does not need to mean something big, think, different shapes of some button on a website or Guinness served at slightly different temperatures).\n",
    "\n",
    "Implement a function that takes a matrix of experimental results and a vector with experimental/control-group assignment and returns a vector of calculated t-statistics for each of the experiments. Internally, you can use built-in `t.test()` function in R. See simulated input data below.\n",
    "\n",
    "Function specification:\n",
    "\n",
    "Function takes 2 arguments:\n",
    "- `mat` - matrix of experimental results (rows - individuals, columns - experiments)\n",
    "- `grp` - vector of experimental/control-group assignment \n",
    "\n",
    "Function returns 1 object:\n",
    "- `tstats` - vector of calculated t-statistics for each of the experiments\n",
    " "
   ]
  },
  {
   "cell_type": "code",
   "execution_count": 5,
   "id": "7bdfbb49",
   "metadata": {
    "slideshow": {
     "slide_type": "fragment"
    }
   },
   "outputs": [],
   "source": [
    "set.seed(2021)\n",
    "n <- 200\n",
    "m <- 1000\n",
    "mat <- matrix(rnorm(m * n, mean = 20, sd = 3), nrow = 200)\n",
    "# For simplicity, let's assume that assignment to control and experimental groups is always the same\n",
    "grp <- rep(0:1, times = 100)"
   ]
  },
  {
   "cell_type": "code",
   "execution_count": 6,
   "id": "fb1cacd2",
   "metadata": {
    "slideshow": {
     "slide_type": "fragment"
    }
   },
   "outputs": [],
   "source": [
    "# Exercise 3:\n",
    "\n",
    "# Your code goes here"
   ]
  },
  {
   "cell_type": "markdown",
   "id": "d55ad399",
   "metadata": {
    "slideshow": {
     "slide_type": "slide"
    }
   },
   "source": [
    "## Exercise 4: Manipulating data frames\n",
    "\n",
    "List of data frames is a common output of some data collection tools. Find below a list of 10 data frames. Append them together by row. Keep only unique rows."
   ]
  },
  {
   "cell_type": "code",
   "execution_count": 7,
   "id": "43c5c875",
   "metadata": {
    "slideshow": {
     "slide_type": "fragment"
    }
   },
   "outputs": [],
   "source": [
    "set.seed(2022)\n",
    "dfs <- lapply(1:10, function(n) data.frame(x = letters[sample(1:26,20,TRUE)], y = sample(1:26,20,TRUE)))"
   ]
  },
  {
   "cell_type": "code",
   "execution_count": 8,
   "id": "22e51dcb",
   "metadata": {
    "slideshow": {
     "slide_type": "fragment"
    }
   },
   "outputs": [],
   "source": [
    "# Exercise 4:\n",
    "\n",
    "# Your code goes here"
   ]
  },
  {
   "cell_type": "markdown",
   "id": "0a1b99aa",
   "metadata": {
    "slideshow": {
     "slide_type": "slide"
    }
   },
   "source": [
    "## Exercise 5: Pivoting tables\n",
    "\n",
    "Let's use [Kaggle](https://www.kaggle.com) [2021 Machine Learning and Data Science Survey](https://www.kaggle.com/c/kaggle-survey-2021/), that we encountered before. The dataset is available on Blackboard.\n",
    "\n",
    "In question 7 respondents were asked \"What programming languages do you use on a regular basis? (Select all that apply)\". Calculate percentages of respondents who use each of the programming languages. Sort them by popularity.\n",
    "\n",
    "Tip: You can use `tidyr` and `dplyr` packages to pivot subset of columns into longer format."
   ]
  },
  {
   "cell_type": "code",
   "execution_count": 9,
   "id": "fd7f1c95",
   "metadata": {
    "slideshow": {
     "slide_type": "fragment"
    }
   },
   "outputs": [],
   "source": [
    "# Exercise 5:\n",
    "\n",
    "# Your code goes here"
   ]
  }
 ],
 "metadata": {
  "celltoolbar": "Slideshow",
  "kernelspec": {
   "display_name": "R",
   "language": "R",
   "name": "ir"
  },
  "language_info": {
   "codemirror_mode": "r",
   "file_extension": ".r",
   "mimetype": "text/x-r-source",
   "name": "R",
   "pygments_lexer": "r",
   "version": "4.1.2"
  }
 },
 "nbformat": 4,
 "nbformat_minor": 5
}
