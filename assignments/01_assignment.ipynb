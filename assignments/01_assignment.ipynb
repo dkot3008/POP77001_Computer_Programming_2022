{
 "cells": [
  {
   "cell_type": "code",
   "execution_count": 1,
   "id": "0f90c9f4",
   "metadata": {
    "slideshow": {
     "slide_type": "skip"
    }
   },
   "outputs": [],
   "source": [
    "options(jupyter.rich_display = FALSE)"
   ]
  },
  {
   "cell_type": "markdown",
   "id": "31d2cf7f",
   "metadata": {
    "slideshow": {
     "slide_type": "slide"
    }
   },
   "source": [
    "# Assignment 1: R Basics and Control Flow\n",
    "\n",
    "## POP77001 Computer Programming for Social Scientists"
   ]
  },
  {
   "cell_type": "markdown",
   "id": "8c6e5f0b",
   "metadata": {
    "slideshow": {
     "slide_type": "slide"
    }
   },
   "source": [
    "## Before submission\n",
    "\n",
    "- Make sure that you can run all cells without errors\n",
    "- You can do it by clicking `Kernel`, `Restart & Run All` in the menu above\n",
    "- Make sure that you save the output by pressing Command+S / CTRL+S\n",
    "- Rename the file from `01_assignment.ipynb` to `01_assignment_lastname_firstname_studentnumber.ipynb`\n",
    "- Use Firefox browser for submitting your Jupyter notebook on Blackboard"
   ]
  },
  {
   "cell_type": "markdown",
   "id": "415b8791",
   "metadata": {
    "slideshow": {
     "slide_type": "slide"
    }
   },
   "source": [
    "## Exercise 1: Subsetting (20 points)\n",
    "\n",
    "Write 3 separate subsetting operations to extract the following elements from the list below:\n",
    "- All consonants from the first character vector\n",
    "- Second columns in all dimensions from the array A\n",
    "- Odd rows from the matrix M"
   ]
  },
  {
   "cell_type": "code",
   "execution_count": 2,
   "id": "ebd7be68",
   "metadata": {
    "slideshow": {
     "slide_type": "fragment"
    }
   },
   "outputs": [],
   "source": [
    "l <- list(\n",
    "    mapply(assign, letters, 1:26),\n",
    "    A = array(1:60, c(5,2,3)),\n",
    "    M = matrix(1:50, c(10,5))\n",
    ")"
   ]
  },
  {
   "cell_type": "code",
   "execution_count": 3,
   "id": "d6f6e3f2",
   "metadata": {
    "slideshow": {
     "slide_type": "fragment"
    }
   },
   "outputs": [
    {
     "data": {
      "text/plain": [
       "[[1]]\n",
       " a  b  c  d  e  f  g  h  i  j  k  l  m  n  o  p  q  r  s  t  u  v  w  x  y  z \n",
       " 1  2  3  4  5  6  7  8  9 10 11 12 13 14 15 16 17 18 19 20 21 22 23 24 25 26 \n",
       "\n",
       "$A\n",
       ", , 1\n",
       "\n",
       "     [,1] [,2]\n",
       "[1,]    1    6\n",
       "[2,]    2    7\n",
       "[3,]    3    8\n",
       "[4,]    4    9\n",
       "[5,]    5   10\n",
       "\n",
       ", , 2\n",
       "\n",
       "     [,1] [,2]\n",
       "[1,]   11   16\n",
       "[2,]   12   17\n",
       "[3,]   13   18\n",
       "[4,]   14   19\n",
       "[5,]   15   20\n",
       "\n",
       ", , 3\n",
       "\n",
       "     [,1] [,2]\n",
       "[1,]   21   26\n",
       "[2,]   22   27\n",
       "[3,]   23   28\n",
       "[4,]   24   29\n",
       "[5,]   25   30\n",
       "\n",
       "\n",
       "$M\n",
       "      [,1] [,2] [,3] [,4] [,5]\n",
       " [1,]    1   11   21   31   41\n",
       " [2,]    2   12   22   32   42\n",
       " [3,]    3   13   23   33   43\n",
       " [4,]    4   14   24   34   44\n",
       " [5,]    5   15   25   35   45\n",
       " [6,]    6   16   26   36   46\n",
       " [7,]    7   17   27   37   47\n",
       " [8,]    8   18   28   38   48\n",
       " [9,]    9   19   29   39   49\n",
       "[10,]   10   20   30   40   50\n"
      ]
     },
     "metadata": {},
     "output_type": "display_data"
    }
   ],
   "source": [
    "l"
   ]
  },
  {
   "cell_type": "code",
   "execution_count": 4,
   "id": "2e749c9d",
   "metadata": {
    "slideshow": {
     "slide_type": "fragment"
    }
   },
   "outputs": [],
   "source": [
    "# Exercise 1:\n",
    "\n",
    "# Your code goes here"
   ]
  },
  {
   "cell_type": "markdown",
   "id": "83f1117f",
   "metadata": {
    "slideshow": {
     "slide_type": "slide"
    }
   },
   "source": [
    "## Exercise 2: Working with vectors  (20 points)\n",
    "\n",
    "Look at the vector below. What is its type? Convert it into numeric. Note that some values get missing due to letter `o` used instead of digit `0`. What proportion of the vector elements did we fail to convert correctly? Now let us fix this issue. Using either subsetting and assignment or `ifelse()` function replace all `NA`s in the converted numeric vector into `0` (zeros)."
   ]
  },
  {
   "cell_type": "code",
   "execution_count": 5,
   "id": "a623da72",
   "metadata": {
    "slideshow": {
     "slide_type": "fragment"
    }
   },
   "outputs": [],
   "source": [
    "set.seed(2022)\n",
    "vec <- sample(c(\"1\", \"0\", \"o\"), size = 100, replace = TRUE)"
   ]
  },
  {
   "cell_type": "code",
   "execution_count": 6,
   "id": "006e6e65",
   "metadata": {
    "slideshow": {
     "slide_type": "fragment"
    }
   },
   "outputs": [],
   "source": [
    "# Exercise 2:\n",
    "\n",
    "# Your code goes here"
   ]
  },
  {
   "cell_type": "markdown",
   "id": "103ff543",
   "metadata": {
    "slideshow": {
     "slide_type": "slide"
    }
   },
   "source": [
    "## Exercise 3: Vectorized operations  (20 points)\n",
    "\n",
    "Using function `mean()` calculate the percentage of book titles in the vector below that have more than 10 characters in them (including whitespaces).\n",
    "\n",
    "Tip: You can use `nchar()` function to calculate the number of characters in a vector"
   ]
  },
  {
   "cell_type": "code",
   "execution_count": 7,
   "id": "515a1626",
   "metadata": {
    "slideshow": {
     "slide_type": "fragment"
    }
   },
   "outputs": [],
   "source": [
    "books <- c(\n",
    "  \"Dubliners\",\n",
    "  \"Ulysses\",\n",
    "  \"War and Peace\",\n",
    "  \"Normal People\",\n",
    "  \"Crime and Punishment\",\n",
    "  \"The Picture of Dorian Gray\"\n",
    ")"
   ]
  },
  {
   "cell_type": "code",
   "execution_count": 8,
   "id": "327a3aeb",
   "metadata": {
    "slideshow": {
     "slide_type": "fragment"
    }
   },
   "outputs": [],
   "source": [
    "# Exercise 3:\n",
    "\n",
    "# Your code goes here"
   ]
  },
  {
   "cell_type": "markdown",
   "id": "182826c2",
   "metadata": {
    "slideshow": {
     "slide_type": "slide"
    }
   },
   "source": [
    "## Exercise 4: Attributes and factors  (20 points)\n",
    "\n",
    "Suppose you read in a variable which represents education of survey respondents. After consulting the codebook for this survey you determined that specific values that the variable takes are coded as follows:\n",
    "\n",
    "- `0` - No formal education\n",
    "- `1` - Primary Education\n",
    "- `2` - Secondary Education\n",
    "- `3` - College Education\n",
    "- `4` - Post-graduate Education\n",
    "\n",
    "Convert the variable `educ` below into a factor variable with each value coded explicitly as one of the education levels. Tabulate the variable using `table()` function. Change the order of the levels of this factor variable such that the most common education level is the first (baseline/reference) category (you can leave other education levels in their origianl order). Tabulate the variable again.   "
   ]
  },
  {
   "cell_type": "code",
   "execution_count": 9,
   "id": "856b7253",
   "metadata": {
    "slideshow": {
     "slide_type": "fragment"
    }
   },
   "outputs": [],
   "source": [
    "set.seed(2022)\n",
    "educ <- rpois(1000, 2)\n",
    "educ <- ifelse(educ > 4, 4, educ)"
   ]
  },
  {
   "cell_type": "code",
   "execution_count": 10,
   "id": "e94963c1",
   "metadata": {
    "slideshow": {
     "slide_type": "fragment"
    }
   },
   "outputs": [],
   "source": [
    "# Exercise 4:\n",
    "\n",
    "# Your code goes here"
   ]
  },
  {
   "cell_type": "markdown",
   "id": "cd26bf4b",
   "metadata": {
    "slideshow": {
     "slide_type": "slide"
    }
   },
   "source": [
    "## Exercise 5: Conditional statements and loops  (20 points)\n",
    "\n",
    "[Levenshtein distance](https://en.wikipedia.org/wiki/Levenshtein_distance) is a string distance metric that measures how many transformations (insertion, deletion, substitution) are required to convert one string into another. For example, consider words 'cat' and 'can'. Letter 't' in the first word can be substituted with a character 'n' in order for the two words to become identical.\n",
    "\n",
    "For classical Levenshtein distance each of the transformations has the same cost of 1. In other words, the distance (of 1) is the same between the word pairs 'cat' - 'can' and 'cat' - 'cats'.\n",
    "\n",
    "Below you can see two character vectors that were transformed to have a single letter as an individual element. Write a loop to compare each of the elements from one string to each of the elements from another string while keeping track of the number of transformations. Print out the result of the transformations count."
   ]
  },
  {
   "cell_type": "code",
   "execution_count": 11,
   "id": "211e64a6",
   "metadata": {
    "slideshow": {
     "slide_type": "fragment"
    }
   },
   "outputs": [],
   "source": [
    "char_1 <- unlist(strsplit(\"kitten\", split = \"\"))\n",
    "char_2 <- unlist(strsplit(\"sitting\", split = \"\"))"
   ]
  },
  {
   "cell_type": "code",
   "execution_count": 12,
   "id": "e7e4e266",
   "metadata": {
    "slideshow": {
     "slide_type": "fragment"
    }
   },
   "outputs": [
    {
     "data": {
      "text/plain": [
       "[1] \"k\" \"i\" \"t\" \"t\" \"e\" \"n\""
      ]
     },
     "metadata": {},
     "output_type": "display_data"
    }
   ],
   "source": [
    "char_1"
   ]
  },
  {
   "cell_type": "code",
   "execution_count": 13,
   "id": "d09f32e6",
   "metadata": {
    "slideshow": {
     "slide_type": "fragment"
    }
   },
   "outputs": [
    {
     "data": {
      "text/plain": [
       "[1] \"s\" \"i\" \"t\" \"t\" \"i\" \"n\" \"g\""
      ]
     },
     "metadata": {},
     "output_type": "display_data"
    }
   ],
   "source": [
    "char_2"
   ]
  },
  {
   "cell_type": "code",
   "execution_count": 14,
   "id": "4ee7ce48",
   "metadata": {
    "slideshow": {
     "slide_type": "fragment"
    }
   },
   "outputs": [],
   "source": [
    "# Exercise 5:\n",
    "\n",
    "# Your code goes here"
   ]
  }
 ],
 "metadata": {
  "celltoolbar": "Slideshow",
  "kernelspec": {
   "display_name": "R",
   "language": "R",
   "name": "ir"
  },
  "language_info": {
   "codemirror_mode": "r",
   "file_extension": ".r",
   "mimetype": "text/x-r-source",
   "name": "R",
   "pygments_lexer": "r",
   "version": "4.1.2"
  }
 },
 "nbformat": 4,
 "nbformat_minor": 5
}
