{
 "cells": [
  {
   "cell_type": "markdown",
   "id": "aafd3f75",
   "metadata": {
    "slideshow": {
     "slide_type": "slide"
    }
   },
   "source": [
    "## Week 11 Tutorial: Classes and Object-oriented Programming\n",
    "\n",
    "### POP77001 Computer Programming for Social Scientists\n",
    "\n",
    "##### Module website: [tinyurl.com/POP77001](https://tinyurl.com/POP77001)"
   ]
  },
  {
   "cell_type": "markdown",
   "id": "1bb17a5f",
   "metadata": {
    "slideshow": {
     "slide_type": "slide"
    }
   },
   "source": [
    "## Recap: Class definition\n",
    "\n",
    "- Let us recap how a class can be defined in Python.\n",
    "- Look at the mock class definition below.\n",
    "- Check that you understand what every part of it is.\n",
    "- Create an instance of the class.\n",
    "- Make sure that you can access docstrings for both class and individual methods."
   ]
  },
  {
   "cell_type": "code",
   "execution_count": 1,
   "id": "7af46754",
   "metadata": {
    "slideshow": {
     "slide_type": "slide"
    }
   },
   "outputs": [],
   "source": [
    "class MyClass(object):\n",
    "    \"\"\"Docstring describing the class.\"\"\" \n",
    "    # Use docstrings rather than comments to document\n",
    "    # both the class and its individual methods\n",
    "    # docstrings can be accessed interactively using help()\n",
    "    # function. While comments would require going back to\n",
    "    # source code.\n",
    "    \n",
    "    # Special Method for object instantiation - always first\n",
    "    def __init__(self, var):\n",
    "        \"\"\"Create a new instance of class.\"\"\"\n",
    "        \n",
    "        # Methods with two underscores (\"__\") serve special purposes.\n",
    "        # E.g. __init__() is a constructor method that creates \n",
    "        # an instance of the class. \n",
    "        #\n",
    "        # `self` refers to a specific instance of the class.\n",
    "        # Then data fields can be described using `self.` prefix\n",
    "        self.var = var\n",
    "    \n",
    "    def class_method(self, arg):\n",
    "        \"\"\"Docstring describing the method.\"\"\"\n",
    "        \n",
    "        # Some method that does something.\n",
    "        pass\n",
    "    \n",
    "    # Special Method for object string representation - always last\n",
    "    def __str__(self): \n",
    "        \"\"\"Return a string representation of object.\"\"\"\n",
    "        \n",
    "        # Define here how you want an instance of the classto be printed. \n",
    "        return str(self.var)"
   ]
  },
  {
   "cell_type": "markdown",
   "id": "0eca0c20",
   "metadata": {
    "slideshow": {
     "slide_type": "slide"
    }
   },
   "source": [
    "## Class definition example\n",
    "\n",
    "- Let us come back to the definition of class `Survey` from the lecture.\n",
    "- Check that you understand what each of the lines of code does.\n",
    "- Try creating and manipulating the objects of this class."
   ]
  },
  {
   "cell_type": "code",
   "execution_count": 2,
   "id": "2e5a3da3",
   "metadata": {
    "slideshow": {
     "slide_type": "slide"
    }
   },
   "outputs": [],
   "source": [
    "class Survey(object):\n",
    "    \"\"\"Create a new Survey\"\"\"\n",
    "    def __init__(self):\n",
    "        \"\"\"Initialize a new Survey with an empty questionnaire\"\"\"\n",
    "        self.questionnaire = []\n",
    "    def add_question(self, question):\n",
    "        \"\"\"Add question to the questionnaire\"\"\"\n",
    "        self.questionnaire.append(question)\n",
    "    def __add__(self, other):\n",
    "        \"\"\"Combine Surveys together\"\"\"\n",
    "        return self.questionnaire + other.questionnaire\n",
    "    def __len__(self):\n",
    "        \"\"\"Returns the length of Survey questionnaire\"\"\"\n",
    "        return len(self.questionnaire)"
   ]
  },
  {
   "cell_type": "markdown",
   "id": "81f11962",
   "metadata": {
    "slideshow": {
     "slide_type": "slide"
    }
   },
   "source": [
    "## Exercise 1: Creating methods\n",
    "\n",
    "- Notice that there only one method designed to be explicitly called by a user.\n",
    "- It is the method for adding question to survey questionnaire.\n",
    "- Create a corresponding question for removing questions.\n",
    "- Try out a new class design:\n",
    "    - First, create a Survey object;\n",
    "    - Second, add 2 questions to the questionnaire;\n",
    "    - Lastly, remove one of those questions from it."
   ]
  },
  {
   "cell_type": "markdown",
   "id": "f93754be",
   "metadata": {
    "slideshow": {
     "slide_type": "slide"
    }
   },
   "source": [
    "## Exercise 2: Inheritance Hierarchy\n",
    "\n",
    "- Create a subclass of `Survey` class called OnlineSurvey.\n",
    "- Implement operator overloading for `<` (less than) operator.\n",
    "- It will return True if the number of questions in one survey is smaller than the other.\n",
    "- Create 2 Survey with different number of questions.\n",
    "- Combine them in a list.\n",
    "- Sort this list using `sorted()` function."
   ]
  },
  {
   "cell_type": "markdown",
   "id": "1b5bdd4a",
   "metadata": {
    "slideshow": {
     "slide_type": "slide"
    }
   },
   "source": [
    "## Week 11: Assignment 4\n",
    "\n",
    "- Data Wrangling in Python and Classes\n",
    "- Due by 12:00 on Monday, 28th November"
   ]
  }
 ],
 "metadata": {
  "celltoolbar": "Slideshow",
  "kernelspec": {
   "display_name": "Python 3 (ipykernel)",
   "language": "python",
   "name": "python3"
  },
  "language_info": {
   "codemirror_mode": {
    "name": "ipython",
    "version": 3
   },
   "file_extension": ".py",
   "mimetype": "text/x-python",
   "name": "python",
   "nbconvert_exporter": "python",
   "pygments_lexer": "ipython3",
   "version": "3.10.6"
  }
 },
 "nbformat": 4,
 "nbformat_minor": 5
}
