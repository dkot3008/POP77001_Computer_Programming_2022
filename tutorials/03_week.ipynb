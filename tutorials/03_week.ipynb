{
 "cells": [
  {
   "cell_type": "code",
   "execution_count": 1,
   "id": "83ae7fc0",
   "metadata": {
    "slideshow": {
     "slide_type": "skip"
    }
   },
   "outputs": [],
   "source": [
    "options(jupyter.rich_display = FALSE)"
   ]
  },
  {
   "cell_type": "markdown",
   "id": "7bc52a16",
   "metadata": {
    "slideshow": {
     "slide_type": "slide"
    }
   },
   "source": [
    "## Week 3 Tutorial: Control Flow in R\n",
    "\n",
    "### POP77001 Computer Programming for Social Scientists\n",
    "\n",
    "##### Module website: [tinyurl.com/POP77001](https://tinyurl.com/POP77001)"
   ]
  },
  {
   "cell_type": "markdown",
   "id": "f9be919c",
   "metadata": {
    "slideshow": {
     "slide_type": "slide"
    }
   },
   "source": [
    "## Note on code formatting\n",
    "\n",
    "- Use consistent style and indentation (RStudio indents by 2 whitespaces, Jupyter Notebook by 4)\n",
    "- Even though it does not affect how programs are executed in R"
   ]
  },
  {
   "cell_type": "code",
   "execution_count": 2,
   "id": "cdc79be7",
   "metadata": {
    "slideshow": {
     "slide_type": "fragment"
    }
   },
   "outputs": [],
   "source": [
    "# Good style\n",
    "is_positive <- function(num) {\n",
    "  if (num > 0) {\n",
    "    res <- TRUE\n",
    "  } else {\n",
    "    res <- FALSE\n",
    "  }\n",
    "  return(res)\n",
    "}"
   ]
  },
  {
   "cell_type": "code",
   "execution_count": 3,
   "id": "7f4865cc",
   "metadata": {
    "slideshow": {
     "slide_type": "fragment"
    }
   },
   "outputs": [],
   "source": [
    "# Bad style\n",
    "is_positive <- function(num) {\n",
    "if (num > 0) {\n",
    "res <- TRUE\n",
    "}\n",
    "else {\n",
    "res <- FALSE\n",
    "}\n",
    "return(res)\n",
    "}"
   ]
  },
  {
   "cell_type": "markdown",
   "id": "d0db6764",
   "metadata": {
    "slideshow": {
     "slide_type": "slide"
    }
   },
   "source": [
    "## Exercise 1: Conditional Statements\n",
    "\n",
    "- Below you will find a code snippet for finding the maximum value in vector `v` using exhaustive enumeration.\n",
    "- Modify it in such a way that it finds the minimum (rather than maximum) value.\n",
    "- Check that your code works correctly by applying the built-in function `min()`."
   ]
  },
  {
   "cell_type": "code",
   "execution_count": 4,
   "id": "066a3673",
   "metadata": {
    "slideshow": {
     "slide_type": "slide"
    }
   },
   "outputs": [
    {
     "data": {
      "text/plain": [
       "[1] 998"
      ]
     },
     "metadata": {},
     "output_type": "display_data"
    }
   ],
   "source": [
    "set.seed(2022)\n",
    "v <- sample(1:1000, 50)\n",
    "max_val <- v[1]\n",
    "for (i in v) {\n",
    "  if (i > max_val) {\n",
    "    max_val <- i\n",
    "  }\n",
    "}\n",
    "max_val"
   ]
  },
  {
   "cell_type": "markdown",
   "id": "36838ca9",
   "metadata": {
    "slideshow": {
     "slide_type": "slide"
    }
   },
   "source": [
    "- Now let's make this code more robust.\n",
    "- Re-write the code above so that it can handle vectors that contain NAs in them.\n",
    "- Test your code on the vector below."
   ]
  },
  {
   "cell_type": "code",
   "execution_count": 8,
   "id": "6c8cc536",
   "metadata": {
    "slideshow": {
     "slide_type": "fragment"
    }
   },
   "outputs": [],
   "source": [
    "set.seed(2022)\n",
    "v <- sample(c(1:500, rep(NA, 500)), 25)"
   ]
  },
  {
   "cell_type": "markdown",
   "id": "c8869faf",
   "metadata": {
    "slideshow": {
     "slide_type": "slide"
    }
   },
   "source": [
    "## Exercise 2: Iteration\n",
    "\n",
    "- Below you see a matrix of random 30 observations of 5 variables\n",
    "- Inspect visually the matrix\n",
    "- Which variable(s) do you think has(ve) the highest standard deviation?\n",
    "- First, try subsetting individual rows and columns from this matrix\n",
    "- Check the dimensionality of the matrix using `dim()`, `nrow()` and `ncol()` functions\n",
    "- Write a loop that goes over each variable and calculates its standard deviation\n",
    "- You can use `sd()` function to calculate the standard deviation\n",
    "- Save these calculated standard deviations in a vector\n",
    "- Find the variable with the maximum standard deviation using `max()` or `which.max()` functions\n",
    "- Is it the one you thought it would be?"
   ]
  },
  {
   "cell_type": "code",
   "execution_count": 4,
   "id": "d75af611",
   "metadata": {
    "slideshow": {
     "slide_type": "slide"
    }
   },
   "outputs": [],
   "source": [
    "# When dealing with random number generation it's always a good idea to make your code replicable\n",
    "# by setting the seed with set.seed(function)\n",
    "set.seed(2021)\n",
    "# Here we create a matrix of 30 observations of 5 variables\n",
    "# where each variable is a random draw from a normal distribution with mean 0\n",
    "# and standard deviation drawn from a uniform distribution between 0 and 10\n",
    "mat <- mapply(\n",
    "  function(x) cbind(rnorm(n = 30, mean = 0, sd = x)),\n",
    "  runif(n = 5, min = 0, max = 10)\n",
    ")"
   ]
  },
  {
   "cell_type": "code",
   "execution_count": 5,
   "id": "39c5e019",
   "metadata": {
    "slideshow": {
     "slide_type": "fragment"
    }
   },
   "outputs": [
    {
     "data": {
      "text/plain": [
       "      [,1]       [,2]        [,3]         [,4]       [,5]       \n",
       " [1,]  2.3839361  -9.3570121  -3.38211062 -1.6188191   2.4345828\n",
       " [2,] -2.8108812   3.6398922   9.12221934  2.1498588   2.1145327\n",
       " [3,]  9.5657865 -13.0553064  -5.65808900 -1.5074431  -0.4870916\n",
       " [4,]  4.4413551   3.4095297  -5.55809112 -4.7089982 -11.5910021\n",
       " [5,]  0.7666776  12.0176689   0.86723020  0.8672294 -11.6148730\n",
       " [6,] -3.0214758  -0.8865633 -11.54534021  6.1809994  -1.3194973\n",
       " [7,]  5.0308587  -4.3594766  10.55399527  0.5751735   1.6799590\n",
       " [8,]  0.5180495  20.3242580  -1.64929984 -0.2931002  -1.1849911\n",
       " [9,]  7.6669813  -1.8116540  16.75477035 -4.4174753  -6.1632955\n",
       "[10,] -2.7861283   3.2815657  -4.84693805  5.0580929   3.1865921\n",
       "[11,]  6.1104984  -6.1228633  -1.06513883 -2.3779707  -3.9278496\n",
       "[12,]  5.3133132   7.2338976   8.62467646 -0.9139698  -1.5229585\n",
       "[13,]  4.0453120  -2.0328074  -0.09658005 -4.4241866  -2.7919515\n",
       "[14,]  7.1206917   3.6832976 -12.75733596 -2.2678010  -7.4990240\n",
       "[15,]  5.8374139   0.4654195   1.84243188 -2.2238920   5.3956202\n",
       "[16,] -3.4106540   9.9545362   3.51130060 -3.1272271   6.9593475\n",
       "[17,] -3.1863625   4.7673280  -5.40019237 -5.7072101 -12.6048078\n",
       "[18,] -0.5974791   4.0041569   3.99436039  8.4112405   0.1732721\n",
       "[19,]  4.6128663  -4.4334811  -4.27529981  3.5846152   4.5720605\n",
       "[20,]  7.7628644   9.3434631   1.21902325  2.7199821  -3.4115138\n",
       "[21,]  3.6998460  -5.6681773   6.81095739 -3.0746508   2.6899819\n",
       "[22,] -9.6012377  -1.3070740  -3.12625864  3.0189988  -2.0581107\n",
       "[23,]  4.1883348   2.6332821  -0.73465194  0.4420367  -1.7546103\n",
       "[24,]  1.8300096  -6.5693717   5.11940776 -5.0718646   0.6314134\n",
       "[25,]  0.3532955   3.1835940 -13.73773557 -6.9631817  -5.7034983\n",
       "[26,] -4.0047480  -0.5922580  -5.86165496 -1.5371499  -2.5860995\n",
       "[27,] -1.3655978  -5.0869097  -9.00872233  1.2069816   6.4185698\n",
       "[28,]  3.2373462 -13.1882798   2.98626350  4.2486093   3.1018197\n",
       "[29,]  0.2681325  -5.0607948  -5.08381759  0.3843558  -6.0305568\n",
       "[30,] -1.1892729   4.6930333   2.10005395 -5.3647249  -7.4035830"
      ]
     },
     "metadata": {},
     "output_type": "display_data"
    }
   ],
   "source": [
    "mat"
   ]
  },
  {
   "cell_type": "markdown",
   "id": "ecc99852",
   "metadata": {
    "slideshow": {
     "slide_type": "slide"
    }
   },
   "source": [
    "## Week 3: Assignment 1\n",
    "\n",
    "- Practice subsetting, conditional statements and iterations in R\n",
    "- Due by 23:59 on Friday, 30th September"
   ]
  }
 ],
 "metadata": {
  "celltoolbar": "Slideshow",
  "kernelspec": {
   "display_name": "R",
   "language": "R",
   "name": "ir"
  },
  "language_info": {
   "codemirror_mode": "r",
   "file_extension": ".r",
   "mimetype": "text/x-r-source",
   "name": "R",
   "pygments_lexer": "r",
   "version": "4.1.2"
  }
 },
 "nbformat": 4,
 "nbformat_minor": 5
}
