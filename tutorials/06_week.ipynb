{
 "cells": [
  {
   "cell_type": "code",
   "execution_count": 1,
   "id": "83ae7fc0",
   "metadata": {
    "slideshow": {
     "slide_type": "skip"
    }
   },
   "outputs": [],
   "source": [
    "options(jupyter.rich_display = FALSE)"
   ]
  },
  {
   "cell_type": "markdown",
   "id": "ea7b3a71",
   "metadata": {
    "slideshow": {
     "slide_type": "slide"
    }
   },
   "source": [
    "## Week 6 Tutorial: Data Wrangling in R\n",
    "\n",
    "### POP77001 Computer Programming for Social Scientists\n",
    "\n",
    "##### Module website: [tinyurl.com/POP77001](https://tinyurl.com/POP77001)"
   ]
  },
  {
   "cell_type": "markdown",
   "id": "4b7cb322",
   "metadata": {
    "slideshow": {
     "slide_type": "slide"
    }
   },
   "source": [
    "## Loading the dataset\n",
    "\n",
    "- Replace filepath with the location of the file on your computer"
   ]
  },
  {
   "cell_type": "code",
   "execution_count": 2,
   "id": "adfb31a2",
   "metadata": {
    "slideshow": {
     "slide_type": "fragment"
    }
   },
   "outputs": [
    {
     "name": "stderr",
     "output_type": "stream",
     "text": [
      "\n",
      "Attaching package: ‘dplyr’\n",
      "\n",
      "\n",
      "The following objects are masked from ‘package:stats’:\n",
      "\n",
      "    filter, lag\n",
      "\n",
      "\n",
      "The following objects are masked from ‘package:base’:\n",
      "\n",
      "    intersect, setdiff, setequal, union\n",
      "\n",
      "\n"
     ]
    }
   ],
   "source": [
    "library(\"readr\")\n",
    "library(\"dplyr\")"
   ]
  },
  {
   "cell_type": "code",
   "execution_count": 3,
   "id": "95ea21ea",
   "metadata": {
    "slideshow": {
     "slide_type": "slide"
    }
   },
   "outputs": [
    {
     "name": "stderr",
     "output_type": "stream",
     "text": [
      "\u001b[1m\u001b[1mRows: \u001b[1m\u001b[22m\u001b[34m\u001b[34m2\u001b[34m\u001b[39m \u001b[1m\u001b[1mColumns: \u001b[1m\u001b[22m\u001b[34m\u001b[34m369\u001b[34m\u001b[39m\n",
      "\n",
      "\u001b[36m──\u001b[39m \u001b[1m\u001b[1mColumn specification\u001b[1m\u001b[22m \u001b[36m───────────────────────────────────────────────────────────────────────────────────────────────────────────────────────────────────────────────────────────────────────────────────────────\u001b[39m\n",
      "\u001b[1mDelimiter:\u001b[22m \",\"\n",
      "\u001b[31mchr\u001b[39m (369): Time from Start to Finish (seconds), Q1, Q2, Q3, Q4, Q5, Q6, Q7_P...\n",
      "\n",
      "\n",
      "\u001b[36mℹ\u001b[39m Use \u001b[30m\u001b[47m\u001b[30m\u001b[47m`spec()`\u001b[47m\u001b[30m\u001b[49m\u001b[39m to retrieve the full column specification for this data.\n",
      "\u001b[36mℹ\u001b[39m Specify the column types or set \u001b[30m\u001b[47m\u001b[30m\u001b[47m`show_col_types = FALSE`\u001b[47m\u001b[30m\u001b[49m\u001b[39m to quiet this message.\n",
      "\n"
     ]
    }
   ],
   "source": [
    "PATH <- \"../data/kaggle_survey_2021_responses.csv\"\n",
    "\n",
    "# As the header of this dataset is composite (consisting ot 2 rows)\n",
    "# we start by reading in the first 2 rows and then using the header\n",
    "# of that 'header' dataset for the actual full dataset\n",
    "questions <- readr::read_csv(PATH, n_max = 2)"
   ]
  },
  {
   "cell_type": "code",
   "execution_count": 4,
   "id": "5cd92875",
   "metadata": {
    "slideshow": {
     "slide_type": "slide"
    }
   },
   "outputs": [
    {
     "name": "stderr",
     "output_type": "stream",
     "text": [
      "\u001b[1m\u001b[1mRows: \u001b[1m\u001b[22m\u001b[34m\u001b[34m25973\u001b[34m\u001b[39m \u001b[1m\u001b[1mColumns: \u001b[1m\u001b[22m\u001b[34m\u001b[34m369\u001b[34m\u001b[39m\n",
      "\n",
      "\u001b[36m──\u001b[39m \u001b[1m\u001b[1mColumn specification\u001b[1m\u001b[22m \u001b[36m───────────────────────────────────────────────────────────────────────────────────────────────────────────────────────────────────────────────────────────────────────────────────────────\u001b[39m\n",
      "\u001b[1mDelimiter:\u001b[22m \",\"\n",
      "\u001b[31mchr\u001b[39m (360): Q1, Q2, Q3, Q4, Q5, Q6, Q7_Part_1, Q7_Part_2, Q7_Part_3, Q7_Part_...\n",
      "\u001b[32mdbl\u001b[39m   (1): Time from Start to Finish (seconds)\n",
      "\u001b[33mlgl\u001b[39m   (8): Q30_B_Part_1, Q30_B_Part_2, Q30_B_Part_3, Q30_B_Part_4, Q30_B_Par...\n",
      "\n",
      "\n",
      "\u001b[36mℹ\u001b[39m Use \u001b[30m\u001b[47m\u001b[30m\u001b[47m`spec()`\u001b[47m\u001b[30m\u001b[49m\u001b[39m to retrieve the full column specification for this data.\n",
      "\u001b[36mℹ\u001b[39m Specify the column types or set \u001b[30m\u001b[47m\u001b[30m\u001b[47m`show_col_types = FALSE`\u001b[47m\u001b[30m\u001b[49m\u001b[39m to quiet this message.\n",
      "\n"
     ]
    }
   ],
   "source": [
    "kaggle2021 <- readr::read_csv(PATH, col_names = names(questions), skip = 2)"
   ]
  },
  {
   "cell_type": "code",
   "execution_count": 5,
   "id": "8c3c7b2b",
   "metadata": {
    "slideshow": {
     "slide_type": "fragment"
    }
   },
   "outputs": [
    {
     "data": {
      "text/plain": [
       "  Time from Start to Finish (seconds) Q1    Q2  Q3    Q4                Q5   \n",
       "1 910                                 50-54 Man India Bachelor’s degree Other\n",
       "  Q6         Q7_Part_1 Q7_Part_2 Q7_Part_3 ⋯ Q38_B_Part_3 Q38_B_Part_4\n",
       "1 5-10 years Python    R         NA        ⋯ NA           NA          \n",
       "  Q38_B_Part_5 Q38_B_Part_6 Q38_B_Part_7 Q38_B_Part_8 Q38_B_Part_9\n",
       "1 NA           NA           NA           NA           NA          \n",
       "  Q38_B_Part_10 Q38_B_Part_11 Q38_B_OTHER\n",
       "1 NA            NA            NA         "
      ]
     },
     "metadata": {},
     "output_type": "display_data"
    }
   ],
   "source": [
    "head(kaggle2021, 1)"
   ]
  },
  {
   "cell_type": "code",
   "execution_count": 6,
   "id": "fbad03fe",
   "metadata": {
    "slideshow": {
     "slide_type": "slide"
    }
   },
   "outputs": [
    {
     "data": {
      "text/plain": [
       "  Time from Start to Finish (seconds) Q1                         \n",
       "1 Duration (in seconds)               What is your age (# years)?\n",
       "2 910                                 50-54                      \n",
       "  Q2                                    \n",
       "1 What is your gender? - Selected Choice\n",
       "2 Man                                   \n",
       "  Q3                                       \n",
       "1 In which country do you currently reside?\n",
       "2 India                                    \n",
       "  Q4                                                                                                             \n",
       "1 What is the highest level of formal education that you have attained or plan to attain within the next 2 years?\n",
       "2 Bachelor’s degree                                                                                              \n",
       "  Q5                                                                                                     \n",
       "1 Select the title most similar to your current role (or most recent title if retired): - Selected Choice\n",
       "2 Other                                                                                                  \n",
       "  Q6                                                               \n",
       "1 For how many years have you been writing code and/or programming?\n",
       "2 5-10 years                                                       \n",
       "  Q7_Part_1                                                                                                   \n",
       "1 What programming languages do you use on a regular basis? (Select all that apply) - Selected Choice - Python\n",
       "2 Python                                                                                                      \n",
       "  Q7_Part_2                                                                                              \n",
       "1 What programming languages do you use on a regular basis? (Select all that apply) - Selected Choice - R\n",
       "2 R                                                                                                      \n",
       "  Q7_Part_3                                                                                                \n",
       "1 What programming languages do you use on a regular basis? (Select all that apply) - Selected Choice - SQL\n",
       "2 NA                                                                                                       "
      ]
     },
     "metadata": {},
     "output_type": "display_data"
    }
   ],
   "source": [
    "questions[,1:10]"
   ]
  },
  {
   "cell_type": "markdown",
   "id": "90f22dd3",
   "metadata": {
    "slideshow": {
     "slide_type": "slide"
    }
   },
   "source": [
    "## Exercise 1: Summarise categorical variable\n",
    "\n",
    "- Load the dataset (as local file)\n",
    "- Consider country of residence reported by respondents (question Q3).\n",
    "- Make sure you can select the column both using both it name and index\n",
    "- Calculate the percentages of top 3 countries of residence in the sample"
   ]
  },
  {
   "cell_type": "markdown",
   "id": "38f8a22e",
   "metadata": {
    "slideshow": {
     "slide_type": "slide"
    }
   },
   "source": [
    "## Dummy variables\n",
    "\n",
    "- When analysing categorical data (particularly using it as indepedent variables in regression) it is common to contruct [design matrices](https://en.wikipedia.org/wiki/Design_matrix), where categorical variables are represented by $1$'s and $0$'s depending on whether it is true or not for a given observation.\n",
    "- For example, gender of respondents in survey can be represented by this matrix below, where $1$'s indicate whether a given respondent is female and $0$'s if they are male:\n",
    "\n",
    "$$\n",
    "\\stackrel{female}{\n",
    "\\begin{bmatrix}\n",
    "1 \\\\\n",
    "0 \\\\\n",
    "1 \\\\\n",
    "\\vdots \\\\\n",
    "1\n",
    "\\end{bmatrix}\n",
    "}\n",
    "$$\n",
    "\n",
    "- This process of replacing actual labels (e.g. 'female' and 'male' in the example above) with binary values is called creating [dummy variables](https://en.wikipedia.org/wiki/Dummy_variable_(statistics)) in statistics and [one-hot encoding](https://en.wikipedia.org/wiki/One-hot) in computer science.\n"
   ]
  },
  {
   "cell_type": "markdown",
   "id": "7212e752",
   "metadata": {
    "slideshow": {
     "slide_type": "slide"
    }
   },
   "source": [
    "## Dummy variables continued\n",
    "\n",
    "- A more complex example would be when instead of having just two levels of a categorical (i.e. factor in R) variable, we have multiple different values that a variable might take.\n",
    "- For instance, a variable like age group might be represented as follows:\n",
    "\n",
    "$$\n",
    "\\stackrel{{\\scriptstyle25-34\\,35-44\\,45-64\\,65+}}{\n",
    "\\begin{bmatrix}\n",
    "1 & 0 & 0 & 0 \\\\\n",
    "0 & 1 & 0 & 0 \\\\\n",
    "0 & 0 & 0 & 1 \\\\\n",
    "\\vdots & \\vdots & \\vdots & \\vdots\\\\\n",
    "0 & 0 & 0 & 0\n",
    "\\end{bmatrix}\n",
    "}\n",
    "$$\n",
    "\n",
    "Where the first row corresponds to a respondent who is between 25 and 34 years old, the second to someone between 35 and 44 and the third one to a participant who is older than 65. Note that the number of columns in this matrix is one lower than the number of levels of our imaginary categorical variable age. We are omitting the baseline (reference) category. You can see that we can establish belonging to this category from the information provided in the matrix. If the values in all columns are $0$ (such as in the last row above), we can be sure that this observation is from a respondent who is in age group 18-24."
   ]
  },
  {
   "cell_type": "markdown",
   "id": "903cd558",
   "metadata": {
    "slideshow": {
     "slide_type": "slide"
    }
   },
   "source": [
    "## Exercise 2: Pivoting tables\n",
    "\n",
    "- Now let's construct such design matrix with dummy variables for respondents' age group in Kaggle survey.\n",
    "- First, check what levels does the variable age group take (question Q1).\n",
    "- Since we are making use of only a small portion of the data in this exercies, make the survey dataset more manageable by subsetting the columns Q1 to Q5.\n",
    "- Check the function `model.matrix()` from base R and apply it to the dataset to get a design matrix (you need to specify formula as the first argument).\n",
    "- This might be not the most usual example of pivoting data frame (as while the number of columns increases, the number of rows remains the same), but it gives you a sense of what it can entail.\n",
    "- To simplify working with the dataset, let's also create a unique id for each respondent (you can use `seq_along()` function in combination with any other variable to do so).\n",
    "- Finally, use `pivot_wider` function from `tidyr` package to create a separate column for each age group.\n",
    "- If the original pivoting produced columns that are populated by values of the categorical variable and `NA`'s, use `mutate` function to replace them with $0$'s and $1$'s.\n",
    "- Finally, use `pivot_longer` function to convert this representation of the dataset back into its original form.\n",
    "- You might also need to use `dplyr::filter()` function to remove redundant rows."
   ]
  },
  {
   "cell_type": "markdown",
   "id": "a46c3134",
   "metadata": {
    "slideshow": {
     "slide_type": "slide"
    }
   },
   "source": [
    "## Week 6: Assignment 2\n",
    "\n",
    "- Functions and data wrangling in R\n",
    "- Due by 12:00 on Monday, 24th October"
   ]
  }
 ],
 "metadata": {
  "celltoolbar": "Slideshow",
  "kernelspec": {
   "display_name": "R",
   "language": "R",
   "name": "ir"
  },
  "language_info": {
   "codemirror_mode": "r",
   "file_extension": ".r",
   "mimetype": "text/x-r-source",
   "name": "R",
   "pygments_lexer": "r",
   "version": "4.1.2"
  }
 },
 "nbformat": 4,
 "nbformat_minor": 5
}
