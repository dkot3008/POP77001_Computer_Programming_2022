{
 "cells": [
  {
   "cell_type": "markdown",
   "metadata": {
    "slideshow": {
     "slide_type": "slide"
    }
   },
   "source": [
    "## Week 8 Tutorial: Fundamentals of Python Programming I\n",
    "\n",
    "### POP77001 Computer Programming for Social Scientists\n",
    "\n",
    "##### Module website: [tinyurl.com/POP77001](https://tinyurl.com/POP77001)"
   ]
  },
  {
   "cell_type": "markdown",
   "metadata": {
    "slideshow": {
     "slide_type": "slide"
    }
   },
   "source": [
    "## Naming conventions\n",
    "\n",
    "It is a good practice to follow usual naming convention when writing code.\n",
    "\n",
    "- Use **UPPER_CASE_WITH_UNDERSCORE** for named constants (e.g. variables that remain fixed and unmodified)\n",
    "- Use **lower_case_with_underscores** for function and variable names\n",
    "- Use **CamelCase** for classes (more on them later)\n",
    "\n",
    "Extra: [PEP 8 -- Style Guide for Python Code](https://www.python.org/dev/peps/pep-0008/)"
   ]
  },
  {
   "cell_type": "markdown",
   "metadata": {
    "slideshow": {
     "slide_type": "slide"
    }
   },
   "source": [
    "## Code layout\n",
    "\n",
    "- Limit all lines to a maximum of 79 characters.\n",
    "- Break up longer lines\n",
    "\n",
    "```\n",
    "my_list = [\n",
    "    1, 2, 3,\n",
    "    4, 5, 6,\n",
    "    ]\n",
    "    \n",
    "result = some_function_that_takes_arguments(\n",
    "    'a', 'b', 'c',\n",
    "    'd', 'e', 'f',\n",
    "    )\n",
    "    \n",
    "income = (gross_wages\n",
    "          + taxable_interest\n",
    "          + (dividends - qualified_dividends)\n",
    "          - ira_deduction\n",
    "          - student_loan_interest)\n",
    "```\n",
    "\n",
    "Extra: [PEP 8 -- Style Guide for Python Code](https://www.python.org/dev/peps/pep-0008/)"
   ]
  },
  {
   "cell_type": "markdown",
   "metadata": {
    "slideshow": {
     "slide_type": "slide"
    }
   },
   "source": [
    "## Reserved words\n",
    "\n",
    "There are 35 reserved words (keywords) in Python (as of version 3.9) that cannot be used as identifiers.\n",
    "\n",
    "|              |              |              |              |              |\n",
    "|:-------------|:-------------|:-------------|:-------------|:-------------|\n",
    "| `and`        | `continue`   | `finally`    | `is`         | `raise`      |\n",
    "| `as`         | `def`        | `for`        | `lambda`     | `return`     |\n",
    "| `assert`     | `del`        | `from`       | `nonlocal`   | `True`       |\n",
    "| `async`      | `elif`       | `global`     | `None`       | `try`        |\n",
    "| `await`      | `else`       | `if`         | `not`        | `with`       |\n",
    "| `break`      | `except`     | `import`     | `or`         | `while`      |\n",
    "| `class`      | `False`      | `in`         | `pass`       | `yield`      |\n",
    "\n",
    "Source: [Python keywords](https://docs.python.org/3/reference/lexical_analysis.html#keywords)"
   ]
  },
  {
   "cell_type": "markdown",
   "metadata": {
    "slideshow": {
     "slide_type": "slide"
    }
   },
   "source": [
    "## Defining variables\n",
    "\n",
    "- Assignment statement binds the variable name and an object."
   ]
  },
  {
   "cell_type": "code",
   "execution_count": 1,
   "metadata": {
    "slideshow": {
     "slide_type": "fragment"
    }
   },
   "outputs": [],
   "source": [
    "x = 5 # Variable 'x' is bound to object 5 of type integer"
   ]
  },
  {
   "cell_type": "markdown",
   "metadata": {
    "slideshow": {
     "slide_type": "fragment"
    }
   },
   "source": [
    "- The same object can have multiple names (⚠️ more on aliasing and copying below)"
   ]
  },
  {
   "cell_type": "code",
   "execution_count": 2,
   "metadata": {
    "slideshow": {
     "slide_type": "fragment"
    }
   },
   "outputs": [
    {
     "name": "stdout",
     "output_type": "stream",
     "text": [
      "8\n",
      "5\n"
     ]
    }
   ],
   "source": [
    "y = x\n",
    "x += 3 # Note that x was overriden even with addition operation as integers are immutable\n",
    "print(x)\n",
    "print(y)"
   ]
  },
  {
   "cell_type": "code",
   "execution_count": 3,
   "metadata": {
    "scrolled": true,
    "slideshow": {
     "slide_type": "fragment"
    }
   },
   "outputs": [
    {
     "ename": "SyntaxError",
     "evalue": "expected ':' (1810972775.py, line 1)",
     "output_type": "error",
     "traceback": [
      "\u001b[0;36m  Input \u001b[0;32mIn [3]\u001b[0;36m\u001b[0m\n\u001b[0;31m    try = 5 # Watch out for reserved words\u001b[0m\n\u001b[0m        ^\u001b[0m\n\u001b[0;31mSyntaxError\u001b[0m\u001b[0;31m:\u001b[0m expected ':'\n"
     ]
    }
   ],
   "source": [
    "try = 5 # Watch out for reserved words"
   ]
  },
  {
   "cell_type": "markdown",
   "metadata": {
    "slideshow": {
     "slide_type": "slide"
    }
   },
   "source": [
    "## Strings\n",
    "\n",
    "- String (`str`) - **immutable** **ordered** sequence of characters\n",
    "- Immutable - individual elements cannot be modified\n",
    "- Ordered - strings can be sliced (unlike in R)"
   ]
  },
  {
   "cell_type": "code",
   "execution_count": 4,
   "metadata": {
    "slideshow": {
     "slide_type": "fragment"
    }
   },
   "outputs": [
    {
     "data": {
      "text/plain": [
       "'test'"
      ]
     },
     "execution_count": 4,
     "metadata": {},
     "output_type": "execute_result"
    }
   ],
   "source": [
    "s = 'test'\n",
    "s"
   ]
  },
  {
   "cell_type": "code",
   "execution_count": 5,
   "metadata": {
    "slideshow": {
     "slide_type": "fragment"
    }
   },
   "outputs": [
    {
     "data": {
      "text/plain": [
       "'t'"
      ]
     },
     "execution_count": 5,
     "metadata": {},
     "output_type": "execute_result"
    }
   ],
   "source": [
    "s[0] # slicing (indexing starts from 0!)"
   ]
  },
  {
   "cell_type": "code",
   "execution_count": 6,
   "metadata": {
    "slideshow": {
     "slide_type": "fragment"
    }
   },
   "outputs": [
    {
     "ename": "TypeError",
     "evalue": "'str' object does not support item assignment",
     "output_type": "error",
     "traceback": [
      "\u001b[0;31m---------------------------------------------------------------------------\u001b[0m",
      "\u001b[0;31mTypeError\u001b[0m                                 Traceback (most recent call last)",
      "Input \u001b[0;32mIn [6]\u001b[0m, in \u001b[0;36m<cell line: 1>\u001b[0;34m()\u001b[0m\n\u001b[0;32m----> 1\u001b[0m s[\u001b[38;5;241m0\u001b[39m] \u001b[38;5;241m=\u001b[39m \u001b[38;5;124m'\u001b[39m\u001b[38;5;124mr\u001b[39m\u001b[38;5;124m'\u001b[39m\n",
      "\u001b[0;31mTypeError\u001b[0m: 'str' object does not support item assignment"
     ]
    }
   ],
   "source": [
    "s[0] = 'r' # immutability"
   ]
  },
  {
   "cell_type": "markdown",
   "metadata": {
    "slideshow": {
     "slide_type": "slide"
    }
   },
   "source": [
    "## Some string methods\n",
    "\n",
    "```\n",
    "s.capitalize()\n",
    "s.title()\n",
    "s.upper()\n",
    "s.lower()\n",
    "s.find(some_string)\n",
    "s.replace(one_string, another_string)\n",
    "s.strip(some_string)\n",
    "s.split(some_string)\n",
    "s.join(some_list)\n",
    "```\n",
    "\n",
    "Extra: [Python string methods](https://docs.python.org/3/library/stdtypes.html#string-methods)"
   ]
  },
  {
   "cell_type": "markdown",
   "metadata": {
    "slideshow": {
     "slide_type": "slide"
    }
   },
   "source": [
    "## Method chaining\n",
    "\n",
    "- Recall from the lecture that methods can be *chained*\n",
    "- E.g. `s.strip().replace('--', '---').title()`\n",
    "- It provides a shortcut (does not necessitate intermediate objects)\n",
    "- However, it can reduce code legibility! 📜"
   ]
  },
  {
   "cell_type": "markdown",
   "metadata": {
    "slideshow": {
     "slide_type": "slide"
    }
   },
   "source": [
    "## Exercise 1: Working with strings\n",
    "\n",
    "- Remove trailining whitespaces (before and after the sentence) in the string below;\n",
    "- Replace all double whitespaces with one;\n",
    "- Format it as a sentence with correct punctuation; \n",
    "- Print the result."
   ]
  },
  {
   "cell_type": "code",
   "execution_count": 7,
   "metadata": {
    "slideshow": {
     "slide_type": "fragment"
    }
   },
   "outputs": [],
   "source": [
    "# Exercise 1:\n",
    "\n",
    "s = \"   truth  can  only be  found in  one place:  the  code \"\n",
    "\n",
    "# Your code goes here"
   ]
  },
  {
   "cell_type": "markdown",
   "metadata": {
    "slideshow": {
     "slide_type": "slide"
    }
   },
   "source": [
    "## Lists\n",
    "\n",
    "- List (`list`) - **mutable** **ordered** sequence of elements\n",
    "- Mutable - individual elements can be modified\n",
    "- Ordered - lists can be sliced (like strings)"
   ]
  },
  {
   "cell_type": "code",
   "execution_count": 8,
   "metadata": {
    "slideshow": {
     "slide_type": "fragment"
    }
   },
   "outputs": [
    {
     "data": {
      "text/plain": [
       "[1, 2, 3]"
      ]
     },
     "execution_count": 8,
     "metadata": {},
     "output_type": "execute_result"
    }
   ],
   "source": [
    "l = [1, 2, 3]\n",
    "l"
   ]
  },
  {
   "cell_type": "code",
   "execution_count": 9,
   "metadata": {
    "slideshow": {
     "slide_type": "fragment"
    }
   },
   "outputs": [
    {
     "data": {
      "text/plain": [
       "2"
      ]
     },
     "execution_count": 9,
     "metadata": {},
     "output_type": "execute_result"
    }
   ],
   "source": [
    "l[1] # slicing"
   ]
  },
  {
   "cell_type": "code",
   "execution_count": 10,
   "metadata": {
    "slideshow": {
     "slide_type": "fragment"
    }
   },
   "outputs": [
    {
     "data": {
      "text/plain": [
       "[1, 7, 3]"
      ]
     },
     "execution_count": 10,
     "metadata": {},
     "output_type": "execute_result"
    }
   ],
   "source": [
    "l[1] = 7 # immutability\n",
    "l"
   ]
  },
  {
   "cell_type": "markdown",
   "metadata": {
    "slideshow": {
     "slide_type": "slide"
    }
   },
   "source": [
    "## Some list methods\n",
    "\n",
    "```\n",
    "l.append(some_element)\n",
    "l.extend(some_list)\n",
    "l.insert(index, some_element)\n",
    "l.remove(some_element)\n",
    "l.pop(index)\n",
    "l.sort()\n",
    "l.reverse()\n",
    "l.copy()\n",
    "```\n",
    "\n",
    "Extra: [Python list methods](https://docs.python.org/3/tutorial/datastructures.html#more-on-lists)"
   ]
  },
  {
   "cell_type": "markdown",
   "metadata": {
    "slideshow": {
     "slide_type": "slide"
    }
   },
   "source": [
    "## Aliasing vs copying\n",
    "\n",
    "- As we saw above, the same object can have multiple names.\n",
    "- It doesn't usually create a problem with immutable types, as the entire object just gets overriden\n",
    "- But it might with mutable types!\n",
    "- Compare below:"
   ]
  },
  {
   "cell_type": "code",
   "execution_count": 11,
   "metadata": {
    "slideshow": {
     "slide_type": "slide"
    }
   },
   "outputs": [
    {
     "name": "stdout",
     "output_type": "stream",
     "text": [
      "5\n",
      "5\n",
      "140573565272432\n",
      "140573565272432\n",
      "8\n",
      "5\n",
      "140573565272528\n",
      "140573565272432\n"
     ]
    }
   ],
   "source": [
    "x = 5\n",
    "y = x # Object 5 of type integer is not copied, y is just an alias!\n",
    "print(x)\n",
    "print(y)\n",
    "print(id(x)) # function id() prints out unique object identifier\n",
    "print(id(y))\n",
    "x += 3\n",
    "print(x)\n",
    "print(y)\n",
    "print(id(x))\n",
    "print(id(y))"
   ]
  },
  {
   "cell_type": "code",
   "execution_count": 12,
   "metadata": {
    "slideshow": {
     "slide_type": "slide"
    }
   },
   "outputs": [
    {
     "name": "stdout",
     "output_type": "stream",
     "text": [
      "[2, 3]\n",
      "[2, 3]\n",
      "[0, 1, 2, 3]\n",
      "[1, 2, 3, 4]\n"
     ]
    }
   ],
   "source": [
    "l1 = [1, 2, 3]\n",
    "l2 = l1 # Object [1, 2, 3] of type list is not copied, l2 is just an alias!\n",
    "l3 = l1[:]\n",
    "l4 = l1.copy() # Both [:] slicing notation and copy method create copies\n",
    "l2.pop(0) # Remove (and return) first element of the list\n",
    "l3.insert(0, 0) # Insert 0 as the first element of the list\n",
    "l4.append(4) # Append 4 to the end of the list\n",
    "print(l1)\n",
    "print(l2)\n",
    "print(l3)\n",
    "print(l4)"
   ]
  },
  {
   "cell_type": "markdown",
   "metadata": {
    "slideshow": {
     "slide_type": "slide"
    }
   },
   "source": [
    "## Exercise 2: Working with lists\n",
    "\n",
    "- Below is a shuffled version of the first 11 elements of [Fibonacci sequence](https://en.wikipedia.org/wiki/Fibonacci_number).\n",
    "- Create a copy of the shuffled list;\n",
    "- Remove the last element;\n",
    "- Sort it from smaller integers to larger;\n",
    "- Select the second smallest and the third largest integers in the sequence; Print them out; \n",
    "- Replace them in the list with the string, containing word corresponding to that number (e.g. 'two' for 2);\n",
    "- Print out the results."
   ]
  },
  {
   "cell_type": "code",
   "execution_count": 13,
   "metadata": {
    "slideshow": {
     "slide_type": "slide"
    }
   },
   "outputs": [],
   "source": [
    "# Exercise 2:\n",
    "\n",
    "fib_shuffled = [34, 5, 3, 1, 13, 55, 21, 2, 8, 0, 1]\n",
    "\n",
    "# Your code goes here"
   ]
  },
  {
   "cell_type": "markdown",
   "metadata": {
    "slideshow": {
     "slide_type": "slide"
    }
   },
   "source": [
    "## Week 8 Exercise (unassessed)\n",
    "\n",
    "- Practice working with built-in Python data structures\n"
   ]
  }
 ],
 "metadata": {
  "celltoolbar": "Slideshow",
  "kernelspec": {
   "display_name": "Python 3 (ipykernel)",
   "language": "python",
   "name": "python3"
  },
  "language_info": {
   "codemirror_mode": {
    "name": "ipython",
    "version": 3
   },
   "file_extension": ".py",
   "mimetype": "text/x-python",
   "name": "python",
   "nbconvert_exporter": "python",
   "pygments_lexer": "ipython3",
   "version": "3.10.6"
  }
 },
 "nbformat": 4,
 "nbformat_minor": 4
}
