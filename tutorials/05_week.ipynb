{
 "cells": [
  {
   "cell_type": "code",
   "execution_count": 1,
   "id": "b0271a06",
   "metadata": {
    "slideshow": {
     "slide_type": "skip"
    }
   },
   "outputs": [],
   "source": [
    "options(jupyter.rich_display = FALSE)"
   ]
  },
  {
   "cell_type": "markdown",
   "id": "c56659ee",
   "metadata": {
    "slideshow": {
     "slide_type": "slide"
    }
   },
   "source": [
    "## Week 5 Tutorial: Debugging and Testing in R\n",
    "\n",
    "### POP77001 Computer Programming for Social Scientists\n",
    "\n",
    "##### Module website: [tinyurl.com/POP77001](https://tinyurl.com/POP77001)"
   ]
  },
  {
   "cell_type": "markdown",
   "id": "3f33652d",
   "metadata": {
    "slideshow": {
     "slide_type": "slide"
    }
   },
   "source": [
    "## Debugging with `print()`\n",
    "\n",
    "- `print()` statement can be used to check the internal state of a program during evaluation.\n",
    "- Can be placed in critical parts of code (before or after loops/function calls/objects loading).\n",
    "- For harder cases switch to R debugger."
   ]
  },
  {
   "cell_type": "markdown",
   "id": "637cc95e",
   "metadata": {
    "slideshow": {
     "slide_type": "slide"
    }
   },
   "source": [
    "## Exercise: Debug function for Pearson correlation\n",
    "\n",
    "- See the function for calculating Pearson correlation below.\n",
    "- Recall that sample correlation can be calsulated using this formula:\n",
    "\n",
    "$$\n",
    "r_{xy} = \\frac{\\sum_{i=1}^n (x_i - \\bar{x})(y_i - \\bar{y})}{\\sqrt{\\sum_{i=1}^n (x_i - \\bar{x})^2}\\sqrt{\\sum_{i=1}^n (y_i - \\bar{y})^2}}\n",
    "$$\n",
    "\n",
    "where $\\bar{x}$ and $\\bar{y}$ are the means (averages) of variable $x$ and $y$, respectively.\n",
    "\n",
    "- What do you think is the correlation coefficient between vectors `c(1, 2, 3, 4, 5)` and `c(-3, -5, -7, -9, -11)`?\n",
    "- Check the output of the function, is it correct?\n",
    "- Find and fix any problems that you encounter"
   ]
  },
  {
   "cell_type": "code",
   "execution_count": 2,
   "id": "cf656278",
   "metadata": {
    "slideshow": {
     "slide_type": "slide"
    }
   },
   "outputs": [],
   "source": [
    "pearson <- function(vec_x, vec_y) {\n",
    "  if (!(is.numeric(vec_x) && is.numeric(vec_y))) {\n",
    "    stop(\"Both arguments must be numeric\")\n",
    "  }\n",
    "  \n",
    "  mean_x <- sum(vec_x)/length(vec_x)\n",
    "  mean_y <- sum(vec_y)/length(vec_y)\n",
    "  \n",
    "  numerator <- sum((vec_x - mean_x) * (vec_y - mean_y))\n",
    "  denominator <- (\n",
    "    sum((vec_x - mean_x)^2)^1/2 *\n",
    "      sum((vec_y - mean_y)^2)^1/2\n",
    "  )\n",
    "  \n",
    "  r <- numerator/denominator\n",
    "  \n",
    "  # Make sure that floating point arithmetic does not\n",
    "  # produce absolute values larger than 1\n",
    "  r <- max(min(r, 1.0), -1.0)\n",
    "  \n",
    "  return(r)\n",
    "}"
   ]
  },
  {
   "cell_type": "markdown",
   "id": "a950609f",
   "metadata": {
    "slideshow": {
     "slide_type": "slide"
    }
   },
   "source": [
    "## R debugger\n",
    "\n",
    "- In addition to simply using `print()` function, R offers an interactive source code debugger.\n",
    "- It lets you\n",
    "    - Step through the function at its execution time\n",
    "    - Check the internal state as well as \n",
    "    - Run run arbitrary code in that context\n",
    "    - Set breakpoints when execution pauses for inspection\n",
    "    \n",
    "Extra: [Debugging with the RStudio IDE](https://support.rstudio.com/hc/en-us/articles/205612627-Debugging-with-the-RStudio-IDE)"
   ]
  },
  {
   "cell_type": "markdown",
   "id": "c7726002",
   "metadata": {
    "slideshow": {
     "slide_type": "slide"
    }
   },
   "source": [
    "## R Debugging Facilities\n",
    "\n",
    "- Three functions provide the the main entries into the debugging mode:\n",
    "    - `browser()` - pauses the execution at a dedicated line in code (breakpoint)\n",
    "    - `debug()`/`undebug()` - (un)sets a flag to run function in a debug mode (setting through)\n",
    "    - `debugonce()` - triggers single stepping through a function"
   ]
  },
  {
   "cell_type": "markdown",
   "id": "276a0d90",
   "metadata": {
    "slideshow": {
     "slide_type": "slide"
    }
   },
   "source": [
    "## Breakpoints"
   ]
  },
  {
   "cell_type": "code",
   "execution_count": 3,
   "id": "75c08679",
   "metadata": {
    "slideshow": {
     "slide_type": "fragment"
    }
   },
   "outputs": [],
   "source": [
    "calculate_median <- function(a) {\n",
    "  a <- sort(a)\n",
    "  n <- length(a)\n",
    "  m <- (n + 1) %/% 2\n",
    "  if (n %% 2 == 1) {\n",
    "    med <- a[m]\n",
    "  } else {\n",
    "    browser()\n",
    "    med <- mean(a[m:m+1])\n",
    "  }\n",
    "  return(med)\n",
    "}"
   ]
  },
  {
   "cell_type": "code",
   "execution_count": 4,
   "id": "581fc5d8",
   "metadata": {
    "slideshow": {
     "slide_type": "fragment"
    }
   },
   "outputs": [
    {
     "name": "stdout",
     "output_type": "stream",
     "text": [
      "Called from: calculate_median(v2)\n",
      "debug at <text>#9: med <- mean(a[m:m + 1])\n",
      "debug at <text>#11: return(med)\n"
     ]
    },
    {
     "data": {
      "text/plain": [
       "[1] 2"
      ]
     },
     "metadata": {},
     "output_type": "display_data"
    }
   ],
   "source": [
    "## Example for running in RStudio\n",
    "v2 <- c(0, 1, 2, 2)\n",
    "calculate_median(v2)"
   ]
  },
  {
   "cell_type": "markdown",
   "id": "65914896",
   "metadata": {
    "slideshow": {
     "slide_type": "slide"
    }
   },
   "source": [
    "## Common debugger commands\n",
    "\n",
    "| Command      | Description                                                  |\n",
    "|:-------------|:-------------------------------------------------------------|\n",
    "| `n(ext)`     | Execute next line of the current function                    |\n",
    "| `s(tep)`     | Execute next line, stepping inside the function (if present) |\n",
    "| `c(ontinue)` | Continue execution, only stop when breakpoint in encountered |\n",
    "| `f(inish)`   | Finish execution of the current loop or function             |\n",
    "| `Q(uit)`     | Quit from the debugger, executed program is aborted          |\n"
   ]
  },
  {
   "cell_type": "markdown",
   "id": "655d245e",
   "metadata": {
    "slideshow": {
     "slide_type": "slide"
    }
   },
   "source": [
    "## Debug a function\n",
    "\n",
    "- `debugonce()` function allows to run and step through the function\n",
    "\n",
    "\n",
    "```\n",
    "debugonce(<function_name>, <*args>, <**kwargs>)\n",
    "```"
   ]
  },
  {
   "cell_type": "code",
   "execution_count": 5,
   "id": "82b054b6",
   "metadata": {
    "slideshow": {
     "slide_type": "slide"
    }
   },
   "outputs": [
    {
     "name": "stdout",
     "output_type": "stream",
     "text": [
      "debugging in: calculate_median(v2)\n",
      "debug at <text>#1: {\n",
      "    a <- sort(a)\n",
      "    n <- length(a)\n",
      "    m <- (n + 1)%/%2\n",
      "    if (n%%2 == 1) {\n",
      "        med <- a[m]\n",
      "    }\n",
      "    else {\n",
      "        browser()\n",
      "        med <- mean(a[m:m + 1])\n",
      "    }\n",
      "    return(med)\n",
      "}\n",
      "debug at <text>#2: a <- sort(a)\n",
      "debug at <text>#3: n <- length(a)\n",
      "debug at <text>#4: m <- (n + 1)%/%2\n",
      "debug at <text>#5: if (n%%2 == 1) {\n",
      "    med <- a[m]\n",
      "} else {\n",
      "    browser()\n",
      "    med <- mean(a[m:m + 1])\n",
      "}\n",
      "debug at <text>#8: browser()\n",
      "debug at <text>#9: med <- mean(a[m:m + 1])\n",
      "debug at <text>#11: return(med)\n",
      "exiting from: calculate_median(v2)\n"
     ]
    },
    {
     "data": {
      "text/plain": [
       "[1] 2"
      ]
     },
     "metadata": {},
     "output_type": "display_data"
    }
   ],
   "source": [
    "## Example for running in RStudio\n",
    "debugonce(calculate_median)\n",
    "calculate_median(v2)"
   ]
  },
  {
   "cell_type": "markdown",
   "id": "107b89ef",
   "metadata": {
    "slideshow": {
     "slide_type": "slide"
    }
   },
   "source": [
    "## Exercise: Use built-in debugger to fix a function\n",
    "\n",
    "- Let's look again at the problematic `calculate_median` function from the lecture\n",
    "- Run R debugger and step through it\n",
    "- While inside the function print out the values of m and the result of summation \n",
    "- Fix the bugs"
   ]
  },
  {
   "cell_type": "markdown",
   "id": "0f874b5f",
   "metadata": {
    "slideshow": {
     "slide_type": "slide"
    }
   },
   "source": [
    "## Week 5 Exercise (unassessed)\n",
    "\n",
    "- Create tests for `pearson()` and `calculate_median()` functions that\n",
    "    - Test whether the sign of a calculated pearson correlation is correct\n",
    "    - Test whether median calculated on an array with even number of elements has an absolute difference of no more than 0.0001 from the correct answer"
   ]
  }
 ],
 "metadata": {
  "celltoolbar": "Slideshow",
  "kernelspec": {
   "display_name": "R",
   "language": "R",
   "name": "ir"
  },
  "language_info": {
   "codemirror_mode": "r",
   "file_extension": ".r",
   "mimetype": "text/x-r-source",
   "name": "R",
   "pygments_lexer": "r",
   "version": "4.1.2"
  }
 },
 "nbformat": 4,
 "nbformat_minor": 5
}
