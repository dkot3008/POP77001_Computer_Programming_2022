{
 "cells": [
  {
   "cell_type": "markdown",
   "id": "d1e161d2",
   "metadata": {
    "slideshow": {
     "slide_type": "slide"
    }
   },
   "source": [
    "## Week 1 Tutorial: Introduction to Jupyter, CLI, Git\n",
    "\n",
    "### POP77001 Computer Programming for Social Scientists\n",
    "\n",
    "##### Module website: [tinyurl.com/POP77001](https://tinyurl.com/POP77001)"
   ]
  },
  {
   "cell_type": "markdown",
   "id": "9a0f6d35",
   "metadata": {
    "slideshow": {
     "slide_type": "slide"
    }
   },
   "source": [
    "## Integrated Development Enviroments (IDEs)\n",
    "\n",
    "- There is a number of integrated development environments (*IDE*s) available for:\n",
    "    - R (RStudio) and \n",
    "    - Python (Spyder, PyCharm)\n",
    "- As well as text editors with R/Python-specific extensions (Visual Studio Code, Atom, Sublime Text, Vim)\n",
    "- Try different ones and choose what works best for you!"
   ]
  },
  {
   "cell_type": "markdown",
   "id": "28fdc4ef",
   "metadata": {
    "slideshow": {
     "slide_type": "slide"
    }
   },
   "source": [
    "## Jupyter Notebook\n",
    "\n",
    "- [Jupyter Notebook](https://jupyter-notebook.readthedocs.io/en/latest/) is a language-agnostic web-based interactive computational environment.\n",
    "- It is available with backends (*kernels*) for different programming languages (**Ju**lia, **Py**thon, **R** = **Jupy**te**r**)\n",
    "- Can be used both locally and remotely.\n",
    "- Good for ad-hoc data analysis and visualization."
   ]
  },
  {
   "cell_type": "markdown",
   "id": "f98fe186",
   "metadata": {
    "slideshow": {
     "slide_type": "slide"
    }
   },
   "source": [
    "## Jupyter Notebook Cells\n",
    "\n",
    "- Notebooks allow writing, executing and viewing the output of Python code within the same environment\n",
    "- All notebook files have `.ipynb` extension for **i**nteractive **py**thon **n**ote**b**ook\n",
    "- The main unit of notebook is *cell*, a text input field (Python, Markdown, HTML)\n",
    "- Output of a cell can include text, table or figure"
   ]
  },
  {
   "cell_type": "markdown",
   "id": "dcda7cdb",
   "metadata": {
    "slideshow": {
     "slide_type": "slide"
    }
   },
   "source": [
    "## Jupyter Notebook Installation\n",
    "\n",
    "- There are two main ways to install Jupyter Notebook locally:\n",
    "    - [pip](https://jupyter.readthedocs.io/en/latest/install/notebook-classic.html#alternative-for-experienced-python-users-installing-jupyter-with-pip) and \n",
    "    - [conda](https://jupyter.readthedocs.io/en/latest/install/notebook-classic.html#installing-jupyter-using-anaconda-and-conda)\n",
    "- Unless you have prior experience with Python, I recommend installing [Anaconda](https://www.anaconda.com/products/individual) distribution, which contains all the packages required for this course.\n",
    "- Alternatively, you can try using [Kaggle Code](https://www.kaggle.com/code) or [Google Colab](https://colab.research.google.com/notebooks/intro.ipynb), online platforms for hosting Jupyter Notebooks.\n",
    "- Their interfaces are slightly different and you need to register on Kaggle or have a Google account, but it does not require any local installations.\n",
    "- However, for this module and course more broadly I recommend installing toolchain for working with Jupyter Notebooks locally."
   ]
  },
  {
   "cell_type": "markdown",
   "id": "0244ab97",
   "metadata": {
    "slideshow": {
     "slide_type": "slide"
    }
   },
   "source": [
    "## Starting Jupyter\n",
    "\n",
    "- To start Jupyter, open CLI/Terminal and type `jupyter notebook`\n",
    "- This will open a browser window with Jupyter Notebook displaying the directory, in which you executed the command above.\n",
    "- To create a new notebook press `New` and select `Python` from the drop-down menu\n"
   ]
  },
  {
   "cell_type": "markdown",
   "id": "0f1c7707",
   "metadata": {
    "slideshow": {
     "slide_type": "slide"
    }
   },
   "source": [
    "## Using Jupyter\n",
    "\n",
    "- In order to run a Python command, create a new cell:\n",
    "    - Press ➕ in the toolbar or click `Insert`, `Insert Cell Below` \n",
    "    - Make sure that in the drop-down menu on the toolbar you select `Code`\n",
    "    - Press CTRL+ENTER to run a command\n",
    "- Rather than running a Python command, you can also write Markdown in the cell (e.g. to create slides)\n",
    "    - Select `Markdown` in the drop-down manu on the toolbar\n",
    "    - Write Markdown (check [Markdown Cheatsheet](https://enterprise.github.com/downloads/en/markdown-cheatsheet.pdf))\n",
    "    - Press CTRL+ENTER to render Markdown cell"
   ]
  },
  {
   "cell_type": "markdown",
   "id": "19cb638a",
   "metadata": {
    "slideshow": {
     "slide_type": "slide"
    }
   },
   "source": [
    "## Jupyter Notebook Demonstration\n",
    "\n",
    "![Jupyter Notebook 1](../imgs/jupyter_notebook_1.png)"
   ]
  },
  {
   "cell_type": "markdown",
   "id": "026dc597",
   "metadata": {
    "slideshow": {
     "slide_type": "slide"
    }
   },
   "source": [
    "## Jupyter Notebook Demonstration\n",
    "\n",
    "![Jupyter Notebook 2](../imgs/jupyter_notebook_2.png)"
   ]
  },
  {
   "cell_type": "markdown",
   "id": "be5b234f",
   "metadata": {
    "slideshow": {
     "slide_type": "slide"
    }
   },
   "source": [
    "## Stopping Jupyter Notebook\n",
    "\n",
    "- First, make sure you saved your work (!) by pressing Command+S / CTRL+S\n",
    "- You can close the running notebook by clicking `File` and then `Close and Halt`\n",
    "- Jupyter Notebook runs as a server\n",
    "- Which means that closing its tabs/web browser does not stop it\n",
    "- You need to press `Quit` in the upper right corner of your main Jupyter tab (located at `http://localhost:8888/`)\n",
    "- Alternatively, you can press CTRL+C in the terminal window"
   ]
  },
  {
   "cell_type": "markdown",
   "id": "4763bb82",
   "metadata": {
    "slideshow": {
     "slide_type": "slide"
    }
   },
   "source": [
    "## CLI Examples\n",
    "\n",
    "<table>\n",
    "    <tr>\n",
    "        <td><div><img width=\"300\" src='../imgs/powershell_git_init.png'></div></td>\n",
    "        <td><div><img width=\"300\" src='../imgs/mac_zsh.jpeg'></div></td>\n",
    "        <td><div><img width=\"300\" src='../imgs/bash_git_commit.png'></div></td>\n",
    "    </tr>\n",
    "    <tr>\n",
    "        <td style=\"text-align:center\"><h3>Microsoft PowerShell (Windows)</h3></td>\n",
    "        <td style=\"text-align:center\"><h3>Z shell, zsh (macOS)</h3></td>\n",
    "        <td style=\"text-align:center\"><h3>bash (Linux/UNIX)</h3></td>\n",
    "    </tr>\n",
    "</table>"
   ]
  },
  {
   "cell_type": "markdown",
   "id": "15d710e7",
   "metadata": {
    "slideshow": {
     "slide_type": "slide"
    }
   },
   "source": [
    "## Some Useful CLI Commands\n",
    "\n",
    "| Command (Windows)   | Command (macOS/Linux)   | Description            |\n",
    "|:--------------------|:------------------------|:-----------------------|\n",
    "| `exit`              | `exit`                  | close the window       |\n",
    "| `cd`                | `cd`                    | change directory       |\n",
    "| `cd`                | `pwd`                   | show current directory |\n",
    "| `dir`               | `ls`                    | list directories/files |\n",
    "| `copy`              | `cp`                    | copy file              |\n",
    "| `move`              | `mv`                    | move/rename file       |\n",
    "| `mkdir`             | `mkdir`                 | create a new directory |\n",
    "| `del`               | `rm`                    | delete a file          |\n",
    "\n",
    "\n",
    "Extra: [Introduction to CLI](https://tutorial.djangogirls.org/en/intro_to_command_line/)"
   ]
  },
  {
   "cell_type": "markdown",
   "id": "1f5a843a",
   "metadata": {
    "slideshow": {
     "slide_type": "slide"
    }
   },
   "source": [
    "## Git/GitHub Workflow\n",
    "\n",
    "<div style=\"text-align: center;\">\n",
    "    <img width=\"600\" height=\"600\" src=\"../imgs/git_workflow.png\">\n",
    "</div>"
   ]
  },
  {
   "cell_type": "markdown",
   "id": "08bf74fd",
   "metadata": {
    "slideshow": {
     "slide_type": "slide"
    }
   },
   "source": [
    "## Some Useful Git Commands\n",
    "\n",
    "| Command                            | Description                                                    |\n",
    "|:-----------------------------------|:---------------------------------------------------------------|\n",
    "| `git init <project name>`          | Create a new *local repository*                                |\n",
    "| `git clone <project url>`          | Download a project from *remote repository*                    |\n",
    "| `git status`                       | Check project status                                           |\n",
    "| `git diff <file>`                  | Show changes between *working directory* and *staging area*    |\n",
    "| `git add <file>`                   | Add a file to the *staging area*                               |\n",
    "| `git commit -m “<commit message>”` | Create a new *commit* from changes added to the *staging area* |\n",
    "| `git pull <remote> <branch>`       | Fetch changes from *remote* and merge into *merge*             |\n",
    "| `git push <remote> <branch>`       | Push local branch to *remote repository*                       |\n",
    "\n",
    "\n",
    "Extra: [Git Cheatsheet](https://education.github.com/git-cheat-sheet-education.pdf)"
   ]
  },
  {
   "cell_type": "markdown",
   "id": "733f27c0",
   "metadata": {
    "slideshow": {
     "slide_type": "slide"
    }
   },
   "source": [
    "## Creating local Git repository\n",
    "\n",
    "- Let's create a test project and track changes in it\n",
    "- Create a test directory by typing `mkdir test` in your CLI/Terminal\n",
    "- Go into the newly created directory with `cd test` command\n",
    "- To make Git track changes run `git init` command in this directory\n",
    "- Congratulations! You now have a local repository for your test project"
   ]
  },
  {
   "cell_type": "markdown",
   "id": "cac337b4",
   "metadata": {
    "slideshow": {
     "slide_type": "slide"
    }
   },
   "source": [
    "## Making a commit\n",
    "\n",
    "- Open your text editor of choice (Notepad, Sublime Text, Atom, Visual Studio Code, Vim, Emacs, ...)\n",
    "- Create a file called `test.txt` in your local test repository\n",
    "- Type whatever you like in this file\n",
    "- Add this file to your staging area (make Git aware of its existence) by running `git add test.txt` command\n",
    "- Commit this file to your local repository by running `git commit -m \"Added first file\"`\n",
    "- Note that all files that were added at the previous stage with `git add <file>` would be commited\n",
    "- Check the status of your repository by running `git status` (it should say 'nothing to commit, working tree clean') \n",
    "- Check the history of your repository by running `git log` and make sure that you see your commit"
   ]
  },
  {
   "cell_type": "markdown",
   "id": "ad73c0bc",
   "metadata": {
    "slideshow": {
     "slide_type": "slide"
    }
   },
   "source": [
    "## Remote Git repository: GitHub\n",
    "\n",
    "<img src=\"../imgs/octocat.png\" width=\"200\" height=\"300\">\n",
    "\n",
    "- Hosting platform for projects that rely on Git fo version control\n",
    "- Bought by Microsoft in 2018\n",
    "- Provides extensive tools for collaborative development and search functionality\n",
    "- Helpful for troubleshooting more narrow problems (check [GitHub Issues](https://docs.github.com/en/issues/tracking-your-work-with-issues/about-issues) of the package/library that you have a problem with)\n",
    "- GitHub is far from the only platform for hosting Git projects\n",
    "- Popular alternatives to GitHub include [GitLab](https://about.gitlab.com/) (🇺🇦), [SourceForge](https://sourceforge.net/), ..."
   ]
  },
  {
   "cell_type": "markdown",
   "id": "15ff4fd9",
   "metadata": {
    "slideshow": {
     "slide_type": "slide"
    }
   },
   "source": [
    "## Creating remote repository on GitHub\n",
    "\n",
    "- Register and login into your account on GitHub\n",
    "- Create a [new GitHub repository](https://github.com/new) (choose private repository)\n",
    "- You should see a similar page with the project URL of the form:\n",
    "```\n",
    "https://github.com/<username>/<repository_name>.git\n",
    "```\n",
    "\n",
    "<img src=\"../imgs/github_new_repo.png\" width=\"600\" height=\"400\">"
   ]
  },
  {
   "cell_type": "markdown",
   "id": "27bb4f05",
   "metadata": {
    "slideshow": {
     "slide_type": "slide"
    }
   },
   "source": [
    "## Synchronising local Git repository with GitHub\n",
    "\n",
    "- Go to your local Git repository (the one created in the previous step)\n",
    "- Add link from your local Git repository to remote repository on GitHub by running:\n",
    "```\n",
    "git remote add origin <project_url>\n",
    "```\n",
    "    - where:\n",
    "        - `git remote add` is the command,\n",
    "        - `origin` is the name given to this link (`<remote>`), and\n",
    "        - `<project_url>` is the URL of the repository on GitHub\n",
    "- Check the status of links between your local Git repository and remotes by running `git remote -v`\n",
    "    - where:\n",
    "        - `git remote` is the command, and\n",
    "        - `-v` is the argument 'verbose'"
   ]
  },
  {
   "cell_type": "markdown",
   "id": "228867ab",
   "metadata": {
    "slideshow": {
     "slide_type": "slide"
    }
   },
   "source": [
    "## Pushing local Git changes to GitHub\n",
    "\n",
    "- Your local Git repository is now linked to the remote repository hosted on GitHub.\n",
    "- Let's bring the changes made locally to the remote repository.\n",
    "- We will use the `git push` command for that.\n",
    "- One last thing to check before doing so is which branch we are currently on.\n",
    "- Run `git branch` to see the name of the branch you are on (it would be 'master' or 'main')\n",
    "- Finally, run `git push <remote> <branch>` (e.g. `git push origin master`)\n",
    "    - where:\n",
    "        - `git push` is the command,\n",
    "        - `<remote>` is the name of the remote link, and\n",
    "        - `<branch>` is the name of the branch.\n",
    "- Visit your GitHub repository to check that your commit is reflected there."
   ]
  },
  {
   "cell_type": "markdown",
   "id": "33bbf969",
   "metadata": {
    "slideshow": {
     "slide_type": "slide"
    }
   },
   "source": [
    "## Cloning module repository\n",
    "\n",
    "- All module materials are hosted on GitHub in this [repo](https://github.com/ASDS-TCD/POP77001_Computer_Programming_2021)\n",
    "- You can clone this repository to your local machine by running:\n",
    "```\n",
    "git clone https://github.com/ASDS-TCD/POP77001_Computer_Programming_2022\n",
    "```\n",
    "- This will create a folder called `POP77001_Computer_Programming_2022` within the directory where you ran this command\n",
    "- To keep up to date with changes in the remote repository you can run:\n",
    "```\n",
    "git pull origin main\n",
    "```\n",
    "- Where\n",
    "    - `origin` is the remote address of the repository - `https://github.com/ASDS-TCD/POP77001_Computer_Programming_2022`\n",
    "    - `main` is the name of the branch (recall the discussion about `main`/`master` change from the lecture)"
   ]
  },
  {
   "cell_type": "markdown",
   "id": "450ee741",
   "metadata": {
    "slideshow": {
     "slide_type": "slide"
    }
   },
   "source": [
    "## Week 1 Exercise (Unassessed)\n",
    "\n",
    "- Create a Jupyter notebook in your local repository\n",
    "- Commit it to your local repository in the same way as `test.txt` file"
   ]
  }
 ],
 "metadata": {
  "celltoolbar": "Slideshow",
  "kernelspec": {
   "display_name": "Python 3 (ipykernel)",
   "language": "python",
   "name": "python3"
  },
  "language_info": {
   "codemirror_mode": {
    "name": "ipython",
    "version": 3
   },
   "file_extension": ".py",
   "mimetype": "text/x-python",
   "name": "python",
   "nbconvert_exporter": "python",
   "pygments_lexer": "ipython3",
   "version": "3.10.4"
  }
 },
 "nbformat": 4,
 "nbformat_minor": 5
}
