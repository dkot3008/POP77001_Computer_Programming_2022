{
 "cells": [
  {
   "cell_type": "markdown",
   "id": "bb42244c",
   "metadata": {
    "slideshow": {
     "slide_type": "slide"
    }
   },
   "source": [
    "## Week 9 Tutorial: Fundamentals of Python Programming II\n",
    "\n",
    "### POP77001 Computer Programming for Social Scientists\n",
    "\n",
    "##### Module website: [tinyurl.com/POP77001](https://tinyurl.com/POP77001)"
   ]
  },
  {
   "cell_type": "markdown",
   "id": "d7720f8a",
   "metadata": {
    "slideshow": {
     "slide_type": "slide"
    }
   },
   "source": [
    "## Indentation\n",
    "\n",
    "- Use tabs (1 tab) or spaces (4) consistently in your code\n",
    "- Python also permits mixing of different indentation levels, avoid it for legibility 📜\n"
   ]
  },
  {
   "cell_type": "code",
   "execution_count": 1,
   "id": "9098b234",
   "metadata": {
    "slideshow": {
     "slide_type": "fragment"
    }
   },
   "outputs": [
    {
     "name": "stdout",
     "output_type": "stream",
     "text": [
      "0 1 2 3 4 "
     ]
    }
   ],
   "source": [
    "# Only for illustration purposes, do not do in practice!\n",
    "# 2 spaces before print() statement\n",
    "for i in range(5):\n",
    "  print(i, end = ' ')"
   ]
  },
  {
   "cell_type": "code",
   "execution_count": 2,
   "id": "c87cc831",
   "metadata": {
    "slideshow": {
     "slide_type": "fragment"
    }
   },
   "outputs": [
    {
     "name": "stdout",
     "output_type": "stream",
     "text": [
      "0 1 2 3 4 "
     ]
    }
   ],
   "source": [
    "# 4 spaces before print() statement\n",
    "for i in range(5):\n",
    "    print(i, end = ' ')"
   ]
  },
  {
   "cell_type": "markdown",
   "id": "a213348d",
   "metadata": {
    "slideshow": {
     "slide_type": "slide"
    }
   },
   "source": [
    "## Indentation and readability\n",
    "\n",
    "- Main rule, be consistent!\n",
    "- Think not just whether Python throws an error, but also readability\n"
   ]
  },
  {
   "cell_type": "code",
   "execution_count": 3,
   "id": "8cfc61ee",
   "metadata": {
    "slideshow": {
     "slide_type": "fragment"
    }
   },
   "outputs": [
    {
     "name": "stdout",
     "output_type": "stream",
     "text": [
      "1\n",
      "1\n",
      "5\n",
      "End\n"
     ]
    }
   ],
   "source": [
    "# This is semantically valid, but is badly styled\n",
    "l = [0, 1, 1, 5]\n",
    "for i in l:\n",
    "  if i % 2 == 1: # 2 spaces\n",
    "        print(i) # 6 spaces\n",
    "print('End')"
   ]
  },
  {
   "cell_type": "markdown",
   "id": "6e7af1af",
   "metadata": {
    "slideshow": {
     "slide_type": "slide"
    }
   },
   "source": [
    "## Check whether object is iterable\n",
    "\n",
    "- An object is an iterable if it has `__iter__` method that can be called with `iter()` function\n"
   ]
  },
  {
   "cell_type": "code",
   "execution_count": 4,
   "id": "1f48f1a4",
   "metadata": {
    "slideshow": {
     "slide_type": "fragment"
    }
   },
   "outputs": [
    {
     "ename": "TypeError",
     "evalue": "'int' object is not iterable",
     "output_type": "error",
     "traceback": [
      "\u001b[0;31m---------------------------------------------------------------------------\u001b[0m",
      "\u001b[0;31mTypeError\u001b[0m                                 Traceback (most recent call last)",
      "Input \u001b[0;32mIn [4]\u001b[0m, in \u001b[0;36m<cell line: 2>\u001b[0;34m()\u001b[0m\n\u001b[1;32m      1\u001b[0m x \u001b[38;5;241m=\u001b[39m \u001b[38;5;241m3\u001b[39m\n\u001b[0;32m----> 2\u001b[0m \u001b[38;5;28;43miter\u001b[39;49m\u001b[43m(\u001b[49m\u001b[43mx\u001b[49m\u001b[43m)\u001b[49m\n",
      "\u001b[0;31mTypeError\u001b[0m: 'int' object is not iterable"
     ]
    }
   ],
   "source": [
    "x = 3\n",
    "iter(x)"
   ]
  },
  {
   "cell_type": "code",
   "execution_count": 5,
   "id": "5f7f23ea",
   "metadata": {
    "slideshow": {
     "slide_type": "fragment"
    }
   },
   "outputs": [
    {
     "data": {
      "text/plain": [
       "<str_iterator at 0x7ff44c13fb50>"
      ]
     },
     "execution_count": 5,
     "metadata": {},
     "output_type": "execute_result"
    }
   ],
   "source": [
    "y = 'abc'\n",
    "iter(y)"
   ]
  },
  {
   "cell_type": "markdown",
   "id": "eae25fcf",
   "metadata": {
    "slideshow": {
     "slide_type": "slide"
    }
   },
   "source": [
    "## Iteration over dictionaries\n",
    "\n",
    "- `items()` method allows to iterate over keys and values in a dictionary\n",
    "- `keys()` method allows to iterate over just keys\n",
    "- `values()` method allow to iterate over just values"
   ]
  },
  {
   "cell_type": "code",
   "execution_count": 6,
   "id": "0000e29f",
   "metadata": {
    "slideshow": {
     "slide_type": "fragment"
    }
   },
   "outputs": [],
   "source": [
    "d = {'apple': 150.0, 'banana': 120.0, 'watermelon': 3000.0}"
   ]
  },
  {
   "cell_type": "code",
   "execution_count": 7,
   "id": "f5394edb",
   "metadata": {
    "slideshow": {
     "slide_type": "fragment"
    }
   },
   "outputs": [
    {
     "name": "stdout",
     "output_type": "stream",
     "text": [
      "APPLE 150\n",
      "BANANA 120\n",
      "WATERMELON 3000\n"
     ]
    }
   ],
   "source": [
    "for k, v in d.items():\n",
    "    print(k.upper(), int(v))"
   ]
  },
  {
   "cell_type": "code",
   "execution_count": 8,
   "id": "9003e4b1",
   "metadata": {
    "slideshow": {
     "slide_type": "fragment"
    }
   },
   "outputs": [
    {
     "name": "stdout",
     "output_type": "stream",
     "text": [
      "Apple\n",
      "Banana\n",
      "Watermelon\n"
     ]
    }
   ],
   "source": [
    "for k in d.keys():\n",
    "    print(k.title())"
   ]
  },
  {
   "cell_type": "code",
   "execution_count": 9,
   "id": "81d74d21",
   "metadata": {
    "slideshow": {
     "slide_type": "fragment"
    }
   },
   "outputs": [
    {
     "name": "stdout",
     "output_type": "stream",
     "text": [
      "0.15 kg\n",
      "0.12 kg\n",
      "3.0 kg\n"
     ]
    }
   ],
   "source": [
    "for v in d.values():\n",
    "    print(str(v/1000) + ' kg')"
   ]
  },
  {
   "cell_type": "markdown",
   "id": "b227bf0e",
   "metadata": {
    "slideshow": {
     "slide_type": "slide"
    }
   },
   "source": [
    "## List comprehensions\n",
    "\n",
    "- The same iteration can often be implemented with `for`loop block or list comprehension\n",
    "- The choice is often between less typing, speed (🏎️) and legibility (📜)\n",
    "\n",
    "```\n",
    "[<expr> for <elem> in <iterable>]\n",
    "[<expr> for <elem> in <iterable> if <test>]\n",
    "[<expr> for <elem1> in <iterable1> for <elem2> in <iterable2>]\n",
    "```\n"
   ]
  },
  {
   "cell_type": "markdown",
   "id": "0a68b370",
   "metadata": {
    "slideshow": {
     "slide_type": "slide"
    }
   },
   "source": [
    "## Exercise 1: List comprehensions and `for` loops\n",
    "\n",
    "- Consider a list of [International vehicle registration codes](https://en.wikipedia.org/wiki/International_vehicle_registration_code) below.\n",
    "- Suppose we want to create a list where each element is the length of each string in this list.\n",
    "- First, implement it using a `for` loop.\n",
    "- Now try doing the same using a list comprehension.\n",
    "- Finally, modify the list comprehension to keep only those elements that start with D.\n",
    "- You can use string method `startswith` for the last task. "
   ]
  },
  {
   "cell_type": "code",
   "execution_count": 10,
   "id": "cb049554",
   "metadata": {
    "slideshow": {
     "slide_type": "fragment"
    }
   },
   "outputs": [],
   "source": [
    "l = ['D', 'DK', 'EST', 'F', 'IRL', 'MD', 'NL', 'S', 'UK']"
   ]
  },
  {
   "cell_type": "markdown",
   "id": "70c04132",
   "metadata": {
    "slideshow": {
     "slide_type": "slide"
    }
   },
   "source": [
    "## Set and dictionary comprehensions\n",
    "\n",
    "- Analogous to list, sets and dictionaries have their own concise ways of iterating over them\n",
    "- Note that iterating over them tends to be slower than over lists (🏎️)\n",
    "\n",
    "```\n",
    "{<expr> for <elem> in <iterable> if <test>}\n",
    "{<key>: <value> for <elem1>, <elem2> in <iterable> if <test>}\n",
    "```\n"
   ]
  },
  {
   "cell_type": "code",
   "execution_count": 14,
   "id": "5361779a",
   "metadata": {
    "slideshow": {
     "slide_type": "fragment"
    }
   },
   "outputs": [
    {
     "data": {
      "text/plain": [
       "{'A - apple', 'B - banana', 'W - watermelon'}"
      ]
     },
     "execution_count": 14,
     "metadata": {},
     "output_type": "execute_result"
    }
   ],
   "source": [
    "o = {'apple', 'banana', 'watermelon'}\n",
    "{e[0].title() + ' - ' + e for e in o}"
   ]
  },
  {
   "cell_type": "code",
   "execution_count": 15,
   "id": "4aa726b1",
   "metadata": {
    "slideshow": {
     "slide_type": "fragment"
    }
   },
   "outputs": [
    {
     "data": {
      "text/plain": [
       "{'APPLE': 150, 'BANANA': 120, 'WATERMELON': 3000}"
      ]
     },
     "execution_count": 15,
     "metadata": {},
     "output_type": "execute_result"
    }
   ],
   "source": [
    "d = {'apple': 150.0, 'banana': 120.0, 'watermelon': 3000.0}\n",
    "{k.upper(): int(v) for k, v in d.items()}"
   ]
  },
  {
   "cell_type": "markdown",
   "id": "37f81fe0",
   "metadata": {
    "slideshow": {
     "slide_type": "slide"
    }
   },
   "source": [
    "## Note of caution\n",
    "\n",
    "- Avoid modifying a sequence that you are iterating over\n",
    "- This can lead to unexpected results\n"
   ]
  },
  {
   "cell_type": "code",
   "execution_count": 16,
   "id": "d6e76f7e",
   "metadata": {
    "slideshow": {
     "slide_type": "fragment"
    }
   },
   "outputs": [
    {
     "data": {
      "text/plain": [
       "[1, 2, 3, 4, 5, 6, 7, 8, 9, 10]"
      ]
     },
     "execution_count": 16,
     "metadata": {},
     "output_type": "execute_result"
    }
   ],
   "source": [
    "l = [x for x in range(1,11)]\n",
    "l"
   ]
  },
  {
   "cell_type": "code",
   "execution_count": 17,
   "id": "e95c7cf9",
   "metadata": {
    "scrolled": true,
    "slideshow": {
     "slide_type": "fragment"
    }
   },
   "outputs": [
    {
     "name": "stdout",
     "output_type": "stream",
     "text": [
      "Element - 1\n",
      "Length = 10\n",
      "Element - 2\n",
      "Length = 9\n",
      "Element - 4\n",
      "Length = 8\n",
      "Element - 5\n",
      "Length = 8\n",
      "Element - 7\n",
      "Length = 8\n",
      "Element - 8\n"
     ]
    },
    {
     "ename": "IndexError",
     "evalue": "pop index out of range",
     "output_type": "error",
     "traceback": [
      "\u001b[0;31m---------------------------------------------------------------------------\u001b[0m",
      "\u001b[0;31mIndexError\u001b[0m                                Traceback (most recent call last)",
      "Input \u001b[0;32mIn [17]\u001b[0m, in \u001b[0;36m<cell line: 1>\u001b[0;34m()\u001b[0m\n\u001b[1;32m      2\u001b[0m \u001b[38;5;28mprint\u001b[39m(\u001b[38;5;124m'\u001b[39m\u001b[38;5;124mElement - \u001b[39m\u001b[38;5;124m'\u001b[39m \u001b[38;5;241m+\u001b[39m \u001b[38;5;28mstr\u001b[39m(i))\n\u001b[1;32m      3\u001b[0m \u001b[38;5;28;01mif\u001b[39;00m i \u001b[38;5;241m%\u001b[39m \u001b[38;5;241m2\u001b[39m \u001b[38;5;241m==\u001b[39m \u001b[38;5;241m0\u001b[39m:\n\u001b[0;32m----> 4\u001b[0m     \u001b[43ml\u001b[49m\u001b[38;5;241;43m.\u001b[39;49m\u001b[43mpop\u001b[49m\u001b[43m(\u001b[49m\u001b[43mi\u001b[49m\u001b[43m)\u001b[49m\n\u001b[1;32m      5\u001b[0m \u001b[38;5;28mprint\u001b[39m(\u001b[38;5;124m'\u001b[39m\u001b[38;5;124mLength = \u001b[39m\u001b[38;5;124m'\u001b[39m \u001b[38;5;241m+\u001b[39m \u001b[38;5;28mstr\u001b[39m(\u001b[38;5;28mlen\u001b[39m(l)))\n",
      "\u001b[0;31mIndexError\u001b[0m: pop index out of range"
     ]
    }
   ],
   "source": [
    "for i in l:\n",
    "    print('Element - ' + str(i))\n",
    "    if i % 2 == 0:\n",
    "        l.pop(i)\n",
    "    print('Length = ' + str(len(l)))"
   ]
  },
  {
   "cell_type": "markdown",
   "id": "f5f0d54a",
   "metadata": {
    "slideshow": {
     "slide_type": "slide"
    }
   },
   "source": [
    "## Docstring\n",
    "\n",
    "- Docstring provides a standardized way of documenting functionality\n",
    "- It is defined as a first statement in module, function, class, or method definition\n",
    "- Docstring is accessible with `help()` function\n",
    "- It also creates a special `__doc__` attribute\n",
    "\n",
    "Extra: [Python documentation on docstring](https://docs.python.org/3/tutorial/controlflow.html#documentation-strings)"
   ]
  },
  {
   "cell_type": "markdown",
   "id": "b86497cd",
   "metadata": {
    "slideshow": {
     "slide_type": "slide"
    }
   },
   "source": [
    "## One-line docstrings\n",
    "\n",
    "- In the simplest case, docstrings can take only one line\n",
    "\n",
    "```\n",
    "def <function_name>(arg_1, arg_2, ..., arg_n):\n",
    "    \"\"\"<docstring>\"\"\"\n",
    "    <function_body>\n",
    "```"
   ]
  },
  {
   "cell_type": "code",
   "execution_count": 18,
   "id": "734c78f2",
   "metadata": {
    "slideshow": {
     "slide_type": "fragment"
    }
   },
   "outputs": [],
   "source": [
    "def add_one(x):\n",
    "    \"\"\"Adds 1 to numeric input\"\"\"\n",
    "    return x + 1"
   ]
  },
  {
   "cell_type": "code",
   "execution_count": 19,
   "id": "98c8e444",
   "metadata": {
    "slideshow": {
     "slide_type": "fragment"
    }
   },
   "outputs": [
    {
     "name": "stdout",
     "output_type": "stream",
     "text": [
      "Help on function add_one in module __main__:\n",
      "\n",
      "add_one(x)\n",
      "    Adds 1 to numeric input\n",
      "\n"
     ]
    }
   ],
   "source": [
    "help(add_one)"
   ]
  },
  {
   "cell_type": "code",
   "execution_count": 20,
   "id": "403b1489",
   "metadata": {
    "slideshow": {
     "slide_type": "fragment"
    }
   },
   "outputs": [
    {
     "data": {
      "text/plain": [
       "'Adds 1 to numeric input'"
      ]
     },
     "execution_count": 20,
     "metadata": {},
     "output_type": "execute_result"
    }
   ],
   "source": [
    "add_one.__doc__"
   ]
  },
  {
   "cell_type": "markdown",
   "id": "885fe75b",
   "metadata": {
    "slideshow": {
     "slide_type": "slide"
    }
   },
   "source": [
    "## Multi-line docstrings\n",
    "\n",
    "- A more elaborate docstring would consist of a single summary line, followed by a blank line, followed by a longer description of inputs, arguments and output\n",
    "\n",
    "```\n",
    "def <function_name>(arg_1, arg_2, ..., arg_n):\n",
    "    \"\"\"<summary_docstring>\n",
    "    \n",
    "    <longer_description>\n",
    "    \"\"\"\n",
    "    <function_body>\n",
    "```"
   ]
  },
  {
   "cell_type": "code",
   "execution_count": 21,
   "id": "91be3ad6",
   "metadata": {
    "slideshow": {
     "slide_type": "fragment"
    }
   },
   "outputs": [],
   "source": [
    "def even_or_odd(num):\n",
    "    \"\"\"Check whether the number is even or odd\n",
    "\n",
    "    Takes an integer as input\n",
    "    Returns the result as a string\n",
    "    \"\"\"\n",
    "    if num % 2 == 0:\n",
    "        return 'even'\n",
    "    else:\n",
    "        return 'odd'"
   ]
  },
  {
   "cell_type": "code",
   "execution_count": 22,
   "id": "43762731",
   "metadata": {
    "slideshow": {
     "slide_type": "fragment"
    }
   },
   "outputs": [
    {
     "name": "stdout",
     "output_type": "stream",
     "text": [
      "Help on function even_or_odd in module __main__:\n",
      "\n",
      "even_or_odd(num)\n",
      "    Check whether the number is even or odd\n",
      "    \n",
      "    Takes an integer as input\n",
      "    Returns the result as a string\n",
      "\n"
     ]
    }
   ],
   "source": [
    "help(even_or_odd)"
   ]
  },
  {
   "cell_type": "markdown",
   "id": "159332d8",
   "metadata": {
    "slideshow": {
     "slide_type": "slide"
    }
   },
   "source": [
    "## Exercise 2: Functions\n",
    "\n",
    "- Most functions for calculating summary statistics would be available in separate packages (built-in `statistics` and external `numpy`).\n",
    "- But it is helpful to try programming some of those yourself to understand the internal working.\n",
    "- Modify the function definition below according to its docstring specification.\n",
    "- You can use function `round` for rounding. \n",
    "- Try your function with `0.1, 2.7, 3.5, 4, 5.98` supplied as arguments."
   ]
  },
  {
   "cell_type": "code",
   "execution_count": 23,
   "id": "8bc3ab93",
   "metadata": {
    "slideshow": {
     "slide_type": "fragment"
    }
   },
   "outputs": [],
   "source": [
    "def calculate_mean():\n",
    "    \"\"\"\n",
    "    Calculates mean\n",
    "    \n",
    "    Takes any number of numeric arguments as an input.\n",
    "    Returns mean rounded to two decimal place.\n",
    "    \"\"\"\n",
    "    pass"
   ]
  },
  {
   "cell_type": "markdown",
   "id": "8540c2dc",
   "metadata": {
    "slideshow": {
     "slide_type": "slide"
    }
   },
   "source": [
    "## Week 9: Assignment 3\n",
    "\n",
    "- Python Fundamentals and Control Flow\n",
    "- Due by 12:00 on Monday, 14th November\n"
   ]
  }
 ],
 "metadata": {
  "celltoolbar": "Slideshow",
  "kernelspec": {
   "display_name": "Python 3 (ipykernel)",
   "language": "python",
   "name": "python3"
  },
  "language_info": {
   "codemirror_mode": {
    "name": "ipython",
    "version": 3
   },
   "file_extension": ".py",
   "mimetype": "text/x-python",
   "name": "python",
   "nbconvert_exporter": "python",
   "pygments_lexer": "ipython3",
   "version": "3.10.6"
  }
 },
 "nbformat": 4,
 "nbformat_minor": 5
}
