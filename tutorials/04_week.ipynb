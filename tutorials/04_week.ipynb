{
 "cells": [
  {
   "cell_type": "code",
   "execution_count": 1,
   "id": "83ae7fc0",
   "metadata": {
    "slideshow": {
     "slide_type": "skip"
    }
   },
   "outputs": [],
   "source": [
    "options(jupyter.rich_display = FALSE)"
   ]
  },
  {
   "cell_type": "markdown",
   "id": "7bc52a16",
   "metadata": {
    "slideshow": {
     "slide_type": "slide"
    }
   },
   "source": [
    "## Week 4 Tutorial: Functions in R\n",
    "\n",
    "### POP77001 Computer Programming for Social Scientists\n",
    "\n",
    "##### Module website: [tinyurl.com/POP77001](https://tinyurl.com/POP77001)"
   ]
  },
  {
   "cell_type": "markdown",
   "id": "81f47a61",
   "metadata": {
    "slideshow": {
     "slide_type": "slide"
    }
   },
   "source": [
    "## Exercise 1: Functionals\n",
    "\n",
    "- As R is a functional language, many of iteration routines can be avoided.\n",
    "- For example, instead of creating a loop for calculating standard deviations,\n",
    "- We are more likely to run a function `apply(<object_name>, 2, <function_name>)` to calculate the desired summary statistic for each of the variables (more on the `apply`-family of function in the next lecture)\n",
    "- Apply this function to the matrix from the exercise above\n",
    "- Now, change 2 in the function call to 1\n",
    "- What do you see? What do the current numbers show? Does this summary make sense and why?\n"
   ]
  },
  {
   "cell_type": "code",
   "execution_count": 2,
   "id": "a0fc389c",
   "metadata": {
    "slideshow": {
     "slide_type": "slide"
    }
   },
   "outputs": [],
   "source": [
    "# When dealing with random number generation it's always a good idea to make your code replicable\n",
    "# by setting the seed with set.seed(function)\n",
    "set.seed(2022)\n",
    "# Here we create a matrix of 30 observations of 5 variables\n",
    "# where each variable is a random draw from a normal distribution with mean 0\n",
    "# and standard deviation drawn from a uniform distribution between 0 and 10\n",
    "mat <- mapply(\n",
    "  function(x) cbind(rnorm(n = 30, mean = 0, sd = x)),\n",
    "  runif(n = 5, min = 0, max = 10)\n",
    ")"
   ]
  },
  {
   "cell_type": "markdown",
   "id": "6a4597fc",
   "metadata": {
    "slideshow": {
     "slide_type": "slide"
    }
   },
   "source": [
    "## Exercise 2: Functions\n",
    "\n",
    "- Let's turn to a more complicated case\n",
    "- Below you can see another matrix object, but this time it's interspersed with letters\n",
    "- What is the type of this matrix?\n",
    "- Write a function that can take this matrix as an input and return a list, where each element is a column of the input matrix\n",
    "- Internally, you can re-use the loop from the previous exercise\n",
    "- In addition to that while building iteratively your list try checking whether a column is coercible into numeric\n"
   ]
  },
  {
   "cell_type": "code",
   "execution_count": 3,
   "id": "2843a28c",
   "metadata": {
    "slideshow": {
     "slide_type": "slide"
    }
   },
   "outputs": [],
   "source": [
    "set.seed(2022)\n",
    "mat2 <- cbind(\n",
    "  letters[sample.int(26, 30, replace = TRUE)],\n",
    "  mapply(\n",
    "    function(x) cbind(rnorm(n = 30, mean = 0, sd = x)),\n",
    "    runif(n = 3, min = 0, max = 10)\n",
    "  ),\n",
    "  letters[sample.int(26, 30, replace = TRUE)]\n",
    ")"
   ]
  },
  {
   "cell_type": "code",
   "execution_count": 4,
   "id": "792fc049",
   "metadata": {
    "slideshow": {
     "slide_type": "fragment"
    }
   },
   "outputs": [
    {
     "data": {
      "text/plain": [
       "      [,1] [,2]               [,3]              [,4]               [,5]\n",
       " [1,] d    -1.18038087560726  -6.35184665056099 6.40134796701126   m   \n",
       " [2,] s    0.49529520398723   6.74999582453749  -5.67291751886482  r   \n",
       " [3,] n    -10.2849100043719  -6.23965061855095 2.70341606363033   b   \n",
       " [4,] w    2.62732832875833   -10.5186212910135 13.8813647485628   k   \n",
       " [5,] k    8.43376420072048   16.3743593545264  -7.8585480864295   n   \n",
       " [6,] d    -4.56831676756726  -1.95939289876253 -2.46588659574889  n   \n",
       " [7,] f    -2.68968793100288  -6.95025762066981 -6.26737322066414  c   \n",
       " [8,] n    1.55814851853814   1.19113955364451  -5.03458919964578  c   \n",
       " [9,] i    -1.49656012347671  2.36220905755359  -7.06204424730322  w   \n",
       "[10,] n    -8.64174792519736  7.25922555444158  -8.82859653138437  i   \n",
       "[11,] x    0.749092161247225  -2.31381454242788 -2.8924570540189   e   \n",
       "[12,] g    7.37151938929682   -17.4648972554125 -0.177644057165499 f   \n",
       "[13,] r    7.76884834394794   7.77677627002097  0.441209263473649  x   \n",
       "[14,] w    -0.836063579899988 -0.14532187496821 1.97463768558201   u   \n",
       "[15,] p    1.90990584101331   7.26740737092216  1.58461835019273   r   \n",
       "[16,] v    8.95418325823365   1.03116490722944  3.3264022853443    w   \n",
       "[17,] e    6.22613780959343   0.170670024252898 4.57390365185961   e   \n",
       "[18,] a    -11.9471881659684  -12.4377759555859 10.1655455533422   r   \n",
       "[19,] s    5.26996913144926   12.1976453254292  -2.64852372481398  q   \n",
       "[20,] a    -0.388245533741773 9.64587283453951  5.48281803878708   t   \n",
       "[21,] b    -1.94462263945741  4.04888577912626  -7.52743494250888  z   \n",
       "[22,] z    5.15893083495564   -15.9629773401936 -1.96782401847592  b   \n",
       "[23,] g    -2.07811859604411  2.82431456786277  3.44807024593204   s   \n",
       "[24,] l    -5.90207697263666  13.5908867575834  -1.91914241570014  e   \n",
       "[25,] o    7.01802933488993   -1.47137005936308 -4.83297911438436  s   \n",
       "[26,] l    -7.95447536414454  9.93418123747122  -1.07389204883653  o   \n",
       "[27,] f    -0.803952437964523 10.3718098501839  -8.18151658079567  c   \n",
       "[28,] g    -4.72580786636363  10.3439444385745  -2.22643709234608  n   \n",
       "[29,] v    18.766051380095    -12.4676043292818 6.16945980335172   c   \n",
       "[30,] e    5.32251081590793   4.70062748355917  -2.82576239687087  q   "
      ]
     },
     "metadata": {},
     "output_type": "display_data"
    }
   ],
   "source": [
    "mat2"
   ]
  },
  {
   "cell_type": "markdown",
   "id": "ecc99852",
   "metadata": {
    "slideshow": {
     "slide_type": "slide"
    }
   },
   "source": [
    "## Week 4\n",
    "\n",
    "- Practice functions in R"
   ]
  }
 ],
 "metadata": {
  "celltoolbar": "Slideshow",
  "kernelspec": {
   "display_name": "R",
   "language": "R",
   "name": "ir"
  },
  "language_info": {
   "codemirror_mode": "r",
   "file_extension": ".r",
   "mimetype": "text/x-r-source",
   "name": "R",
   "pygments_lexer": "r",
   "version": "4.1.2"
  }
 },
 "nbformat": 4,
 "nbformat_minor": 5
}
